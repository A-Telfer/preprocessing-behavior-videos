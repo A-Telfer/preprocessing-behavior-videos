{
 "cells": [
  {
   "cell_type": "markdown",
   "metadata": {},
   "source": [
    "# Transcoding Large Experiments\n",
    "\n",
    "## What is transcoding and why do we do it?\n",
    "Transcoding is the process of converting video from one format to another. \n",
    "\n",
    "In behavior, this is useful because videos directly from cameras are often overly large. By transcoding we can reduce the size of videos by half or more. Additionally, we can also resize videos (e.g. from 4K resolution to 720p), remove sound, and perform other useful functions. \n",
    "\n",
    "In some cases, I have shrunk experiments of over 100GB to <2GB with no difference to scoring. This makes using automated tools, such as deeplabcut, a lot faster. Furthermore it's a lot easier to transfer the files around to students or publish them online. \n",
    "\n",
    "## What's covered here\n",
    "Here we explore a large experiment with an inconsistent structure\n",
    "- Finding all of the relevant videos\n",
    "- Getting high level details from them to later verify everything was copied correctly (such as time)\n",
    "- Transcoding them into a new folder using `ffmpeg`"
   ]
  },
  {
   "cell_type": "code",
   "execution_count": null,
   "metadata": {},
   "outputs": [],
   "source": []
  },
  {
   "cell_type": "markdown",
   "metadata": {},
   "source": []
  }
 ],
 "metadata": {
  "interpreter": {
   "hash": "cceb7e62ec42f2dc5b5fcff4aed696a276829fd39ccda8ea78569f47af8a9236"
  },
  "kernelspec": {
   "display_name": "Python 3.9.12 ('base')",
   "language": "python",
   "name": "python3"
  },
  "language_info": {
   "name": "python",
   "version": "3.9.12"
  },
  "orig_nbformat": 4
 },
 "nbformat": 4,
 "nbformat_minor": 2
}
