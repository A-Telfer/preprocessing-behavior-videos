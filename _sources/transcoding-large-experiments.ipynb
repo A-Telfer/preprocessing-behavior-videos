{
 "cells": [
  {
   "cell_type": "markdown",
   "metadata": {},
   "source": [
    "# Transcoding a Large Experiment\n",
    "Contact: andretelfer@cmail.carleton.ca\n",
    "\n",
    "## Introduction\n",
    "### What is transcoding and why do we do it?\n",
    "Transcoding is the process of converting video from one format to another. \n",
    "\n",
    "In behavior, this is useful because videos directly from cameras are often overly large. By transcoding we can reduce the size of videos by half or more. Additionally, we can also resize videos (e.g. from 4K resolution to 720p), remove sound, and perform other useful functions. \n",
    "\n",
    "In some cases, I have shrunk experiments of over 100GB to <2GB with no difference to scoring. This makes using automated tools, such as deeplabcut, a lot faster. Furthermore it's a lot easier to transfer the files around to students or publish them online. \n",
    "\n",
    "### What's covered here\n",
    "Here we explore a large experiment with an inconsistent structure and lots of irrelevant data\n",
    "\n",
    "We're going to focus on a few main tasks\n",
    "1. Exploring the file systems: Finding all of the relevant videos\n",
    "2. Video details: Getting high level details from them to later verify everything was copied correctly (such as time). We also want to see if the videos themselves are very different and need lots of preprocessing.\n",
    "3. Transcoding the videos into a new folder using `ffmpeg`\n",
    "\n",
    "```{note}\n",
    "In this case, we do not resize the videos because they are fairly low quality. However you can easily add option to the ffmpeg command in the transcoding step to this.\n",
    "```\n",
    "\n",
    "### What's not covered here\n",
    "This notebook is aimed at researchers who already have some knowledge but may want to expand/improve their methods using the tips here\n",
    "\n",
    "- Python knowledge and some basics including some basic bash is assumed\n",
    "- knowledge of ffmpeg is helpful\n",
    "- With some basics, missing knowledge is mostly searchable. \n",
    "\n",
    "For questions or suggestions, reach out to me at andretelfer@cmail.carleton.ca"
   ]
  },
  {
   "cell_type": "markdown",
   "metadata": {},
   "source": [
    "## 1. Exploring the file system"
   ]
  },
  {
   "cell_type": "markdown",
   "metadata": {},
   "source": [
    "Lets first find which drives are mounted"
   ]
  },
  {
   "cell_type": "code",
   "execution_count": 52,
   "metadata": {},
   "outputs": [
    {
     "name": "stdout",
     "output_type": "stream",
     "text": [
      "\u001b[0m\u001b[01;34m11D9-5C57\u001b[0m/  \u001b[01;34m5161-4A93\u001b[0m/  \u001b[01;34m9B57-8640\u001b[0m/  \u001b[01;34mmaternal\u001b[0m/\n"
     ]
    }
   ],
   "source": [
    "ls /media/andre"
   ]
  },
  {
   "cell_type": "markdown",
   "metadata": {},
   "source": [
    "I know that the first 3 drives contain experimental data, the last `maternal` drive is where I plan to store the transcoded videos"
   ]
  },
  {
   "cell_type": "code",
   "execution_count": 53,
   "metadata": {},
   "outputs": [],
   "source": [
    "from pathlib import Path \n",
    "\n",
    "# On my system, this is where the storage devices are mounted\n",
    "MOUNT_POINT = Path(\"/media/andre\")\n",
    "\n",
    "# The names of drives the data exists\n",
    "DRIVES = [\n",
    "    '11D9-5C57',\n",
    "    '5161-4A93',\n",
    "    '9B57-8640'\n",
    "]\n",
    "\n",
    "# Where we want to store the videos\n",
    "OUTPUT_DRIVE = MOUNT_POINT / 'maternal'"
   ]
  },
  {
   "cell_type": "markdown",
   "metadata": {},
   "source": [
    "### Size of Original Datasets"
   ]
  },
  {
   "cell_type": "markdown",
   "metadata": {},
   "source": [
    "Lets see how big our original dataset is"
   ]
  },
  {
   "cell_type": "code",
   "execution_count": 54,
   "metadata": {},
   "outputs": [
    {
     "name": "stdout",
     "output_type": "stream",
     "text": [
      "Drive 11D9-5C57 is 997.12GB\n",
      "Drive 5161-4A93 is 491.29GB\n",
      "Drive 9B57-8640 is 705.03GB\n",
      "Total: 2193.44GB\n",
      "CPU times: user 37.2 ms, sys: 20.5 ms, total: 57.7 ms\n",
      "Wall time: 57 ms\n"
     ]
    }
   ],
   "source": [
    "%%time\n",
    "\n",
    "total_size = 0\n",
    "for drive in DRIVES:\n",
    "    # glob is a useful tool for searching folders, here we tell it to find every file\n",
    "    files = (MOUNT_POINT / drive).glob('**/*')\n",
    "    \n",
    "    # Only keep the files (discard directories)\n",
    "    files = list(filter(lambda x: x.is_file(), files)) \n",
    "    \n",
    "    # Get the size of each file\n",
    "    sizes = list(map(lambda x: x.stat().st_size, files)) \n",
    "    size = sum(sizes)\n",
    "    total_size += size\n",
    "    \n",
    "    # print the size in gigabytes\n",
    "    print(f\"Drive {drive} is {size / 1e9:.2f}GB\")\n",
    "    \n",
    "# print the total size\n",
    "print(f\"Total: {total_size / 1e9:.2f}GB\")"
   ]
  },
  {
   "cell_type": "markdown",
   "metadata": {},
   "source": [
    "### What types of videos are in the dataset"
   ]
  },
  {
   "cell_type": "markdown",
   "metadata": {},
   "source": [
    "Eek, over 2TB of data. But do we really need all of these files? I only want the videos to transcode, and can ignore everything else\n",
    "\n",
    "Since videos can have many file extensions, lets print out all of the file extensions so we can identify the video ones."
   ]
  },
  {
   "cell_type": "code",
   "execution_count": 55,
   "metadata": {},
   "outputs": [
    {
     "name": "stdout",
     "output_type": "stream",
     "text": [
      "Extensions:  ['indexUpdates', '159', 'wbcat', 'indexHead', 'indexDirectory', 'indexCompactDirectory', 'shadow', '_KO112 D15', 'donotpresent', '_KO16 day 15', '_KO15 Day 20', '_ko9 day 20', '_KO14 day 20', 'directoryStoreFile', 'txt', 'MPG', 'shadowIndexCompactDirectory', 'ini', 'shadowIndexArrays', 'bin', 'loc', '_KO10 DAY 15', '_KO152 DAY 15', 'shadowIndexGroups', '_WT3 day 15', 'indexIds', 'shadowIndexTermIds', '9', 'modified', 'SnowLeopard', 'Cab', 'shadowIndexHead', 'dat', 'plist', 'indexGroups', '_KO12 day 15', 'shadowIndexPositionTable', 'shadowIndexDirectory', '2', '_KO10 DAY 20', '_KO15 day 15', '_KO152 Day20', 'updates', 'created', '1', '_KO16 day 20', 'indexBigDates', 'zip', 'indexPositions', 'wbverify', 'db', 'indexPositionTable', 'state', 'mp4', 'indexTermIds', 'indexArrays', 'indexPostings', '10', 'Trashes']\n"
     ]
    }
   ],
   "source": [
    "total_size = 0\n",
    "\n",
    "# Use a set instead of a list to ignore duplicates\n",
    "extensions = set()\n",
    "for drive in DRIVES:\n",
    "    files = (MOUNT_POINT / drive).glob('**/*')\n",
    "    files = list(filter(lambda x: x.is_file(), files))\n",
    "    \n",
    "    # Get the extensions\n",
    "    for filepath in files:\n",
    "        fileparts = filepath.parts[-1].split('.')\n",
    "        \n",
    "        # Some files don't have extensions, ignore those\n",
    "        if len(fileparts) > 1:\n",
    "            extensions.add(fileparts[-1])\n",
    "\n",
    "print(\"Extensions: \", list(extensions))"
   ]
  },
  {
   "cell_type": "markdown",
   "metadata": {},
   "source": [
    "### Further narrowing down the videos\n",
    "\n",
    "Looking through all of the extensions I can see only 2 video related extensions: mp4 and MPG - every other file we can ignore for now\n",
    "\n",
    "However we may not want all of the videos, sometimes experimenters will horde discarded videos in folders like \"temp\". Let's make sure we only get videos that appear meaningful. \n",
    "\n",
    "... but first lets check how many videos"
   ]
  },
  {
   "cell_type": "code",
   "execution_count": 56,
   "metadata": {},
   "outputs": [
    {
     "name": "stdout",
     "output_type": "stream",
     "text": [
      "Number of videos in 11D9-5C57: 1102\n",
      "Number of videos in 5161-4A93: 528\n",
      "Number of videos in 9B57-8640: 673\n"
     ]
    }
   ],
   "source": [
    "for drive in DRIVES:\n",
    "    videos = (\n",
    "        list((MOUNT_POINT / drive).glob('**/*.mp4')) + \n",
    "        list((MOUNT_POINT / drive).glob('**/*.MPG'))\n",
    "    )\n",
    "    \n",
    "    print(f\"Number of videos in {drive}: {len(videos)}\")"
   ]
  },
  {
   "cell_type": "markdown",
   "metadata": {},
   "source": [
    "Again, eek. But I can't think of a way around seeing them all so lets print them out anyways."
   ]
  },
  {
   "cell_type": "code",
   "execution_count": 57,
   "metadata": {},
   "outputs": [
    {
     "name": "stdout",
     "output_type": "stream",
     "text": [
      "['/media/andre/11D9-5C57/ch04_20141026223910.mp4', '/media/andre/11D9-5C57/ch04_20141027002615.mp4', '/media/andre/11D9-5C57/._ch02_20141004031546.mp4', '/media/andre/11D9-5C57/ch04_20141027021320.mp4', '/media/andre/11D9-5C57/ch04_20141027040025.mp4', '/media/andre/11D9-5C57/ch04_20141027054731.mp4', '/media/andre/11D9-5C57/ch04_20141027073438.mp4', '/media/andre/11D9-5C57/ch07_20141029182333.mp4', '/media/andre/11D9-5C57/ch07_20141029185404.mp4', '/media/andre/11D9-5C57/ch07_20141029204109.mp4', '/media/andre/11D9-5C57/ch07_20141029222816.mp4', '/media/andre/11D9-5C57/ch07_20141030001521.mp4', '/media/andre/11D9-5C57/ch07_20141030020226.mp4', '/media/andre/11D9-5C57/ch07_20141030034933.mp4', '/media/andre/11D9-5C57/ch07_20141030053638.mp4', '/media/andre/11D9-5C57/ch07_20141030072343.mp4', '/media/andre/11D9-5C57/ch07_20141030091049.mp4', '/media/andre/11D9-5C57/ch07_20141030105756.mp4', '/media/andre/11D9-5C57/ch07_20141030124501.mp4', '/media/andre/11D9-5C57/ch07_20141030143208.mp4', '/media/andre/11D9-5C57/ch07_20141030161915.mp4', '/media/andre/11D9-5C57/ch07_20141030180620.mp4', '/media/andre/11D9-5C57/ch07_20141030195326.mp4', '/media/andre/11D9-5C57/ch07_20141030214031.mp4', '/media/andre/11D9-5C57/ch07_20141030232736.mp4', '/media/andre/11D9-5C57/ch02_20141004031546.mp4', '/media/andre/11D9-5C57/ch02_20141004050252.mp4', '/media/andre/11D9-5C57/ch02_20141004064957.mp4', '/media/andre/11D9-5C57/ch02_20141004083704.mp4', '/media/andre/11D9-5C57/ch02_20141004102411.mp4', '/media/andre/11D9-5C57/ch02_20141004121116.mp4', '/media/andre/11D9-5C57/ch02_20141004135823.mp4', '/media/andre/11D9-5C57/ch02_20141004154528.mp4', '/media/andre/11D9-5C57/ch02_20141004173235.mp4', '/media/andre/11D9-5C57/ch02_20141004191940.mp4', '/media/andre/11D9-5C57/ch02_20141005102455.mp4', '/media/andre/11D9-5C57/ch04_20141026223910_001.mp4', '/media/andre/11D9-5C57/ch04_20141027002615_001.mp4', '/media/andre/11D9-5C57/ch04_20141027021320_001.mp4', '/media/andre/11D9-5C57/ch04_20141027040025_001.mp4', '/media/andre/11D9-5C57/ch04_20141027054731_001.mp4', '/media/andre/11D9-5C57/ch04_20141027073438_001.mp4', '/media/andre/11D9-5C57/ch07_20141031011443.mp4', '/media/andre/11D9-5C57/ch07_20141031030148.mp4', '/media/andre/11D9-5C57/ch07_20141031044855.mp4', '/media/andre/11D9-5C57/ch07_20141031063600.mp4', '/media/andre/11D9-5C57/ch07_20141031082307.mp4', '/media/andre/11D9-5C57/ch07_20141029182333_001.mp4', '/media/andre/11D9-5C57/ch07_20141029185404_001.mp4', '/media/andre/11D9-5C57/ch07_20141029204109_001.mp4', '/media/andre/11D9-5C57/ch07_20141029222816_001.mp4', '/media/andre/11D9-5C57/ch07_20141030001521_001.mp4', '/media/andre/11D9-5C57/ch07_20141030020226_001.mp4', '/media/andre/11D9-5C57/ch07_20141030034933_001.mp4', '/media/andre/11D9-5C57/ch07_20141030053638_001.mp4', '/media/andre/11D9-5C57/ch07_20141030072343_001.mp4', '/media/andre/11D9-5C57/ch07_20141030091049_001.mp4', '/media/andre/11D9-5C57/ch07_20141030105756_001.mp4', '/media/andre/11D9-5C57/ch07_20141030124501_001.mp4', '/media/andre/11D9-5C57/ch07_20141030143208_001.mp4', '/media/andre/11D9-5C57/ch07_20141030161915_001.mp4', '/media/andre/11D9-5C57/ch07_20141030180620_001.mp4', '/media/andre/11D9-5C57/ch07_20141030195326_001.mp4', '/media/andre/11D9-5C57/ch07_20141030214031_001.mp4', '/media/andre/11D9-5C57/ch07_20141030232736_001.mp4', '/media/andre/11D9-5C57/$RECYCLE.BIN/$I36JO79.mp4', '/media/andre/11D9-5C57/$RECYCLE.BIN/$R36JO79.mp4', '/media/andre/11D9-5C57/$RECYCLE.BIN/$IK4VSPY.mp4', '/media/andre/11D9-5C57/$RECYCLE.BIN/$RK4VSPY.mp4', '/media/andre/11D9-5C57/$RECYCLE.BIN/$INDEQPN.mp4', '/media/andre/11D9-5C57/$RECYCLE.BIN/$RNDEQPN.mp4', '/media/andre/11D9-5C57/$RECYCLE.BIN/$IUEEW26.mp4', '/media/andre/11D9-5C57/$RECYCLE.BIN/$RUEEW26.mp4', '/media/andre/11D9-5C57/$RECYCLE.BIN/$I4H9RW5.mp4', '/media/andre/11D9-5C57/$RECYCLE.BIN/$R4H9RW5.mp4', '/media/andre/11D9-5C57/$RECYCLE.BIN/$IE5P5PA.mp4', '/media/andre/11D9-5C57/$RECYCLE.BIN/$RE5P5PA.mp4', '/media/andre/11D9-5C57/$RECYCLE.BIN/$IQ5J677.mp4', '/media/andre/11D9-5C57/$RECYCLE.BIN/$RQ5J677.mp4', '/media/andre/11D9-5C57/$RECYCLE.BIN/$IWGYCJQ.mp4', '/media/andre/11D9-5C57/$RECYCLE.BIN/$RWGYCJQ.mp4', '/media/andre/11D9-5C57/$RECYCLE.BIN/$IBAKGDE.mp4', '/media/andre/11D9-5C57/$RECYCLE.BIN/$RBAKGDE.mp4', '/media/andre/11D9-5C57/$RECYCLE.BIN/$IEXXXKC.mp4', '/media/andre/11D9-5C57/$RECYCLE.BIN/$REXXXKC.mp4', '/media/andre/11D9-5C57/$RECYCLE.BIN/$ITR0YQR.mp4', '/media/andre/11D9-5C57/$RECYCLE.BIN/$RTR0YQR.mp4', '/media/andre/11D9-5C57/$RECYCLE.BIN/$IN00PZD.mp4', '/media/andre/11D9-5C57/$RECYCLE.BIN/$RN00PZD.mp4', '/media/andre/11D9-5C57/$RECYCLE.BIN/$IPXQ99P.mp4', '/media/andre/11D9-5C57/$RECYCLE.BIN/$RPXQ99P.mp4', '/media/andre/11D9-5C57/$RECYCLE.BIN/$I9CKEIH.mp4', '/media/andre/11D9-5C57/$RECYCLE.BIN/$R9CKEIH.mp4', '/media/andre/11D9-5C57/$RECYCLE.BIN/$IGFKST6.mp4', '/media/andre/11D9-5C57/$RECYCLE.BIN/$RGFKST6.mp4', '/media/andre/11D9-5C57/$RECYCLE.BIN/$IC52HUR.mp4', '/media/andre/11D9-5C57/$RECYCLE.BIN/$RC52HUR.mp4', '/media/andre/11D9-5C57/$RECYCLE.BIN/$IU46304.mp4', '/media/andre/11D9-5C57/$RECYCLE.BIN/$RU46304.mp4', '/media/andre/11D9-5C57/$RECYCLE.BIN/$IM0IK05.mp4', '/media/andre/11D9-5C57/$RECYCLE.BIN/$RM0IK05.mp4', '/media/andre/11D9-5C57/$RECYCLE.BIN/$ITQT1FP.mp4', '/media/andre/11D9-5C57/$RECYCLE.BIN/$RTQT1FP.mp4', '/media/andre/11D9-5C57/$RECYCLE.BIN/$IIY63F2.mp4', '/media/andre/11D9-5C57/$RECYCLE.BIN/$RIY63F2.mp4', '/media/andre/11D9-5C57/$RECYCLE.BIN/$IHFSFKZ.mp4', '/media/andre/11D9-5C57/$RECYCLE.BIN/$RHFSFKZ.mp4', '/media/andre/11D9-5C57/$RECYCLE.BIN/$INBR6F9.mp4', '/media/andre/11D9-5C57/$RECYCLE.BIN/$RNBR6F9.mp4', '/media/andre/11D9-5C57/$RECYCLE.BIN/$IL9BF8M.mp4', '/media/andre/11D9-5C57/$RECYCLE.BIN/$RL9BF8M.mp4', '/media/andre/11D9-5C57/$RECYCLE.BIN/$IJJGHIB.mp4', '/media/andre/11D9-5C57/$RECYCLE.BIN/$RJJGHIB.mp4', '/media/andre/11D9-5C57/$RECYCLE.BIN/$IG8DBBC.mp4', '/media/andre/11D9-5C57/$RECYCLE.BIN/$RG8DBBC.mp4', '/media/andre/11D9-5C57/$RECYCLE.BIN/$I6TRVS0.mp4', '/media/andre/11D9-5C57/$RECYCLE.BIN/$R6TRVS0.mp4', '/media/andre/11D9-5C57/$RECYCLE.BIN/$IYA75CG.mp4', '/media/andre/11D9-5C57/$RECYCLE.BIN/$RYA75CG.mp4', '/media/andre/11D9-5C57/$RECYCLE.BIN/$I0N3SCL.mp4', '/media/andre/11D9-5C57/$RECYCLE.BIN/$R0N3SCL.mp4', '/media/andre/11D9-5C57/$RECYCLE.BIN/$IXP155S.mp4', '/media/andre/11D9-5C57/$RECYCLE.BIN/$RXP155S.mp4', '/media/andre/11D9-5C57/$RECYCLE.BIN/$IZ6RFFK.mp4', '/media/andre/11D9-5C57/$RECYCLE.BIN/$RZ6RFFK.mp4', '/media/andre/11D9-5C57/$RECYCLE.BIN/$IJR2ZA4.mp4', '/media/andre/11D9-5C57/$RECYCLE.BIN/$RJR2ZA4.mp4', '/media/andre/11D9-5C57/$RECYCLE.BIN/$ISE4BBI.mp4', '/media/andre/11D9-5C57/$RECYCLE.BIN/$RSE4BBI.mp4', '/media/andre/11D9-5C57/$RECYCLE.BIN/$IG0HWYQ.mp4', '/media/andre/11D9-5C57/$RECYCLE.BIN/$RG0HWYQ.mp4', '/media/andre/11D9-5C57/$RECYCLE.BIN/$II0RC5U.mp4', '/media/andre/11D9-5C57/$RECYCLE.BIN/$RI0RC5U.mp4', '/media/andre/11D9-5C57/$RECYCLE.BIN/$IMUX09N.mp4', '/media/andre/11D9-5C57/$RECYCLE.BIN/$RMUX09N.mp4', '/media/andre/11D9-5C57/$RECYCLE.BIN/$II8ZJY9.mp4', '/media/andre/11D9-5C57/$RECYCLE.BIN/$RI8ZJY9.mp4', '/media/andre/11D9-5C57/$RECYCLE.BIN/$I1SQHI2.mp4', '/media/andre/11D9-5C57/$RECYCLE.BIN/$R1SQHI2.mp4', '/media/andre/11D9-5C57/$RECYCLE.BIN/$IF5E25W.mp4', '/media/andre/11D9-5C57/$RECYCLE.BIN/$RF5E25W.mp4', '/media/andre/11D9-5C57/$RECYCLE.BIN/$I7BFFR5.mp4', '/media/andre/11D9-5C57/$RECYCLE.BIN/$R7BFFR5.mp4', '/media/andre/11D9-5C57/$RECYCLE.BIN/$IRQUQ85.mp4', '/media/andre/11D9-5C57/$RECYCLE.BIN/$RRQUQ85.mp4', '/media/andre/11D9-5C57/$RECYCLE.BIN/$IUEQ9IR.mp4', '/media/andre/11D9-5C57/$RECYCLE.BIN/$RUEQ9IR.mp4', '/media/andre/11D9-5C57/$RECYCLE.BIN/$INCHWH5.mp4', '/media/andre/11D9-5C57/$RECYCLE.BIN/$RNCHWH5.mp4', '/media/andre/11D9-5C57/$RECYCLE.BIN/$IHKK4LS.mp4', '/media/andre/11D9-5C57/$RECYCLE.BIN/$RHKK4LS.mp4', '/media/andre/11D9-5C57/$RECYCLE.BIN/$I1PGGTN.mp4', '/media/andre/11D9-5C57/$RECYCLE.BIN/$R1PGGTN.mp4', '/media/andre/11D9-5C57/$RECYCLE.BIN/$IBP04ZM.mp4', '/media/andre/11D9-5C57/$RECYCLE.BIN/$RBP04ZM.mp4', '/media/andre/11D9-5C57/$RECYCLE.BIN/$I0CYI5K.mp4', '/media/andre/11D9-5C57/$RECYCLE.BIN/$R0CYI5K.mp4', '/media/andre/11D9-5C57/$RECYCLE.BIN/$IDFOM8C.mp4', '/media/andre/11D9-5C57/$RECYCLE.BIN/$RDFOM8C.mp4', '/media/andre/11D9-5C57/$RECYCLE.BIN/$IWRFZ5L.mp4', '/media/andre/11D9-5C57/$RECYCLE.BIN/$RWRFZ5L.mp4', '/media/andre/11D9-5C57/$RECYCLE.BIN/$IZT76ZM.mp4', '/media/andre/11D9-5C57/$RECYCLE.BIN/$RZT76ZM.mp4', '/media/andre/11D9-5C57/$RECYCLE.BIN/$ICI0DV1.mp4', '/media/andre/11D9-5C57/$RECYCLE.BIN/$RCI0DV1.mp4', '/media/andre/11D9-5C57/$RECYCLE.BIN/$IO1PPUS.mp4', '/media/andre/11D9-5C57/$RECYCLE.BIN/$RO1PPUS.mp4', '/media/andre/11D9-5C57/$RECYCLE.BIN/$IV8HDQN.mp4', '/media/andre/11D9-5C57/$RECYCLE.BIN/$RV8HDQN.mp4', '/media/andre/11D9-5C57/$RECYCLE.BIN/$IJO3F2G.mp4', '/media/andre/11D9-5C57/$RECYCLE.BIN/$RJO3F2G.mp4', '/media/andre/11D9-5C57/$RECYCLE.BIN/$IJE14GO.mp4', '/media/andre/11D9-5C57/$RECYCLE.BIN/$RJE14GO.mp4', '/media/andre/11D9-5C57/$RECYCLE.BIN/$I4TI0EP.mp4', '/media/andre/11D9-5C57/$RECYCLE.BIN/$R4TI0EP.mp4', '/media/andre/11D9-5C57/$RECYCLE.BIN/$ITO5GE7.mp4', '/media/andre/11D9-5C57/$RECYCLE.BIN/$RTO5GE7.mp4', '/media/andre/11D9-5C57/$RECYCLE.BIN/$IFANBPJ.mp4', '/media/andre/11D9-5C57/$RECYCLE.BIN/$RFANBPJ.mp4', '/media/andre/11D9-5C57/$RECYCLE.BIN/$IT96WA2.mp4', '/media/andre/11D9-5C57/$RECYCLE.BIN/$RT96WA2.mp4', '/media/andre/11D9-5C57/$RECYCLE.BIN/$IX3HYCF.mp4', '/media/andre/11D9-5C57/$RECYCLE.BIN/$RX3HYCF.mp4', '/media/andre/11D9-5C57/$RECYCLE.BIN/$IIQD37S.mp4', '/media/andre/11D9-5C57/$RECYCLE.BIN/$RIQD37S.mp4', '/media/andre/11D9-5C57/$RECYCLE.BIN/$I9VOPUV.mp4', '/media/andre/11D9-5C57/KO12 day 15/KO12 day 15 (10).mp4', '/media/andre/11D9-5C57/KO12 day 15/KO12 day 15 (1).mp4', '/media/andre/11D9-5C57/KO12 day 15/KO12 day 15 (2).mp4', '/media/andre/11D9-5C57/KO12 day 15/KO12 day 15 (3).mp4', '/media/andre/11D9-5C57/KO12 day 15/KO12 day 15 (4).mp4', '/media/andre/11D9-5C57/KO12 day 15/KO12 day 15 (5).mp4', '/media/andre/11D9-5C57/KO12 day 15/KO12 day 15 (6).mp4', '/media/andre/11D9-5C57/KO12 day 15/KO12 day 15 (7).mp4', '/media/andre/11D9-5C57/KO12 day 15/KO12 day 15 (8).mp4', '/media/andre/11D9-5C57/KO12 day 15/KO12 day 15 (9).mp4', '/media/andre/11D9-5C57/KO12 day 15/._KO12 day 15 (4).mp4', '/media/andre/11D9-5C57/KO12 day 15/._KO12 day 15 (1).mp4', '/media/andre/11D9-5C57/KO12 day 15/._KO12 day 15 (2).mp4', '/media/andre/11D9-5C57/KO12 day 15/._KO12 day 15 (3).mp4', '/media/andre/11D9-5C57/KO12 day 15/._KO12 day 15 (5).mp4', '/media/andre/11D9-5C57/KO12 day 15/._KO12 day 15 (6).mp4', '/media/andre/11D9-5C57/KO12 day 15/._KO12 day 15 (7).mp4', '/media/andre/11D9-5C57/KO12 day 15/._KO12 day 15 (8).mp4', '/media/andre/11D9-5C57/KO12 day 15/ch05_20150308222435.mp4', '/media/andre/11D9-5C57/KO12 day 15/ch05_20150309001140.mp4', '/media/andre/11D9-5C57/KO12 day 15/ch05_20150309015846.mp4', '/media/andre/11D9-5C57/KO12 day 15/ch05_20150309034554.mp4', '/media/andre/11D9-5C57/KO12 day 15/ch05_20150309053259.mp4', '/media/andre/11D9-5C57/KO12 day 15/ch05_20150309072006.mp4', '/media/andre/11D9-5C57/KO12 day 15/ch05_20150309090711.mp4', '/media/andre/11D9-5C57/KO12 day 15/ch05_20150309142828.mp4', '/media/andre/11D9-5C57/KO12 day 15/ch05_20150309161535.mp4', '/media/andre/11D9-5C57/KO12 day 15/ch05_20150309180240.mp4', '/media/andre/11D9-5C57/KO12 day 15/ch05_20150309194945.mp4', '/media/andre/11D9-5C57/KO12 day 15/ch05_20150228204803.mp4', '/media/andre/11D9-5C57/KO12 day 15/ch05_20150228214620.mp4', '/media/andre/11D9-5C57/KO12 day 15/ch05_20150228233325.mp4', '/media/andre/11D9-5C57/KO12 day 15/ch05_20150301012032.mp4', '/media/andre/11D9-5C57/KO12 day 15/ch05_20150301030737.mp4', '/media/andre/11D9-5C57/KO12 day 15/ch05_20150301045444.mp4', '/media/andre/11D9-5C57/KO12 day 15/ch05_20150301064148.mp4', '/media/andre/11D9-5C57/KO12 day 15/ch05_20150301082854.mp4', '/media/andre/11D9-5C57/KO12 day 15/ch05_20150301101601.mp4', '/media/andre/11D9-5C57/KO12 day 15/ch05_20150301120308.mp4', '/media/andre/11D9-5C57/KO12 day 15/ch05_20150301135013.mp4', '/media/andre/11D9-5C57/KO12 day 15/ch05_20150301153719.mp4', '/media/andre/11D9-5C57/KO12 day 15/ch05_20150301172426.mp4', '/media/andre/11D9-5C57/KO12 day 15/ch05_20150301191131.mp4', '/media/andre/11D9-5C57/KO12 day 15/ch05_20150301205836.mp4', '/media/andre/11D9-5C57/KO12 day 15/ch05_20150301224542.mp4', '/media/andre/11D9-5C57/KO12 day 15/ch05_20150302003249.mp4', '/media/andre/11D9-5C57/KO12 day 15/ch05_20150302021954.mp4', '/media/andre/11D9-5C57/KO12 day 15/ch05_20150302040659.mp4', '/media/andre/11D9-5C57/KO12 day 15/ch05_20150302201052.mp4', '/media/andre/11D9-5C57/KO12 day 15/ch05_20150302215757.mp4', '/media/andre/11D9-5C57/KO12 day 15/ch05_20150302234503.mp4', '/media/andre/11D9-5C57/KO12 day 15/ch05_20150303013210.mp4', '/media/andre/11D9-5C57/KO12 day 15/ch05_20150303031915.mp4', '/media/andre/11D9-5C57/KO12 day 15/ch05_20150303050620.mp4', '/media/andre/11D9-5C57/KO12 day 15/ch05_20150303065325.mp4', '/media/andre/11D9-5C57/KO12 day 15/ch05_20150303084032.mp4', '/media/andre/11D9-5C57/KO12 day 15/ch05_20150307212305.mp4', '/media/andre/11D9-5C57/KO12 day 15/ch05_20150307231010.mp4', '/media/andre/11D9-5C57/KO12 day 15/ch05_20150308005717.mp4', '/media/andre/11D9-5C57/KO12 day 15/ch05_20150308020327.mp4', '/media/andre/11D9-5C57/KO12 day 15/ch05_20150308024632.mp4', '/media/andre/11D9-5C57/KO12 day 15/ch05_20150308043337.mp4', '/media/andre/11D9-5C57/KO12 day 15/ch05_20150308062044.mp4', '/media/andre/11D9-5C57/KO12 day 15/ch05_20150308080749.mp4', '/media/andre/11D9-5C57/KO12 day 15/ch05_20150308095454.mp4', '/media/andre/11D9-5C57/KO12 day 15/ch05_20150308114201.mp4', '/media/andre/11D9-5C57/KO12 day 15/ch05_20150308132906.mp4', '/media/andre/11D9-5C57/WT8 day 20/WT8 day 20 (16).mp4', '/media/andre/11D9-5C57/WT8 day 20/WT8 day 20 (17).mp4', '/media/andre/11D9-5C57/WT8 day 20/WT8 day 20 (18).mp4', '/media/andre/11D9-5C57/WT8 day 20/WT8 day 20 (19).mp4', '/media/andre/11D9-5C57/WT8 day 20/WT8 day 20 (1).mp4', '/media/andre/11D9-5C57/WT8 day 20/WT8 day 20 (2).mp4', '/media/andre/11D9-5C57/WT8 day 20/WT8 day 20 (3).mp4', '/media/andre/11D9-5C57/WT8 day 20/WT8 day 20 (4).mp4', '/media/andre/11D9-5C57/WT8 day 20/WT8 day 20 (5).mp4', '/media/andre/11D9-5C57/WT8 day 20/WT8 day 20 (6).mp4', '/media/andre/11D9-5C57/WT8 day 20/WT8 day 20 (7).mp4', '/media/andre/11D9-5C57/WT8 day 20/WT8 day 20 (8).mp4', '/media/andre/11D9-5C57/WT8 day 20/WT8 day 20 (9).mp4', '/media/andre/11D9-5C57/WT8 day 20/WT8 day 20 (10).mp4', '/media/andre/11D9-5C57/WT8 day 20/WT8 day 20 (11).mp4', '/media/andre/11D9-5C57/WT8 day 20/WT8 day 20 (12).mp4', '/media/andre/11D9-5C57/WT8 day 20/WT8 day 20 (13).mp4', '/media/andre/11D9-5C57/WT8 day 20/WT8 day 20 (14).mp4', '/media/andre/11D9-5C57/WT8 day 20/WT8 day 20 (15).mp4', '/media/andre/11D9-5C57/WT3 day 15/WT3 day 15 (18).mp4', '/media/andre/11D9-5C57/WT3 day 15/WT3 day 15 (19).mp4', '/media/andre/11D9-5C57/WT3 day 15/WT3 day 15 (20).mp4', '/media/andre/11D9-5C57/WT3 day 15/WT3 day 15 (21).mp4', '/media/andre/11D9-5C57/WT3 day 15/WT3 day 15.mp4', '/media/andre/11D9-5C57/WT3 day 15/WT3 day 15 (1).mp4', '/media/andre/11D9-5C57/WT3 day 15/WT3 day 15 (2).mp4', '/media/andre/11D9-5C57/WT3 day 15/WT3 day 15 (3).mp4', '/media/andre/11D9-5C57/WT3 day 15/WT3 day 15 (4).mp4', '/media/andre/11D9-5C57/WT3 day 15/WT3 day 15 (5).mp4', '/media/andre/11D9-5C57/WT3 day 15/WT3 day 15 (6).mp4', '/media/andre/11D9-5C57/WT3 day 15/WT3 day 15 (7).mp4', '/media/andre/11D9-5C57/WT3 day 15/WT3 day 15 (8).mp4', '/media/andre/11D9-5C57/WT3 day 15/WT3 day 15 (9).mp4', '/media/andre/11D9-5C57/WT3 day 15/WT3 day 15 (10).mp4', '/media/andre/11D9-5C57/WT3 day 15/WT3 day 15 (11).mp4', '/media/andre/11D9-5C57/WT3 day 15/WT3 day 15 (12).mp4', '/media/andre/11D9-5C57/WT3 day 15/WT3 day 15 (13).mp4', '/media/andre/11D9-5C57/WT3 day 15/WT3 day 15 (14).mp4', '/media/andre/11D9-5C57/WT3 day 15/WT3 day 15 (15).mp4', '/media/andre/11D9-5C57/WT3 day 15/WT3 day 15 (16).mp4', '/media/andre/11D9-5C57/WT3 day 15/WT3 day 15 (17).mp4', '/media/andre/11D9-5C57/WT3 day 10/WT3 day 10 (17).mp4', '/media/andre/11D9-5C57/WT3 day 10/WT3 day 10 (18).mp4', '/media/andre/11D9-5C57/WT3 day 10/WT3 day 10 (19).mp4', '/media/andre/11D9-5C57/WT3 day 10/WT3 day 10 (20).mp4', '/media/andre/11D9-5C57/WT3 day 10/WT3 day 10 (21).mp4', '/media/andre/11D9-5C57/WT3 day 10/WT3 day 10 (1).mp4', '/media/andre/11D9-5C57/WT3 day 10/WT3 day 10 (2).mp4', '/media/andre/11D9-5C57/WT3 day 10/WT3 day 10 (7).mp4', '/media/andre/11D9-5C57/WT3 day 10/WT3 day 10 (8).mp4', '/media/andre/11D9-5C57/WT3 day 10/WT3 day 10 (9).mp4', '/media/andre/11D9-5C57/WT3 day 10/WT3 day 10 (10).mp4', '/media/andre/11D9-5C57/WT3 day 10/WT3 day 10 (11).mp4', '/media/andre/11D9-5C57/WT3 day 10/WT3 day 10 (12).mp4', '/media/andre/11D9-5C57/WT3 day 10/WT3 day 10 (13).mp4', '/media/andre/11D9-5C57/WT3 day 10/WT3 day 10 (14).mp4', '/media/andre/11D9-5C57/WT3 day 10/WT3 day 10 (15).mp4', '/media/andre/11D9-5C57/WT3 day 10/WT3 day 10 (16).mp4', '/media/andre/11D9-5C57/WT3 day 10/WT3 day 10 (3).mp4', '/media/andre/11D9-5C57/WT3 day 10/WT3 day 10.mp4', '/media/andre/11D9-5C57/WT3 day 10/WT3 day 10 (4).mp4', '/media/andre/11D9-5C57/KO16 day 20/KO16 day 20 (13).mp4', '/media/andre/11D9-5C57/KO16 day 20/KO16 day 20 (14).mp4', '/media/andre/11D9-5C57/KO16 day 20/KO16 day 20 (15).mp4', '/media/andre/11D9-5C57/KO16 day 20/KO16 day 20 (16).mp4', '/media/andre/11D9-5C57/KO16 day 20/KO16 day 20 (1).mp4', '/media/andre/11D9-5C57/KO16 day 20/KO16 day 20 (2).mp4', '/media/andre/11D9-5C57/KO16 day 20/KO16 day 20 (3).mp4', '/media/andre/11D9-5C57/KO16 day 20/KO16 day 20 (4).mp4', '/media/andre/11D9-5C57/KO16 day 20/KO16 day 20 (5).mp4', '/media/andre/11D9-5C57/KO16 day 20/KO16 day 20 (6).mp4', '/media/andre/11D9-5C57/KO16 day 20/KO16 day 20 (7).mp4', '/media/andre/11D9-5C57/KO16 day 20/KO16 day 20 (8).mp4', '/media/andre/11D9-5C57/KO16 day 20/KO16 day 20 (9).mp4', '/media/andre/11D9-5C57/KO16 day 20/KO16 day 20 (10).mp4', '/media/andre/11D9-5C57/KO16 day 20/KO16 day 20 (11).mp4', '/media/andre/11D9-5C57/KO16 day 20/KO16 day 20 (12).mp4', '/media/andre/11D9-5C57/KO16 day 15/KO16 day 15 (16).mp4', '/media/andre/11D9-5C57/KO16 day 15/KO16 day 15 (1).mp4', '/media/andre/11D9-5C57/KO16 day 15/KO16 day 15 (2).mp4', '/media/andre/11D9-5C57/KO16 day 15/KO16 day 15 (3).mp4', '/media/andre/11D9-5C57/KO16 day 15/KO16 day 15 (4).mp4', '/media/andre/11D9-5C57/KO16 day 15/KO16 day 15 (5).mp4', '/media/andre/11D9-5C57/KO16 day 15/KO16 day 15 (6).mp4', '/media/andre/11D9-5C57/KO16 day 15/KO16 day 15 (7).mp4', '/media/andre/11D9-5C57/KO16 day 15/KO16 day 15 (8).mp4', '/media/andre/11D9-5C57/KO16 day 15/KO16 day 15 (9).mp4', '/media/andre/11D9-5C57/KO16 day 15/KO16 day 15 (10).mp4', '/media/andre/11D9-5C57/KO16 day 15/KO16 day 15 (11).mp4', '/media/andre/11D9-5C57/KO16 day 15/KO16 day 15 (12).mp4', '/media/andre/11D9-5C57/KO16 day 15/KO16 day 15 (13).mp4', '/media/andre/11D9-5C57/KO16 day 15/KO16 day 15 (14).mp4', '/media/andre/11D9-5C57/KO16 day 15/KO16 day 15 (15).mp4', '/media/andre/11D9-5C57/KO14 day 20/KO14 day 20 (17).mp4', '/media/andre/11D9-5C57/KO14 day 20/KO14 day 20.mp4', '/media/andre/11D9-5C57/KO14 day 20/KO14 day 20 (1).mp4', '/media/andre/11D9-5C57/KO14 day 20/KO14 day 20 (2).mp4', '/media/andre/11D9-5C57/KO14 day 20/KO14 day 20 (3).mp4', '/media/andre/11D9-5C57/KO14 day 20/KO14 day 20 (4).mp4', '/media/andre/11D9-5C57/KO14 day 20/KO14 day 20 (5).mp4', '/media/andre/11D9-5C57/KO14 day 20/KO14 day 20 (6).mp4', '/media/andre/11D9-5C57/KO14 day 20/KO14 day 20 (7).mp4', '/media/andre/11D9-5C57/KO14 day 20/KO14 day 20 (8).mp4', '/media/andre/11D9-5C57/KO14 day 20/KO14 day 20 (9).mp4', '/media/andre/11D9-5C57/KO14 day 20/KO14 day 20 (10).mp4', '/media/andre/11D9-5C57/KO14 day 20/KO14 day 20 (11).mp4', '/media/andre/11D9-5C57/KO14 day 20/KO14 day 20 (12).mp4', '/media/andre/11D9-5C57/KO14 day 20/KO14 day 20 (13).mp4', '/media/andre/11D9-5C57/KO14 day 20/KO14 day 20 (14).mp4', '/media/andre/11D9-5C57/KO14 day 20/KO14 day 20 (15).mp4', '/media/andre/11D9-5C57/KO14 day 20/KO14 day 20 (16).mp4', '/media/andre/11D9-5C57/KO14 day 20/._KO14 day 20 (3).mp4', '/media/andre/11D9-5C57/KO14 day 20/._KO14 day 20 (7).mp4', '/media/andre/11D9-5C57/KO14 day 20/._KO14 day 20 (4).mp4', '/media/andre/11D9-5C57/KO14 day 20/._KO14 day 20 (5).mp4', '/media/andre/11D9-5C57/KO14 day 20/._KO14 day 20 (8).mp4', '/media/andre/11D9-5C57/KO14 day 20/._KO14 day 20 (9).mp4', '/media/andre/11D9-5C57/KO14 day 20/._KO14 day 20 (10).mp4', '/media/andre/11D9-5C57/KO12 day 10/KO12 day 10 (14).mp4', '/media/andre/11D9-5C57/KO12 day 10/KO10 day 10.mp4', '/media/andre/11D9-5C57/KO12 day 10/KO12 day 10 (1).mp4', '/media/andre/11D9-5C57/KO12 day 10/KO12 day 10 (2).mp4', '/media/andre/11D9-5C57/KO12 day 10/KO12 day 10 (3).mp4', '/media/andre/11D9-5C57/KO12 day 10/KO12 day 10 (4).mp4', '/media/andre/11D9-5C57/KO12 day 10/KO12 day 10 (5).mp4', '/media/andre/11D9-5C57/KO12 day 10/KO12 day 10 (6).mp4', '/media/andre/11D9-5C57/KO12 day 10/KO12 day 10 (7).mp4', '/media/andre/11D9-5C57/KO12 day 10/KO12 day 10 (8).mp4', '/media/andre/11D9-5C57/KO12 day 10/KO12 day 10 (9).mp4', '/media/andre/11D9-5C57/KO12 day 10/KO12 day 10 (10).mp4', '/media/andre/11D9-5C57/KO12 day 10/KO12 day 10 (11).mp4', '/media/andre/11D9-5C57/KO12 day 10/KO12 day 10 (12).mp4', '/media/andre/11D9-5C57/KO12 day 10/KO12 day 10 (13).mp4', '/media/andre/11D9-5C57/ko9 day 20/KO9 day 20.mp4', '/media/andre/11D9-5C57/ko9 day 20/KO9 day 20 (1).mp4', '/media/andre/11D9-5C57/ko9 day 20/KO9 day 20 (2).mp4', '/media/andre/11D9-5C57/ko9 day 20/KO9 day 20 (3).mp4', '/media/andre/11D9-5C57/ko9 day 20/KO9 day 20 (4).mp4', '/media/andre/11D9-5C57/ko9 day 20/KO9 day 20 (5).mp4', '/media/andre/11D9-5C57/ko9 day 20/KO9 day 20 (6).mp4', '/media/andre/11D9-5C57/ko9 day 20/KO9 day 20 (7).mp4', '/media/andre/11D9-5C57/ko9 day 20/KO9 day 20 (8).mp4', '/media/andre/11D9-5C57/ko9 day 20/KO9 day 20 (9).mp4', '/media/andre/11D9-5C57/ko9 day 20/KO9 day 20 (10).mp4', '/media/andre/11D9-5C57/ko9 day 20/KO9 day 20 (11).mp4', '/media/andre/11D9-5C57/ko9 day 20/KO9 day 20 (12).mp4', '/media/andre/11D9-5C57/ko9 day 20/KO9 day 20 (13).mp4', '/media/andre/11D9-5C57/ko9 day 20/KO9 day 20 (14).mp4', '/media/andre/11D9-5C57/ko9 day 20/KO9 day 20 (15).mp4', '/media/andre/11D9-5C57/ko9 day 20/KO9 day 20 (16).mp4', '/media/andre/11D9-5C57/ko9 day 20/KO9 day 20 (17).mp4', '/media/andre/11D9-5C57/ko9 day 20/._KO9 day 20 (1).mp4', '/media/andre/11D9-5C57/ko9 day 20/._KO9 day 20 (4).mp4', '/media/andre/11D9-5C57/ko9 day 20/._KO9 day 20 (2).mp4', '/media/andre/11D9-5C57/ko9 day 20/._KO9 day 20 (3).mp4', '/media/andre/11D9-5C57/ko9 day 20/._KO9 day 20 (5).mp4', '/media/andre/11D9-5C57/ko9 day 20/._KO9 day 20 (6).mp4', '/media/andre/11D9-5C57/ko9 day 20/._KO9 day 20 (7).mp4', '/media/andre/11D9-5C57/wt6 day 15/WT6 day 15 (11).mp4', '/media/andre/11D9-5C57/wt6 day 15/WT6 day 15 (7).mp4', '/media/andre/11D9-5C57/wt6 day 15/WT6 day 15 (6).mp4', '/media/andre/11D9-5C57/wt6 day 15/wt6 day 15 (12).mp4', '/media/andre/11D9-5C57/wt6 day 15/wt6 day 15.mp4', '/media/andre/11D9-5C57/wt6 day 15/wt6 day 15 (2).mp4', '/media/andre/11D9-5C57/wt6 day 15/WT6 day 15 (3).mp4', '/media/andre/11D9-5C57/wt6 day 15/WT6 day 15 (4).mp4', '/media/andre/11D9-5C57/wt6 day 15/WT6 day 15 (5).mp4', '/media/andre/11D9-5C57/wt6 day 15/WT6 day 15 (8).mp4', '/media/andre/11D9-5C57/wt6 day 15/WT6 day 15 (9).mp4', '/media/andre/11D9-5C57/wt6 day 15/WT6 day 15 (10).mp4', '/media/andre/11D9-5C57/KO152 Day20/Ko152 day 20.mp4', '/media/andre/11D9-5C57/KO152 Day20/KO152 Day 20 (32).mp4', '/media/andre/11D9-5C57/KO152 Day20/KO152 Day 20 (31).mp4', '/media/andre/11D9-5C57/KO152 Day20/KO152 Day 20 (30).mp4', '/media/andre/11D9-5C57/KO152 Day20/KO152 Day 20 (29).mp4', '/media/andre/11D9-5C57/KO152 Day20/KO152 Day 20 (28).mp4', '/media/andre/11D9-5C57/KO152 Day20/KO152 Day 20 (27).mp4', '/media/andre/11D9-5C57/KO152 Day20/KO152 Day 20 (24).mp4', '/media/andre/11D9-5C57/KO152 Day20/KO152 Day 20 (25).mp4', '/media/andre/11D9-5C57/KO152 Day20/KO152 Day 20 (26).mp4', '/media/andre/11D9-5C57/KO152 Day20/KO152 Day 20 (23).mp4', '/media/andre/11D9-5C57/KO152 Day20/KO152 Day 20 (10).mp4', '/media/andre/11D9-5C57/KO152 Day20/KO152 Day 20 (11).mp4', '/media/andre/11D9-5C57/KO152 Day20/KO152 Day 20 (12).mp4', '/media/andre/11D9-5C57/KO152 Day20/KO152 Day 20 (13).mp4', '/media/andre/11D9-5C57/KO152 Day20/KO152 Day 20 (14).mp4', '/media/andre/11D9-5C57/KO152 Day20/KO152 Day 20 (15).mp4', '/media/andre/11D9-5C57/KO152 Day20/KO152 Day 20 (16).mp4', '/media/andre/11D9-5C57/KO152 Day20/KO152 Day 20 (17).mp4', '/media/andre/11D9-5C57/KO152 Day20/KO152 Day 20 (18).mp4', '/media/andre/11D9-5C57/KO152 Day20/KO152 Day 20 (19).mp4', '/media/andre/11D9-5C57/KO152 Day20/KO152 Day 20 (20).mp4', '/media/andre/11D9-5C57/KO152 Day20/KO152 Day 20 (21).mp4', '/media/andre/11D9-5C57/KO152 Day20/KO152 Day 20 (22).mp4', '/media/andre/11D9-5C57/KO152 Day20/KO152 Day 20 (7).mp4', '/media/andre/11D9-5C57/KO152 Day20/KO152 Day 20 (8).mp4', '/media/andre/11D9-5C57/KO152 Day20/KO152 Day 20 (9).mp4', '/media/andre/11D9-5C57/KO152 Day20/KO152 day 20 (2).mp4', '/media/andre/11D9-5C57/KO152 Day20/KO152 day 20 (3).mp4', '/media/andre/11D9-5C57/KO152 Day20/KO152 Day 20 (4).mp4', '/media/andre/11D9-5C57/KO152 Day20/KO152 Day 20 (5).mp4', '/media/andre/11D9-5C57/KO152 Day20/KO152 Day 20 (6).mp4', '/media/andre/11D9-5C57/WT82 D10/WT82 D10 0700-0847.mp4', '/media/andre/11D9-5C57/WT82 D10/WT82 D10 847-1034.mp4', '/media/andre/11D9-5C57/WT82 D10/WT82 D10 1034-1221.mp4', '/media/andre/11D9-5C57/WT82 D10/WT82 D10 1221-1408.mp4', '/media/andre/11D9-5C57/WT82 D10/WT82 D10 1408-1556.mp4', '/media/andre/11D9-5C57/WT82 D10/WT82 D10 1556-1742.mp4', '/media/andre/11D9-5C57/WT82 D10/WT82 D10 1744-1930.mp4', '/media/andre/11D9-5C57/WT82 D10/WT82 D10 2105-2252.mp4', '/media/andre/11D9-5C57/WT82 D10/WT82 D10 2252-0039.mp4', '/media/andre/11D9-5C57/WT82 D10/WT82 D10 0039-0226.mp4', '/media/andre/11D9-5C57/WT82 D10/WT82 D10 0226-0414.mp4', '/media/andre/11D9-5C57/WT82 D10/WT82 D10 0414-0601.mp4', '/media/andre/11D9-5C57/WT82 D10/WT82 D10 0601-0748.mp4', '/media/andre/11D9-5C57/WT82 D10/WT82 D10 0748-0935.mp4', '/media/andre/11D9-5C57/WT82 D10/WT82 D10 0935-1122.mp4', '/media/andre/11D9-5C57/WT82 D10/WT82 D10 1122-1309.mp4', '/media/andre/11D9-5C57/WT82 D10/WT82 D10 1309-1456.mp4', '/media/andre/11D9-5C57/WT82 D10/WT82 D10 1456-1643.mp4', '/media/andre/11D9-5C57/WT82 D10/WT82 D10 1643-1830.mp4', '/media/andre/11D9-5C57/WT82 D10/WT82 D10 1830-2018.mp4', '/media/andre/11D9-5C57/WT82 D10/WT82 D10 2018-2205.mp4', '/media/andre/11D9-5C57/WT82 D10/WT82 D10 2205-2352.mp4', '/media/andre/11D9-5C57/WT82 D10/WT82 D10 2352-0139.mp4', '/media/andre/11D9-5C57/WT82 D10/WT82 D10 0139-0326.mp4', '/media/andre/11D9-5C57/WT82 D10/WT82 D10 0326-0513.mp4', '/media/andre/11D9-5C57/WT82 D10/WT82 D10 0513-0700.mp4', '/media/andre/11D9-5C57/WT82 DAY 20/WT82 DAY 20.mp4', '/media/andre/11D9-5C57/WT82 DAY 20/WT82 DAY 20 (1).mp4', '/media/andre/11D9-5C57/WT82 DAY 20/WT82 DAY 20 (2).mp4', '/media/andre/11D9-5C57/WT82 DAY 20/WT82 DAY 20 (3).mp4', '/media/andre/11D9-5C57/WT82 DAY 20/WT82 DAY 20 (4).mp4', '/media/andre/11D9-5C57/WT82 DAY 20/WT82 DAY 20 (5).mp4', '/media/andre/11D9-5C57/WT82 DAY 20/WT82 DAY 20 (6).mp4', '/media/andre/11D9-5C57/WT82 DAY 20/WT82 DAY 20 (7).mp4', '/media/andre/11D9-5C57/WT82 DAY 20/WT82 DAY 20 (8).mp4', '/media/andre/11D9-5C57/WT82 DAY 20/WT82 DAY 20 (9).mp4', '/media/andre/11D9-5C57/WT82 DAY 20/WT82 DAY 20 (10).mp4', '/media/andre/11D9-5C57/WT82 DAY 20/WT82 DAY 20 (11).mp4', '/media/andre/11D9-5C57/WT82 DAY 20/WT82 DAY 20 (12).mp4', '/media/andre/11D9-5C57/WT82 DAY 20/WT82 DAY 20 (13).mp4', '/media/andre/11D9-5C57/WT82 DAY 20/WT82 DAY 20 (14).mp4', '/media/andre/11D9-5C57/WT82 DAY 20/WT82 DAY 20 (15).mp4', '/media/andre/11D9-5C57/WT82 DAY 20/WT82 DAY 20 (16).mp4', '/media/andre/11D9-5C57/WT82 DAY 20/WT82 DAY 20 (17).mp4', '/media/andre/11D9-5C57/WT82 DAY 20/WT82 DAY 20 (18).mp4', '/media/andre/11D9-5C57/WT82 DAY 20/WT82 DAY 20 (19).mp4', '/media/andre/11D9-5C57/WT82 DAY 20/WT82 DAY 20 (20).mp4', '/media/andre/11D9-5C57/WT82 DAY 20/WT82 DAY 20 (21).mp4', '/media/andre/11D9-5C57/WT82 DAY 20/WT82 DAY 20 (22).mp4', '/media/andre/11D9-5C57/WT82 DAY 20/WT82 DAY 20 (23).mp4', '/media/andre/11D9-5C57/WT82 DAY 20/WT82 DAY 20 (24).mp4', '/media/andre/11D9-5C57/WT82 DAY 20/WT82 DAY 20 (25).mp4', '/media/andre/11D9-5C57/WT82 DAY 20/WT82 DAY 20 (26).mp4', '/media/andre/11D9-5C57/WT82 DAY 20/WT82 DAY 20 (27).mp4', '/media/andre/11D9-5C57/WT82 DAY 20/WT82 DAY 20 (28).mp4', '/media/andre/11D9-5C57/WT82 DAY 20/WT82 DAY 20 (29).mp4', '/media/andre/11D9-5C57/WT82 DAY 20/WT82 DAY 20 (30).mp4', '/media/andre/11D9-5C57/WT82 DAY 15/WT82 Day 15 (41).mp4', '/media/andre/11D9-5C57/WT82 DAY 15/WT82 Day 15 (1).mp4', '/media/andre/11D9-5C57/WT82 DAY 15/WT82 Day 15 (2).mp4', '/media/andre/11D9-5C57/WT82 DAY 15/WT82 Day 15 (3).mp4', '/media/andre/11D9-5C57/WT82 DAY 15/WT82 Day 15 (4).mp4', '/media/andre/11D9-5C57/WT82 DAY 15/WT82 Day 15 (5).mp4', '/media/andre/11D9-5C57/WT82 DAY 15/WT82 Day 15 (6).mp4', '/media/andre/11D9-5C57/WT82 DAY 15/WT82 Day 15 (7).mp4', '/media/andre/11D9-5C57/WT82 DAY 15/WT82 Day 15 (8).mp4', '/media/andre/11D9-5C57/WT82 DAY 15/WT82 Day 15 (9).mp4', '/media/andre/11D9-5C57/WT82 DAY 15/WT82 Day 15 (10).mp4', '/media/andre/11D9-5C57/WT82 DAY 15/WT82 Day 15 (11).mp4', '/media/andre/11D9-5C57/WT82 DAY 15/WT82 Day 15 (12).mp4', '/media/andre/11D9-5C57/WT82 DAY 15/WT82 Day 15 (13).mp4', '/media/andre/11D9-5C57/WT82 DAY 15/WT82 Day 15 (14).mp4', '/media/andre/11D9-5C57/WT82 DAY 15/WT82 Day 15 (15).mp4', '/media/andre/11D9-5C57/WT82 DAY 15/WT82 Day 15 (16).mp4', '/media/andre/11D9-5C57/WT82 DAY 15/WT82 Day 15 (17).mp4', '/media/andre/11D9-5C57/WT82 DAY 15/WT82 Day 15 (18).mp4', '/media/andre/11D9-5C57/WT82 DAY 15/WT82 Day 15 (19).mp4', '/media/andre/11D9-5C57/WT82 DAY 15/WT82 Day 15 (20).mp4', '/media/andre/11D9-5C57/WT82 DAY 15/WT82 Day 15 (21).mp4', '/media/andre/11D9-5C57/WT82 DAY 15/WT82 Day 15 (22).mp4', '/media/andre/11D9-5C57/WT82 DAY 15/WT82 Day 15 (23).mp4', '/media/andre/11D9-5C57/WT82 DAY 15/WT82 Day 15 (24).mp4', '/media/andre/11D9-5C57/WT82 DAY 15/WT82 Day 15 (25).mp4', '/media/andre/11D9-5C57/WT82 DAY 15/WT82 Day 15 (26).mp4', '/media/andre/11D9-5C57/WT82 DAY 15/WT82 Day 15 (27).mp4', '/media/andre/11D9-5C57/WT82 DAY 15/WT82 Day 15 (28).mp4', '/media/andre/11D9-5C57/WT82 DAY 15/WT82 Day 15 (29).mp4', '/media/andre/11D9-5C57/WT82 DAY 15/WT82 Day 15 (30).mp4', '/media/andre/11D9-5C57/WT82 DAY 15/WT82 Day 15 (31).mp4', '/media/andre/11D9-5C57/WT82 DAY 15/WT82 Day 15 (32).mp4', '/media/andre/11D9-5C57/WT82 DAY 15/WT82 Day 15 (33).mp4', '/media/andre/11D9-5C57/WT82 DAY 15/WT82 Day 15 (34).mp4', '/media/andre/11D9-5C57/WT82 DAY 15/WT82 Day 15 (35).mp4', '/media/andre/11D9-5C57/WT82 DAY 15/WT82 Day 15 (36).mp4', '/media/andre/11D9-5C57/WT82 DAY 15/WT82 Day 15 (37).mp4', '/media/andre/11D9-5C57/WT82 DAY 15/WT82 Day 15 (38).mp4', '/media/andre/11D9-5C57/WT82 DAY 15/WT82 Day 15 (39).mp4', '/media/andre/11D9-5C57/WT82 DAY 15/WT82 Day 15 (40).mp4', '/media/andre/11D9-5C57/WT72 DAY 20/WT72 DAY 20 (10).mp4', '/media/andre/11D9-5C57/WT72 DAY 20/WT72 DAY 20 (11).mp4', '/media/andre/11D9-5C57/WT72 DAY 20/WT72 DAY 20 (12).mp4', '/media/andre/11D9-5C57/WT72 DAY 20/WT72 DAY 20 (13).mp4', '/media/andre/11D9-5C57/WT72 DAY 20/WT72 DAY 20 (14).mp4', '/media/andre/11D9-5C57/WT72 DAY 20/WT72 DAY 20 (15).mp4', '/media/andre/11D9-5C57/WT72 DAY 20/WT72 DAY 20 (16).mp4', '/media/andre/11D9-5C57/WT72 DAY 20/WT72 DAY 20 (17).mp4', '/media/andre/11D9-5C57/WT72 DAY 20/WT72 DAY 20 (18).mp4', '/media/andre/11D9-5C57/WT72 DAY 20/WT72 DAY 20 (19).mp4', '/media/andre/11D9-5C57/WT72 DAY 20/WT72 DAY 20 (20).mp4', '/media/andre/11D9-5C57/WT72 DAY 20/WT72 DAY 20 (21).mp4', '/media/andre/11D9-5C57/WT72 DAY 20/WT72 DAY 20 (22).mp4', '/media/andre/11D9-5C57/WT72 DAY 20/WT72 DAY 20 (23).mp4', '/media/andre/11D9-5C57/WT72 DAY 20/WT72 DAY 20 (24).mp4', '/media/andre/11D9-5C57/WT72 DAY 20/WT72 DAY 20 (25).mp4', '/media/andre/11D9-5C57/WT72 DAY 20/WT72 DAY 20 (26).mp4', '/media/andre/11D9-5C57/WT72 DAY 20/WT72 DAY 20 (27).mp4', '/media/andre/11D9-5C57/WT72 DAY 20/WT72 DAY 20 (1).mp4', '/media/andre/11D9-5C57/WT72 DAY 20/WT72 DAY 20 (2).mp4', '/media/andre/11D9-5C57/WT72 DAY 20/WT72 DAY 20 (3).mp4', '/media/andre/11D9-5C57/WT72 DAY 20/WT72 DAY 20 (4).mp4', '/media/andre/11D9-5C57/WT72 DAY 20/WT72 DAY 20 (5).mp4', '/media/andre/11D9-5C57/WT72 DAY 20/WT72 DAY 20 (6).mp4', '/media/andre/11D9-5C57/WT72 DAY 20/WT72 DAY 20 (7).mp4', '/media/andre/11D9-5C57/WT72 DAY 20/WT72 DAY 20 (8).mp4', '/media/andre/11D9-5C57/WT72 DAY 20/WT72 DAY 20 (9).mp4', '/media/andre/11D9-5C57/WT72 DAY 20/wt72 day 20.mp4', '/media/andre/11D9-5C57/WT72 DAY 20/WT72 D20(6).mp4', '/media/andre/11D9-5C57/WT72 DAY 20/WT72 D20(7).mp4', '/media/andre/11D9-5C57/WT72 DAY 20/WT72 D20(8).mp4', '/media/andre/11D9-5C57/WT72 DAY 20/WT72 D20(9).mp4', '/media/andre/11D9-5C57/WT72 DAY 20/WT72 D20(10).mp4', '/media/andre/11D9-5C57/WT72 DAY 20/WT72 D20(11).mp4', '/media/andre/11D9-5C57/WT72 DAY 20/WT72 D20(12).mp4', '/media/andre/11D9-5C57/WT72 DAY 20/WT72 D20(13).mp4', '/media/andre/11D9-5C57/WT72 DAY 20/WT72 D20(14).mp4', '/media/andre/11D9-5C57/WT72 DAY 20/WT72 D20(15).mp4', '/media/andre/11D9-5C57/WT72 DAY 20/WT72 D20(17).mp4', '/media/andre/11D9-5C57/WT72 DAY 20/WT72 D20(18).mp4', '/media/andre/11D9-5C57/WT72 DAY 20/WT72 D20(19).mp4', '/media/andre/11D9-5C57/WT72 DAY 20/WT72 D20.mp4', '/media/andre/11D9-5C57/WT72 DAY 20/WT72D20(16).mp4', '/media/andre/11D9-5C57/WT72 DAY 20/WT72 D20 (2).mp4', '/media/andre/11D9-5C57/WT72 DAY 20/WT72 D20(3).mp4', '/media/andre/11D9-5C57/WT72 DAY 20/WT72 D20(4).mp4', '/media/andre/11D9-5C57/WT72 DAY 20/WT72 D20(5).mp4', '/media/andre/11D9-5C57/WT72 DAY 20/wt72 day 20 (28).mp4', '/media/andre/11D9-5C57/WT72 DAY 20/wt72 day 20 (29).mp4', '/media/andre/11D9-5C57/WT72 DAY 20/wt72 day 20 (30).mp4', '/media/andre/11D9-5C57/WT72 DAY 20/wt72 day 20 (31).mp4', '/media/andre/11D9-5C57/WT72 DAY 20/wt72 day 20 (32).mp4', '/media/andre/11D9-5C57/WT72 DAY 20/wt72 day 20 (33).mp4', '/media/andre/11D9-5C57/WT72 DAY 20/wt72 day 20 (34).mp4', '/media/andre/11D9-5C57/WT72 DAY 20/WT12 D15/WT12 D15.mp4', '/media/andre/11D9-5C57/WT72 DAY 20/WT12 D15/WT12 D15 (2).mp4', '/media/andre/11D9-5C57/WT72 DAY 20/WT12 D15/WT12 D15 (3).mp4', '/media/andre/11D9-5C57/WT72 DAY 20/WT12 D15/WT12 D15 (4).mp4', '/media/andre/11D9-5C57/WT72 DAY 20/WT12 D15/WT12 D15 (5).mp4', '/media/andre/11D9-5C57/WT72 DAY 20/WT12 D15/WT12 D15 (6).mp4', '/media/andre/11D9-5C57/WT72 DAY 20/WT12 D15/WT12 D15 (7).mp4', '/media/andre/11D9-5C57/WT72 DAY 20/WT12 D15/WT12 D15 (8).mp4', '/media/andre/11D9-5C57/WT72 DAY 20/WT12 D15/WT12 D15 (9).mp4', '/media/andre/11D9-5C57/WT72 DAY 20/WT12 D15/WT12 D15 (10).mp4', '/media/andre/11D9-5C57/WT72 DAY 20/WT12 D15/WT12 D15 (11).mp4', '/media/andre/11D9-5C57/WT72 DAY 20/WT12 D15/WT12 D15 (12).mp4', '/media/andre/11D9-5C57/WT72 DAY 20/WT12 D15/WT12 D15 (13).mp4', '/media/andre/11D9-5C57/WT72 DAY 20/WT12 D15/WT12 D15 (14).mp4', '/media/andre/11D9-5C57/WT72 DAY 20/WT12 D15/WT12 D15 (15).mp4', '/media/andre/11D9-5C57/WT72 DAY 20/WT12 D15/WT12 D15 (16).mp4', '/media/andre/11D9-5C57/WT72 DAY 20/WT12 D15/WT12 D15 (17).mp4', '/media/andre/11D9-5C57/WT72 DAY 20/WT12 D15/WT12 D15 (18).mp4', '/media/andre/11D9-5C57/WT72 DAY 20/WT12 D15/WT12 D15 (19).mp4', '/media/andre/11D9-5C57/WT72 DAY 20/WT12 D15/WT12 D15 (20).mp4', '/media/andre/11D9-5C57/WT72 DAY 20/WT12 D15/WT12 D15 (21).mp4', '/media/andre/11D9-5C57/WT72 DAY 20/WT12 D15/WT12 day 15/wt12 day 15 (3).mp4', '/media/andre/11D9-5C57/WT72 DAY 20/WT12 D15/WT12 day 15/wt12 day 15 (2).mp4', '/media/andre/11D9-5C57/WT72 DAY 20/WT12 D15/WT12 day 15/wt12 day 15 (5).mp4', '/media/andre/11D9-5C57/WT72 DAY 20/WT12 D15/WT12 day 15/wt12 day 15 (7).mp4', '/media/andre/11D9-5C57/WT72 DAY 20/WT12 D15/WT12 day 15/wt12 day 15 (6).mp4', '/media/andre/11D9-5C57/WT72 DAY 20/WT12 D15/WT12 day 15/wt12 day 15.mp4', '/media/andre/11D9-5C57/WT72 DAY 20/WT12 D15/WT12 day 15/wt12 day 15 (8).mp4', '/media/andre/11D9-5C57/WT72 DAY 20/WT12 D15/WT12 day 15/wt12 day 15 (4).mp4', '/media/andre/11D9-5C57/WT72 DAY 15/WT72 DAY 15 (42).mp4', '/media/andre/11D9-5C57/WT72 DAY 15/WT72 Day 15 (1).mp4', '/media/andre/11D9-5C57/WT72 DAY 15/WT72 Day 15 (2).mp4', '/media/andre/11D9-5C57/WT72 DAY 15/WT72 Day 15 (3).mp4', '/media/andre/11D9-5C57/WT72 DAY 15/WT72 Day 15 (4).mp4', '/media/andre/11D9-5C57/WT72 DAY 15/WT72 DAY 15 (5).mp4', '/media/andre/11D9-5C57/WT72 DAY 15/WT72 DAY 15 (6).mp4', '/media/andre/11D9-5C57/WT72 DAY 15/WT72 DAY 15 (7).mp4', '/media/andre/11D9-5C57/WT72 DAY 15/WT72 DAY 15 (8).mp4', '/media/andre/11D9-5C57/WT72 DAY 15/WT72 DAY 15 (9).mp4', '/media/andre/11D9-5C57/WT72 DAY 15/WT72 DAY 15 (10).mp4', '/media/andre/11D9-5C57/WT72 DAY 15/WT72 DAY 15 (11).mp4', '/media/andre/11D9-5C57/WT72 DAY 15/WT72 DAY 15 (12).mp4', '/media/andre/11D9-5C57/WT72 DAY 15/WT72 DAY 15 (13).mp4', '/media/andre/11D9-5C57/WT72 DAY 15/WT72 DAY 15 (14).mp4', '/media/andre/11D9-5C57/WT72 DAY 15/WT72 DAY 15 (15).mp4', '/media/andre/11D9-5C57/WT72 DAY 15/WT72 DAY 15 (16).mp4', '/media/andre/11D9-5C57/WT72 DAY 15/WT72 DAY 15 (17).mp4', '/media/andre/11D9-5C57/WT72 DAY 15/WT72 DAY 15 (18).mp4', '/media/andre/11D9-5C57/WT72 DAY 15/WT72 DAY 15 (19).mp4', '/media/andre/11D9-5C57/WT72 DAY 15/WT72 DAY 15 (20).mp4', '/media/andre/11D9-5C57/WT72 DAY 15/WT72 DAY 15 (21).mp4', '/media/andre/11D9-5C57/WT72 DAY 15/WT72 DAY 15 (22).mp4', '/media/andre/11D9-5C57/WT72 DAY 15/WT72 DAY 15 (23).mp4', '/media/andre/11D9-5C57/WT72 DAY 15/WT72 DAY 15 (24).mp4', '/media/andre/11D9-5C57/WT72 DAY 15/WT72 DAY 15 (25).mp4', '/media/andre/11D9-5C57/WT72 DAY 15/WT72 DAY 15 (26).mp4', '/media/andre/11D9-5C57/WT72 DAY 15/WT72 DAY 15 (27).mp4', '/media/andre/11D9-5C57/WT72 DAY 15/WT72 DAY 15 (28).mp4', '/media/andre/11D9-5C57/WT72 DAY 15/WT72 DAY 15 (29).mp4', '/media/andre/11D9-5C57/WT72 DAY 15/WT72 DAY 15 (30).mp4', '/media/andre/11D9-5C57/WT72 DAY 15/WT72 DAY 15 (31).mp4', '/media/andre/11D9-5C57/WT72 DAY 15/WT72 DAY 15 (32).mp4', '/media/andre/11D9-5C57/WT72 DAY 15/WT72 DAY 15 (33).mp4', '/media/andre/11D9-5C57/WT72 DAY 15/WT72 DAY 15 (34).mp4', '/media/andre/11D9-5C57/WT72 DAY 15/WT72 DAY 15 (35).mp4', '/media/andre/11D9-5C57/WT72 DAY 15/WT72 DAY 15 (36).mp4', '/media/andre/11D9-5C57/WT72 DAY 15/WT72 DAY 15 (37).mp4', '/media/andre/11D9-5C57/WT72 DAY 15/WT72 DAY 15 (38).mp4', '/media/andre/11D9-5C57/WT72 DAY 15/WT72 DAY 15 (39).mp4', '/media/andre/11D9-5C57/WT72 DAY 15/WT72 DAY 15 (40).mp4', '/media/andre/11D9-5C57/WT72 DAY 15/WT72 DAY 15 (41).mp4', '/media/andre/11D9-5C57/WT72 DAY 10/WT72 Day 10.mp4', '/media/andre/11D9-5C57/WT72 DAY 10/WT72 Day 10 (1).mp4', '/media/andre/11D9-5C57/WT72 DAY 10/WT72 Day 10 (2).mp4', '/media/andre/11D9-5C57/WT72 DAY 10/WT72 Day 10 (3).mp4', '/media/andre/11D9-5C57/WT72 DAY 10/WT72 Day 10 (4).mp4', '/media/andre/11D9-5C57/WT72 DAY 10/WT72 Day 10 (5).mp4', '/media/andre/11D9-5C57/WT72 DAY 10/WT72 Day 10 (6).mp4', '/media/andre/11D9-5C57/WT72 DAY 10/WT72 Day 10 (7).mp4', '/media/andre/11D9-5C57/WT72 DAY 10/WT72 Day 10 (8).mp4', '/media/andre/11D9-5C57/WT72 DAY 10/WT72 Day 10 (9).mp4', '/media/andre/11D9-5C57/WT72 DAY 10/WT72 Day 10 (10).mp4', '/media/andre/11D9-5C57/WT72 DAY 10/WT72 Day 10 (11).mp4', '/media/andre/11D9-5C57/WT72 DAY 10/WT72 Day 10 (12).mp4', '/media/andre/11D9-5C57/WT72 DAY 10/WT72 Day 10 (13).mp4', '/media/andre/11D9-5C57/WT72 DAY 10/WT72 Day 10 (14).mp4', '/media/andre/11D9-5C57/WT72 DAY 10/WT72 Day 10 (15).mp4', '/media/andre/11D9-5C57/WT72 DAY 10/WT72 Day 10 (16).mp4', '/media/andre/11D9-5C57/WT72 DAY 10/WT72 Day 10 (17).mp4', '/media/andre/11D9-5C57/WT72 DAY 10/WT72 Day 10 (18).mp4', '/media/andre/11D9-5C57/WT72 DAY 10/WT72 Day 10 (19).mp4', '/media/andre/11D9-5C57/WT72 DAY 10/WT72 Day 10 (20).mp4', '/media/andre/11D9-5C57/WT72 DAY 10/WT72 Day 10 (21).mp4', '/media/andre/11D9-5C57/WT72 DAY 10/WT72 Day 10 (22).mp4', '/media/andre/11D9-5C57/WT72 DAY 10/WT72 Day 10 (23).mp4', '/media/andre/11D9-5C57/WT72 DAY 10/WT72 Day 10 (24).mp4', '/media/andre/11D9-5C57/WT72 DAY 10/WT72 Day 10 (25).mp4', '/media/andre/11D9-5C57/WT72 DAY 10/WT72 Day 10 (26).mp4', '/media/andre/11D9-5C57/WT8 DAY 15/wt8 day15.mp4', '/media/andre/11D9-5C57/WT8 DAY 15/wt8 day 15 (1).mp4', '/media/andre/11D9-5C57/WT8 DAY 15/wt8 day 15 (2).mp4', '/media/andre/11D9-5C57/WT8 DAY 15/wt8 day 15 (3).mp4', '/media/andre/11D9-5C57/WT8 DAY 15/wt8 day 15 (4).mp4', '/media/andre/11D9-5C57/WT8 DAY 15/wt8 day 15 (5).mp4', '/media/andre/11D9-5C57/WT8 DAY 15/WT8 day 15 (6).mp4', '/media/andre/11D9-5C57/WT8 DAY 15/WT8 day 15 (7).mp4', '/media/andre/11D9-5C57/WT8 DAY 15/WT8 day15 (1).mp4', '/media/andre/11D9-5C57/WT8 DAY 15/WT8 day15 (2).mp4', '/media/andre/11D9-5C57/WT8 DAY 15/WT8 day15 (3).mp4', '/media/andre/11D9-5C57/WT8 DAY 15/WT8 day15 (4).mp4', '/media/andre/11D9-5C57/WT8 DAY 15/WT8 day15 (5).mp4', '/media/andre/11D9-5C57/WT8 DAY 15/WT8 day15 (6).mp4', '/media/andre/11D9-5C57/WT8 DAY 15/WT8 day15 (7).mp4', '/media/andre/11D9-5C57/WT8 DAY 15/WT8 day15 (8).mp4', '/media/andre/11D9-5C57/WT8 DAY 15/WT8 day15 (9).mp4', '/media/andre/11D9-5C57/WT8 DAY 15/WT8 day 15.mp4', '/media/andre/11D9-5C57/WT8 DAY 15/WT8 day 15 (8).mp4', '/media/andre/11D9-5C57/WT8 DAY 15/WT8 day 15 (9).mp4', '/media/andre/11D9-5C57/WT6 DAY 20/WT6 day 20 (26).mp4', '/media/andre/11D9-5C57/WT6 DAY 20/WT6 Day 20.mp4', '/media/andre/11D9-5C57/WT6 DAY 20/WT6 D20 (1).mp4', '/media/andre/11D9-5C57/WT6 DAY 20/WT6 D20 (2).mp4', '/media/andre/11D9-5C57/WT6 DAY 20/WT6 D20 (3).mp4', '/media/andre/11D9-5C57/WT6 DAY 20/WT6 D20 (4).mp4', '/media/andre/11D9-5C57/WT6 DAY 20/WT6 D20 (5).mp4', '/media/andre/11D9-5C57/WT6 DAY 20/WT6 Day 20 (1).mp4', '/media/andre/11D9-5C57/WT6 DAY 20/WT6 Day 20 (2).mp4', '/media/andre/11D9-5C57/WT6 DAY 20/WT6 Day 20 (3).mp4', '/media/andre/11D9-5C57/WT6 DAY 20/WT6 Day 20 (4).mp4', '/media/andre/11D9-5C57/WT6 DAY 20/WT6 Day 20 (5).mp4', '/media/andre/11D9-5C57/WT6 DAY 20/WT6 Day 20 (6).mp4', '/media/andre/11D9-5C57/WT6 DAY 20/WT6 Day 20 (7).mp4', '/media/andre/11D9-5C57/WT6 DAY 20/WT6 Day 20 (8).mp4', '/media/andre/11D9-5C57/WT6 DAY 20/WT6 Day 20 (9).mp4', '/media/andre/11D9-5C57/WT6 DAY 20/WT6 Day 20 (10).mp4', '/media/andre/11D9-5C57/WT6 DAY 20/WT6 Day 20 (11).mp4', '/media/andre/11D9-5C57/WT6 DAY 20/WT6 Day 20 (12).mp4', '/media/andre/11D9-5C57/WT6 DAY 20/WT6 Day 20 (13).mp4', '/media/andre/11D9-5C57/WT6 DAY 20/WT6 day 20 (14).mp4', '/media/andre/11D9-5C57/WT6 DAY 20/WT6 day 20 (15).mp4', '/media/andre/11D9-5C57/WT6 DAY 20/WT6 day 20 (16).mp4', '/media/andre/11D9-5C57/WT6 DAY 20/WT6 day 20 (17).mp4', '/media/andre/11D9-5C57/WT6 DAY 20/WT6 day 20 (18).mp4', '/media/andre/11D9-5C57/WT6 DAY 20/WT6 day 20 (19).mp4', '/media/andre/11D9-5C57/WT6 DAY 20/WT6 day 20 (20).mp4', '/media/andre/11D9-5C57/WT6 DAY 20/WT6 day 20 (21).mp4', '/media/andre/11D9-5C57/WT6 DAY 20/WT6 day 20 (22).mp4', '/media/andre/11D9-5C57/WT6 DAY 20/WT6 day 20 (23).mp4', '/media/andre/11D9-5C57/WT6 DAY 20/WT6 day 20 (24).mp4', '/media/andre/11D9-5C57/WT6 DAY 20/WT6 day 20 (25).mp4', '/media/andre/11D9-5C57/WT3 DAY 20/WT3 Day 20 (25).mp4', '/media/andre/11D9-5C57/WT3 DAY 20/WT3 Day 20 (1).mp4', '/media/andre/11D9-5C57/WT3 DAY 20/WT3 Day 20 (2).mp4', '/media/andre/11D9-5C57/WT3 DAY 20/WT3 Day 20 (3).mp4', '/media/andre/11D9-5C57/WT3 DAY 20/WT3 Day 20 (4).mp4', '/media/andre/11D9-5C57/WT3 DAY 20/WT3 Day 20 (5).mp4', '/media/andre/11D9-5C57/WT3 DAY 20/WT3 Day 20 (6).mp4', '/media/andre/11D9-5C57/WT3 DAY 20/WT3 Day 20 (7).mp4', '/media/andre/11D9-5C57/WT3 DAY 20/WT3 Day 20 (8).mp4', '/media/andre/11D9-5C57/WT3 DAY 20/WT3 Day 20 (9).mp4', '/media/andre/11D9-5C57/WT3 DAY 20/WT3 Day 20 (10).mp4', '/media/andre/11D9-5C57/WT3 DAY 20/WT3 Day 20 (11).mp4', '/media/andre/11D9-5C57/WT3 DAY 20/WT3 Day 20 (12).mp4', '/media/andre/11D9-5C57/WT3 DAY 20/WT3 day 20 (13).mp4', '/media/andre/11D9-5C57/WT3 DAY 20/WT3 day 20 (14).mp4', '/media/andre/11D9-5C57/WT3 DAY 20/WT3 day 20 (15).mp4', '/media/andre/11D9-5C57/WT3 DAY 20/WT3 day 20 (16).mp4', '/media/andre/11D9-5C57/WT3 DAY 20/WT3 Day 20 (17).mp4', '/media/andre/11D9-5C57/WT3 DAY 20/WT3 Day 20 (18).mp4', '/media/andre/11D9-5C57/WT3 DAY 20/WT3 Day 20 (19).mp4', '/media/andre/11D9-5C57/WT3 DAY 20/WT3 Day 20 (20).mp4', '/media/andre/11D9-5C57/WT3 DAY 20/WT3 Day 20 (21).mp4', '/media/andre/11D9-5C57/WT3 DAY 20/WT3 Day 20 (22).mp4', '/media/andre/11D9-5C57/WT3 DAY 20/WT3 Day 20 (23).mp4', '/media/andre/11D9-5C57/WT3 DAY 20/WT3 Day 20 (24).mp4', '/media/andre/11D9-5C57/KO152 DAY 15/KO152 Day 15 (2).mp4', '/media/andre/11D9-5C57/KO152 DAY 15/KO152 Day 15 (3).mp4', '/media/andre/11D9-5C57/KO152 DAY 15/KO152 Day 15 (1).mp4', '/media/andre/11D9-5C57/KO152 DAY 15/ch06_20150303050724.mp4', '/media/andre/11D9-5C57/KO152 DAY 15/ch06_20150303065429.mp4', '/media/andre/11D9-5C57/KO152 DAY 15/ch06_20150303084136.mp4', '/media/andre/11D9-5C57/KO152 DAY 15/ch06_20150303102843.mp4', '/media/andre/11D9-5C57/KO152 DAY 15/ch06_20150303121548.mp4', '/media/andre/11D9-5C57/KO152 DAY 15/ch06_20150303140255.mp4', '/media/andre/11D9-5C57/KO152 DAY 15/ch06_20150303155001.mp4', '/media/andre/11D9-5C57/KO152 DAY 15/KO152 day15.mp4', '/media/andre/11D9-5C57/KO152 DAY 15/KO152 day 15.mp4', '/media/andre/11D9-5C57/KO152 DAY 15/KO152day15.mp4', '/media/andre/11D9-5C57/KO152 DAY 15/ch06_20150302092918.mp4', '/media/andre/11D9-5C57/KO152 DAY 15/ch06_20150302111623.mp4', '/media/andre/11D9-5C57/KO152 DAY 15/ch06_20150302130329.mp4', '/media/andre/11D9-5C57/KO152 DAY 15/ch06_20150302145036.mp4', '/media/andre/11D9-5C57/KO152 DAY 15/ch06_20150302163741.mp4', '/media/andre/11D9-5C57/KO152 DAY 15/ch06_20150302182446.mp4', '/media/andre/11D9-5C57/KO152 DAY 15/ch06_20150302201153.mp4', '/media/andre/11D9-5C57/KO152 DAY 15/ch06_20150302215900.mp4', '/media/andre/11D9-5C57/KO152 DAY 15/ch06_20150302234605.mp4', '/media/andre/11D9-5C57/KO152 DAY 15/ch06_20150303013312.mp4', '/media/andre/11D9-5C57/KO152 DAY 15/ch06_20150303032017.mp4', '/media/andre/11D9-5C57/KO152 DAY 15/KO152 day 15 (C).mp4', '/media/andre/11D9-5C57/KO152 DAY 15/KO152 day15 (C).mp4', '/media/andre/11D9-5C57/KO152 DAY 15/KO152day15 (D).mp4', '/media/andre/11D9-5C57/KO152 DAY 15/KO152 day 15 (A).mp4', '/media/andre/11D9-5C57/KO152 DAY 15/KO152 day 15 (B).mp4', '/media/andre/11D9-5C57/KO152 DAY 10/KO152 Day 10.mp4', '/media/andre/11D9-5C57/KO152 DAY 10/KO152 Day 10 (1).mp4', '/media/andre/11D9-5C57/KO152 DAY 10/KO152 Day 10 (2).mp4', '/media/andre/11D9-5C57/KO152 DAY 10/KO152 Day 10 (3).mp4', '/media/andre/11D9-5C57/KO152 DAY 10/KO152 Day 10 (4).mp4', '/media/andre/11D9-5C57/KO152 DAY 10/KO152 Day 10 (5).mp4', '/media/andre/11D9-5C57/KO152 DAY 10/KO152 Day 10 (6).mp4', '/media/andre/11D9-5C57/KO152 DAY 10/KO152 Day 10 (7).mp4', '/media/andre/11D9-5C57/KO152 DAY 10/KO152 Day 10 (8).mp4', '/media/andre/11D9-5C57/KO152 DAY 10/KO152 Day 10 (9).mp4', '/media/andre/11D9-5C57/KO152 DAY 10/KO152 Day 10 (10).mp4', '/media/andre/11D9-5C57/KO152 DAY 10/KO152 Day 10 (11).mp4', '/media/andre/11D9-5C57/KO152 DAY 10/KO152 Day 10 (12).mp4', '/media/andre/11D9-5C57/KO152 DAY 10/KO152 Day 10 (13).mp4', '/media/andre/11D9-5C57/KO152 DAY 10/KO152 Day 10 (14).mp4', '/media/andre/11D9-5C57/KO152 DAY 10/KO152 Day 10 (15).mp4', '/media/andre/11D9-5C57/KO152 DAY 10/KO152 Day 10 (16).mp4', '/media/andre/11D9-5C57/KO152 DAY 10/KO152 Day 10 (17).mp4', '/media/andre/11D9-5C57/KO152 DAY 10/KO152 Day 10 (18).mp4', '/media/andre/11D9-5C57/KO152 DAY 10/KO152 Day 10 (19).mp4', '/media/andre/11D9-5C57/KO152 DAY 10/KO152 Day 10 (20).mp4', '/media/andre/11D9-5C57/KO152 DAY 10/KO152 Day 10 (21).mp4', '/media/andre/11D9-5C57/KO152 DAY 10/KO152 Day 10 (22).mp4', '/media/andre/11D9-5C57/KO152 DAY 10/KO152 Day 10 (23).mp4', '/media/andre/11D9-5C57/KO152 DAY 10/KO152 Day 10 (24).mp4', '/media/andre/11D9-5C57/KO152 DAY 10/KO152 Day 10 (25).mp4', '/media/andre/11D9-5C57/KO152 DAY 10/KO152 Day 10 (26).mp4', '/media/andre/11D9-5C57/KO152 DAY 10/KO152 Day 10 (27).mp4', '/media/andre/11D9-5C57/KO10 DAY 20/KO10 Day 20 (28).mp4', '/media/andre/11D9-5C57/KO10 DAY 20/KO10 Day 20 (1).mp4', '/media/andre/11D9-5C57/KO10 DAY 20/KO10 Day 20 (2).mp4', '/media/andre/11D9-5C57/KO10 DAY 20/KO10 Day 20 (3).mp4', '/media/andre/11D9-5C57/KO10 DAY 20/KO10 Day 20 (4).mp4', '/media/andre/11D9-5C57/KO10 DAY 20/KO10 Day 20 (5).mp4', '/media/andre/11D9-5C57/KO10 DAY 20/KO10 Day 20 (6).mp4', '/media/andre/11D9-5C57/KO10 DAY 20/KO10 Day 20 (7).mp4', '/media/andre/11D9-5C57/KO10 DAY 20/KO10 Day 20 (8).mp4', '/media/andre/11D9-5C57/KO10 DAY 20/KO10 Day 20 (9).mp4', '/media/andre/11D9-5C57/KO10 DAY 20/KO10 Day 20 (10).mp4', '/media/andre/11D9-5C57/KO10 DAY 20/KO10 Day 20 (11).mp4', '/media/andre/11D9-5C57/KO10 DAY 20/KO10 Day 20 (12).mp4', '/media/andre/11D9-5C57/KO10 DAY 20/KO10 Day 20 (13).mp4', '/media/andre/11D9-5C57/KO10 DAY 20/KO10 Day 20 (14).mp4', '/media/andre/11D9-5C57/KO10 DAY 20/KO10 Day 20 (15).mp4', '/media/andre/11D9-5C57/KO10 DAY 20/KO10 Day 20 (16).mp4', '/media/andre/11D9-5C57/KO10 DAY 20/KO10 Day 20 (17).mp4', '/media/andre/11D9-5C57/KO10 DAY 20/KO10 Day 20 (18).mp4', '/media/andre/11D9-5C57/KO10 DAY 20/KO10 Day 20 (19).mp4', '/media/andre/11D9-5C57/KO10 DAY 20/KO10 Day 20 (20).mp4', '/media/andre/11D9-5C57/KO10 DAY 20/KO10 Day 20 (21).mp4', '/media/andre/11D9-5C57/KO10 DAY 20/KO10 Day 20 (22).mp4', '/media/andre/11D9-5C57/KO10 DAY 20/KO10 Day 20 (23).mp4', '/media/andre/11D9-5C57/KO10 DAY 20/KO10 Day 20 (24).mp4', '/media/andre/11D9-5C57/KO10 DAY 20/KO10 Day 20 (25).mp4', '/media/andre/11D9-5C57/KO10 DAY 20/KO10 Day 20 (26).mp4', '/media/andre/11D9-5C57/KO10 DAY 20/KO10 Day 20 (27).mp4', '/media/andre/11D9-5C57/KO10 DAY 20/._KO10 Day 20 (3).mp4', '/media/andre/11D9-5C57/KO10 DAY 20/._KO10 Day 20 (17).mp4', '/media/andre/11D9-5C57/KO10 DAY 20/._KO10 Day 20 (18).mp4', '/media/andre/11D9-5C57/KO10 DAY 20/._KO10 Day 20 (19).mp4', '/media/andre/11D9-5C57/KO10 DAY 20/._KO10 Day 20 (20).mp4', '/media/andre/11D9-5C57/KO10 DAY 20/._KO10 Day 20 (21).mp4', '/media/andre/11D9-5C57/KO10 DAY 20/._KO10 Day 20 (22).mp4', '/media/andre/11D9-5C57/KO10 DAY 20/._KO10 Day 20 (23).mp4', '/media/andre/11D9-5C57/KO10 DAY 20/._KO10 Day 20 (24).mp4', '/media/andre/11D9-5C57/KO10 DAY 20/._KO10 Day 20 (25).mp4', '/media/andre/11D9-5C57/KO10 DAY 20/._KO10 Day 20 (26).mp4', '/media/andre/11D9-5C57/KO10 DAY 20/._KO10 Day 20 (27).mp4', '/media/andre/11D9-5C57/KO10 DAY 15/KO10 Day 15 (18).mp4', '/media/andre/11D9-5C57/KO10 DAY 15/KO10 Day 15 (19).mp4', '/media/andre/11D9-5C57/KO10 DAY 15/KO10 Day 15 (20).mp4', '/media/andre/11D9-5C57/KO10 DAY 15/KO10 Day 15 (21).mp4', '/media/andre/11D9-5C57/KO10 DAY 15/KO10 Day 15 (22).mp4', '/media/andre/11D9-5C57/KO10 DAY 15/KO10 Day 15 (23).mp4', '/media/andre/11D9-5C57/KO10 DAY 15/KO10 Day 15 (24).mp4', '/media/andre/11D9-5C57/KO10 DAY 15/KO10 Day 15 (25).mp4', '/media/andre/11D9-5C57/KO10 DAY 15/KO10 Day 15.mp4', '/media/andre/11D9-5C57/KO10 DAY 15/KO10 Day 15 sat 15.32.mp4', '/media/andre/11D9-5C57/KO10 DAY 15/KO10 Day 15 sun 7.36.mp4', '/media/andre/11D9-5C57/KO10 DAY 15/KO10 Day 15 sat 17.20.mp4', '/media/andre/11D9-5C57/KO10 DAY 15/KO10 Day 15 sat 19.07.mp4', '/media/andre/11D9-5C57/KO10 DAY 15/KO10 Day 15 sat 20.54.mp4', '/media/andre/11D9-5C57/KO10 DAY 15/KO10 Day 15 sat 22.41.mp4', '/media/andre/11D9-5C57/KO10 DAY 15/KO10 Day 15 sun 00.28.mp4', '/media/andre/11D9-5C57/KO10 DAY 15/KO10 Day 15 sun 2.15.mp4', '/media/andre/11D9-5C57/KO10 DAY 15/KO10 Day 15 sun 4.02.mp4', '/media/andre/11D9-5C57/KO10 DAY 15/KO10 Day 15 sun 5.49.mp4', '/media/andre/11D9-5C57/KO10 DAY 15/._KO10 day 15 (12).mp4', '/media/andre/11D9-5C57/KO10 DAY 15/KO10 day 15 (12).mp4', '/media/andre/11D9-5C57/KO10 DAY 15/KO10 day 15 (13).mp4', '/media/andre/11D9-5C57/KO10 DAY 15/KO10 Day 15 (14).mp4', '/media/andre/11D9-5C57/KO10 DAY 15/KO10 Day 15 (15).mp4', '/media/andre/11D9-5C57/KO10 DAY 15/KO10 Day 15 (16).mp4', '/media/andre/11D9-5C57/KO10 DAY 15/KO10 Day 15 (17).mp4', '/media/andre/11D9-5C57/KO10 DAY 15/KO10 Day 15 sat 14.58.mp4', '/media/andre/11D9-5C57/KO10 DAY 15/._KO10 Day 15 sat 14.58.mp4', '/media/andre/11D9-5C57/KO10 DAY 15/._KO10 Day 15 sat 20.54.mp4', '/media/andre/11D9-5C57/KO10 DAY 15/._KO10 Day 15 (18).mp4', '/media/andre/11D9-5C57/KO10 DAY 15/._KO10 day 15 (13).mp4', '/media/andre/11D9-5C57/KO10 DAY 15/._KO10 Day 15 (14).mp4', '/media/andre/11D9-5C57/KO10 DAY 15/._KO10 Day 15 (15).mp4', '/media/andre/11D9-5C57/KO10 DAY 15/._KO10 Day 15 (20).mp4', '/media/andre/11D9-5C57/KO10 DAY 15/._KO10 Day 15 (16).mp4', '/media/andre/11D9-5C57/KO10 DAY 15/._KO10 Day 15 (21).mp4', '/media/andre/11D9-5C57/KO10 DAY 15/._KO10 Day 15 (22).mp4', '/media/andre/11D9-5C57/KO10 DAY 15/._KO10 Day 15 (23).mp4', '/media/andre/11D9-5C57/WT72 D15/WT72 day 15(10).mp4', '/media/andre/11D9-5C57/WT72 D15/WT72 D15 (26).mp4', '/media/andre/11D9-5C57/WT72 D15/WT72 D15(1).mp4', '/media/andre/11D9-5C57/WT72 D15/WT72 D15(2).mp4', '/media/andre/11D9-5C57/WT72 D15/WT72 D15(3).mp4', '/media/andre/11D9-5C57/WT72 D15/WT72 D15(4).mp4', '/media/andre/11D9-5C57/WT72 D15/WT72 D15(5).mp4', '/media/andre/11D9-5C57/WT72 D15/WT72 D15(6).mp4', '/media/andre/11D9-5C57/WT72 D15/WT72 D15(7).mp4', '/media/andre/11D9-5C57/WT72 D15/WT72 D15(8).mp4', '/media/andre/11D9-5C57/WT72 D15/WT72 D15(9).mp4', '/media/andre/11D9-5C57/WT72 D15/WT72 D15(11).mp4', '/media/andre/11D9-5C57/WT72 D15/WT72 D15(12).mp4', '/media/andre/11D9-5C57/WT72 D15/WT72 D15(13).mp4', '/media/andre/11D9-5C57/WT72 D15/WT72 D15(14).mp4', '/media/andre/11D9-5C57/WT72 D15/WT72 D15(15).mp4', '/media/andre/11D9-5C57/WT72 D15/WT72 D15(20).mp4', '/media/andre/11D9-5C57/WT72 D15/WT72 D15(21).mp4', '/media/andre/11D9-5C57/WT72 D15/WT72 D15(22).mp4', '/media/andre/11D9-5C57/WT72 D15/WT72 D15(23).mp4', '/media/andre/11D9-5C57/WT72 D15/WT72 D15(24).mp4', '/media/andre/11D9-5C57/WT72 D15/WT72 D15(25).mp4', '/media/andre/11D9-5C57/WT72 D15/WT72 D15(27).mp4', '/media/andre/11D9-5C57/WT72 D15/WT72 D15(28).mp4', '/media/andre/11D9-5C57/WT72 D15/WT72 D15(29).mp4', '/media/andre/11D9-5C57/WT72 D15/WT72 D15.mp4', '/media/andre/11D9-5C57/WT82 D20/WT82 D20(12).mp4', '/media/andre/11D9-5C57/WT82 D20/WT82 D20(13).mp4', '/media/andre/11D9-5C57/WT82 D20/WT82 D20(14).mp4', '/media/andre/11D9-5C57/WT82 D20/WT82 D20(15).mp4', '/media/andre/11D9-5C57/WT82 D20/WT82 D20(16).mp4', '/media/andre/11D9-5C57/WT82 D20/WT82 D20(17).mp4', '/media/andre/11D9-5C57/WT82 D20/WT82 D20(18).mp4', '/media/andre/11D9-5C57/WT82 D20/WT82 D20(19).mp4', '/media/andre/11D9-5C57/WT82 D20/WT82 D20 (2).mp4', '/media/andre/11D9-5C57/WT82 D20/WT82 D20 (3).mp4', '/media/andre/11D9-5C57/WT82 D20/WT82 D20 (4).mp4', '/media/andre/11D9-5C57/WT82 D20/WT82 D20 (5).mp4', '/media/andre/11D9-5C57/WT82 D20/WT82 D20 (6).mp4', '/media/andre/11D9-5C57/WT82 D20/WT82 D20 (7).mp4', '/media/andre/11D9-5C57/WT82 D20/WT82 D20 (8).mp4', '/media/andre/11D9-5C57/WT82 D20/WT82 D20 (9).mp4', '/media/andre/11D9-5C57/WT82 D20/WT82 D20 (10).mp4', '/media/andre/11D9-5C57/WT82 D20/WT82 D20 (11).mp4', '/media/andre/11D9-5C57/WT82 D20/WT82 D20 (12).mp4', '/media/andre/11D9-5C57/WT82 D20/WT82 D20(1).mp4', '/media/andre/11D9-5C57/WT82 D20/WT82 D20(2).mp4', '/media/andre/11D9-5C57/WT82 D20/WT82 D20(3).mp4', '/media/andre/11D9-5C57/WT82 D20/WT82 D20(4).mp4', '/media/andre/11D9-5C57/WT82 D20/WT82 D20(5).mp4', '/media/andre/11D9-5C57/WT82 D20/WT82 D20(6).mp4', '/media/andre/11D9-5C57/WT82 D20/WT82 D20(7).mp4', '/media/andre/11D9-5C57/WT82 D20/WT82 D20(9).mp4', '/media/andre/11D9-5C57/WT82 D20/WT82 D20(10).mp4', '/media/andre/11D9-5C57/WT82 D20/WT82 D20(11).mp4', '/media/andre/11D9-5C57/WT82 D20/WT82 D20.mp4', '/media/andre/11D9-5C57/Day10s/wt82 day 10.mp4', '/media/andre/11D9-5C57/Day10s/wt82 day 10 (5).mp4', '/media/andre/11D9-5C57/Day10s/wt82 day 10 (4).mp4', '/media/andre/11D9-5C57/Day10s/wt82 day 10 (6).mp4', '/media/andre/11D9-5C57/Day10s/wt82 day 10 (7).mp4', '/media/andre/11D9-5C57/Day10s/wt82 day 10 (8).mp4', '/media/andre/11D9-5C57/Day10s/wt82 day 10 (9).mp4', '/media/andre/11D9-5C57/Day10s/wt82 day 10 (10).mp4', '/media/andre/11D9-5C57/Day10s/wt82 day 10 (11).mp4', '/media/andre/11D9-5C57/Day10s/wt82 day 10 (12).mp4', '/media/andre/11D9-5C57/Day10s/wt82 day 10 (13).mp4', '/media/andre/11D9-5C57/Day10s/wt82 day 10 (14).mp4', '/media/andre/11D9-5C57/Day10s/wt82 day 10 (15).mp4', '/media/andre/11D9-5C57/Day10s/wt82 day 10 (16).mp4', '/media/andre/11D9-5C57/Day10s/wt82 day 10 (3).mp4', '/media/andre/11D9-5C57/Day10s/wt12 day 10 (21).mp4', '/media/andre/11D9-5C57/Day10s/wt12 day 10 (22).mp4', '/media/andre/11D9-5C57/Day10s/wt12 day 10 (23).mp4', '/media/andre/11D9-5C57/Day10s/wt12 day 10 (24).mp4', '/media/andre/11D9-5C57/Day10s/wt12 day 10 (25).mp4', '/media/andre/11D9-5C57/Day10s/wt12 day 10 (26).mp4', '/media/andre/11D9-5C57/Day10s/wt12 day 10 (27).mp4', '/media/andre/11D9-5C57/Day10s/wt12 day 10 (28).mp4', '/media/andre/11D9-5C57/Day10s/wt12 day 10 (29).mp4', '/media/andre/11D9-5C57/Day10s/wt12 day 10 (30).mp4', '/media/andre/11D9-5C57/Day10s/wt12 day 10 (31).mp4', '/media/andre/11D9-5C57/Day10s/wt12 day 10 (32).mp4', '/media/andre/11D9-5C57/Day10s/wt12 day 10 (33).mp4', '/media/andre/11D9-5C57/Day10s/wt12 day 10 (34).mp4', '/media/andre/11D9-5C57/Day10s/wt12 day 10.mp4', '/media/andre/11D9-5C57/Day10s/wt12 day10.mp4', '/media/andre/11D9-5C57/Day10s/wt82 day 10 (2).mp4', '/media/andre/11D9-5C57/Day10s/WT3 day 10 (3).mp4', '/media/andre/11D9-5C57/Day10s/WT3 day 10.mp4', '/media/andre/11D9-5C57/Day10s/wt12 day 10 (2).mp4', '/media/andre/11D9-5C57/Day10s/wt12 day 10 (3).mp4', '/media/andre/11D9-5C57/Day10s/wt12 day 10 (4).mp4', '/media/andre/11D9-5C57/Day10s/wt12 day 10 (5).mp4', '/media/andre/11D9-5C57/Day10s/wt12 day 10 (6).mp4', '/media/andre/11D9-5C57/Day10s/wt12 day 10 (7).mp4', '/media/andre/11D9-5C57/Day10s/wt12 day 10 (8).mp4', '/media/andre/11D9-5C57/Day10s/wt12 day 10 (9).mp4', '/media/andre/11D9-5C57/Day10s/wt12 day 10 (10).mp4', '/media/andre/11D9-5C57/Day10s/wt12 day 10 (11).mp4', '/media/andre/11D9-5C57/Day10s/wt12 day 10 (12).mp4', '/media/andre/11D9-5C57/Day10s/wt12 day 10 (13).mp4', '/media/andre/11D9-5C57/Day10s/wt12 day 10 (14).mp4', '/media/andre/11D9-5C57/Day10s/wt12 day 10 (15).mp4', '/media/andre/11D9-5C57/Day10s/wt12 day 10 (16).mp4', '/media/andre/11D9-5C57/Day10s/wt12 day 10 (17).mp4', '/media/andre/11D9-5C57/Day10s/wt12 day 10 (18).mp4', '/media/andre/11D9-5C57/Day10s/wt12 day 10 (19).mp4', '/media/andre/11D9-5C57/Day10s/wt12 day 10 (20).mp4', '/media/andre/11D9-5C57/Day10s/WT3 day 10 (2).mp4', '/media/andre/11D9-5C57/Day10s/ko10 day 10/KO10 day 10 (11).mp4', '/media/andre/11D9-5C57/Day10s/ko10 day 10/KO10 day 10 (12).mp4', '/media/andre/11D9-5C57/Day10s/ko10 day 10/KO10 day 10 (18).mp4', '/media/andre/11D9-5C57/Day10s/ko10 day 10/KO10 day 10 (20).mp4', '/media/andre/11D9-5C57/Day10s/ko10 day 10/KO10 day 10 (1).mp4', '/media/andre/11D9-5C57/Day10s/ko10 day 10/KO10 day 10 (4).mp4', '/media/andre/11D9-5C57/Day10s/ko10 day 10/KO10 day 10 (5).mp4', '/media/andre/11D9-5C57/Day10s/ko10 day 10/KO10 day 10 (6).mp4', '/media/andre/11D9-5C57/Day10s/ko10 day 10/KO10 day 10 (7).mp4', '/media/andre/11D9-5C57/Day10s/ko10 day 10/KO10 day 10 (8).mp4', '/media/andre/11D9-5C57/Day10s/ko10 day 10/KO10 day 10 212am.mp4', '/media/andre/11D9-5C57/Day10s/ko10 day 10/KO10 day 10 (10).mp4', '/media/andre/11D9-5C57/Day10s/ko10 day 10/KO10 Day 10 (2).mp4', '/media/andre/11D9-5C57/Day10s/ko10 day 10/KO10 Day 10 (3).mp4', '/media/andre/11D9-5C57/Day10s/ko10 day 10/KO10 Day 10 (13).mp4', '/media/andre/11D9-5C57/Day10s/ko10 day 10/KO10 Day 10 (14).mp4', '/media/andre/11D9-5C57/Day10s/ko10 day 10/KO10 Day 10 (15).mp4', '/media/andre/11D9-5C57/Day10s/ko10 day 10/KO10 Day 10 (16).mp4', '/media/andre/11D9-5C57/Day10s/ko10 day 10/KO10 Day 10 (17).mp4', '/media/andre/11D9-5C57/Day10s/ko10 day 10/KO10 Day 10 (19).mp4', '/media/andre/11D9-5C57/Day10s/ko10 day 10/KO10 Day 10 (21).mp4', '/media/andre/11D9-5C57/KO15 day 15/KO15 day 15 (2).mp4', '/media/andre/11D9-5C57/KO15 day 15/KO15 day 15 (3).mp4', '/media/andre/11D9-5C57/KO15 day 15/KO15 day 15 (4).mp4', '/media/andre/11D9-5C57/KO15 day 15/KO15 day 15 (5).mp4', '/media/andre/11D9-5C57/KO15 day 15/KO15 day 15 (6).mp4', '/media/andre/11D9-5C57/KO15 day 15/KO15 day 15 (7).mp4', '/media/andre/11D9-5C57/KO15 day 15/KO15 day 15 (8).mp4', '/media/andre/11D9-5C57/KO15 day 15/KO15 day 15 (9).mp4', '/media/andre/11D9-5C57/KO15 day 15/KO15 day 15 (10).mp4', '/media/andre/11D9-5C57/KO15 day 15/KO15 day 15 (11).mp4', '/media/andre/11D9-5C57/KO15 day 15/KO15 day 15 (12).mp4', '/media/andre/11D9-5C57/KO15 day 15/KO15 day 15 (13).mp4', '/media/andre/11D9-5C57/KO15 day 15/KO15 day 15 (1).mp4', '/media/andre/11D9-5C57/KO15 day 15/KO15 day 15 (14).mp4', '/media/andre/11D9-5C57/KO15 day 15/._KO15 day 15.mp4', '/media/andre/11D9-5C57/KO15 day 15/._KO15 day 15 (3).mp4', '/media/andre/11D9-5C57/KO15 day 15/._KO15 day 15 (4).mp4', '/media/andre/11D9-5C57/KO15 day 15/._KO15 day 15 (5).mp4', '/media/andre/11D9-5C57/KO15 day 15/._KO15 day 15 (6).mp4', '/media/andre/11D9-5C57/KO15 day 15/._KO15 day 15 (7).mp4', '/media/andre/11D9-5C57/KO15 day 15/._KO15 day 15 (8).mp4', '/media/andre/11D9-5C57/KO15 day 15/._KO15 day 15 (9).mp4', '/media/andre/11D9-5C57/KO15 day 15/._KO15 day 15 (10).mp4', '/media/andre/11D9-5C57/KO15 day 15/._KO15 day 15 (11).mp4', '/media/andre/11D9-5C57/KO15 Day 20/kO15 day 20.mp4', '/media/andre/11D9-5C57/KO15 Day 20/KO15 day 20 (4).mp4', '/media/andre/11D9-5C57/KO15 Day 20/KO15 day 20 (3).mp4', '/media/andre/11D9-5C57/KO15 Day 20/KO15 day 20 (2).mp4', '/media/andre/11D9-5C57/KO112 D15/KO112 D15 (11).mp4', '/media/andre/11D9-5C57/KO112 D15/KO112 D15 (12).mp4', '/media/andre/11D9-5C57/KO112 D15/KO112 D15 (13).mp4', '/media/andre/11D9-5C57/KO112 D15/KO112 D15 (14).mp4', '/media/andre/11D9-5C57/KO112 D15/KO112 D15 (15).mp4', '/media/andre/11D9-5C57/KO112 D15/KO112 D15 (16).mp4', '/media/andre/11D9-5C57/KO112 D15/KO112 D15 (17).mp4', '/media/andre/11D9-5C57/KO112 D15/KO112 D15 (18).mp4', '/media/andre/11D9-5C57/KO112 D15/KO112 D15 (19).mp4', '/media/andre/11D9-5C57/KO112 D15/KO112 D15 (20).mp4', '/media/andre/11D9-5C57/KO112 D15/KO112 D15 (21).mp4', '/media/andre/11D9-5C57/KO112 D15/KO112 D15 (22).mp4', '/media/andre/11D9-5C57/KO112 D15/KO112 D15 (23).mp4', '/media/andre/11D9-5C57/KO112 D15/KO112 D15 (24).mp4', '/media/andre/11D9-5C57/KO112 D15/KO112 D15 (25).mp4', '/media/andre/11D9-5C57/KO112 D15/KO112 D15 (26).mp4', '/media/andre/11D9-5C57/KO112 D15/KO112 D15.mp4', '/media/andre/11D9-5C57/KO112 D15/KO112 D15 (2).mp4', '/media/andre/11D9-5C57/KO112 D15/KO112 D15 (3).mp4', '/media/andre/11D9-5C57/KO112 D15/KO112 D15 (4).mp4', '/media/andre/11D9-5C57/KO112 D15/KO112 D15 (5).mp4', '/media/andre/11D9-5C57/KO112 D15/KO112 D15 (6).mp4', '/media/andre/11D9-5C57/KO112 D15/KO112 D15 (7).mp4', '/media/andre/11D9-5C57/KO112 D15/KO112 D15 (8).mp4', '/media/andre/11D9-5C57/KO112 D15/KO112 D15 (9).mp4', '/media/andre/11D9-5C57/KO112 D15/KO112 D15 (10).mp4']\n",
      "['/media/andre/5161-4A93/KO9 day 15.mp4', '/media/andre/5161-4A93/._ch02_20140929081911.mp4', '/media/andre/5161-4A93/._ch05_20150307212305 - Copy.mp4', '/media/andre/5161-4A93/._ch02_20141003234136.mp4', '/media/andre/5161-4A93/ch02_20150227000000.mp4', '/media/andre/5161-4A93/ch02_20150227181005.mp4', '/media/andre/5161-4A93/ch02_20150228132743.mp4', '/media/andre/5161-4A93/ch02_20150306000000.mp4', '/media/andre/5161-4A93/ch02_20150306125057.mp4', '/media/andre/5161-4A93/ch02_20150307081845.mp4', '/media/andre/5161-4A93/KO112 D10 (2).mp4', '/media/andre/5161-4A93/KO112 D10(3).mp4', '/media/andre/5161-4A93/KO112 D10(4).mp4', '/media/andre/5161-4A93/KO112 D10(5).mp4', '/media/andre/5161-4A93/KO112 D10(6).mp4', '/media/andre/5161-4A93/KO112 D10 (4).mp4', '/media/andre/5161-4A93/KO112 D10 (10).mp4', '/media/andre/5161-4A93/KO112 D10 (9).mp4', '/media/andre/5161-4A93/KO112 D10 (8).mp4', '/media/andre/5161-4A93/KO112 D10 (7).mp4', '/media/andre/5161-4A93/KO112 D10 (6).mp4', '/media/andre/5161-4A93/KO112 D10 (5).mp4', '/media/andre/5161-4A93/KO112 D10 (3).mp4', '/media/andre/5161-4A93/KO112 D10 (13).mp4', '/media/andre/5161-4A93/KO112 D10 (14).mp4', '/media/andre/5161-4A93/ch02_20140929081911.mp4', '/media/andre/5161-4A93/KO112 D10 (15).mp4', '/media/andre/5161-4A93/KO112 D10 (12).mp4', '/media/andre/5161-4A93/KO112 D10 (11).mp4', '/media/andre/5161-4A93/ch05_20150228204803.mp4', '/media/andre/5161-4A93/ch05_20150228214620.mp4', '/media/andre/5161-4A93/ch05_20150228233325.mp4', '/media/andre/5161-4A93/ch05_20150301012032.mp4', '/media/andre/5161-4A93/ch05_20150301030737.mp4', '/media/andre/5161-4A93/ch05_20150301045444.mp4', '/media/andre/5161-4A93/ch02_20141003182021.mp4', '/media/andre/5161-4A93/ch02_20141003200726.mp4', '/media/andre/5161-4A93/ch02_20141003215431.mp4', '/media/andre/5161-4A93/ch02_20141003234136.mp4', '/media/andre/5161-4A93/ch02_20141004012841.mp4', '/media/andre/5161-4A93/ch02_20141004031546.mp4', '/media/andre/5161-4A93/ch02_20141004050252.mp4', '/media/andre/5161-4A93/ch02_20141004064957.mp4', '/media/andre/5161-4A93/ch02_20141004083704.mp4', '/media/andre/5161-4A93/ch02_20141004102411.mp4', '/media/andre/5161-4A93/ch02_20141004121116.mp4', '/media/andre/5161-4A93/ch02_20141004135823.mp4', '/media/andre/5161-4A93/ch02_20141004154528.mp4', '/media/andre/5161-4A93/ch02_20141004173235.mp4', '/media/andre/5161-4A93/ch02_20141004191940.mp4', '/media/andre/5161-4A93/ch02_20141005102455.mp4', '/media/andre/5161-4A93/ch05_20150301064148.mp4', '/media/andre/5161-4A93/ch05_20150301082854.mp4', '/media/andre/5161-4A93/ch05_20150301101601.mp4', '/media/andre/5161-4A93/ch05_20150301120308.mp4', '/media/andre/5161-4A93/ch05_20150301135013.mp4', '/media/andre/5161-4A93/ch05_20150301153719.mp4', '/media/andre/5161-4A93/ch05_20150301172426.mp4', '/media/andre/5161-4A93/ch05_20150301191131.mp4', '/media/andre/5161-4A93/ch05_20150301205836.mp4', '/media/andre/5161-4A93/ch05_20150301224542.mp4', '/media/andre/5161-4A93/ch05_20150302003249.mp4', '/media/andre/5161-4A93/ch05_20150302021954.mp4', '/media/andre/5161-4A93/ch05_20150302040659.mp4', '/media/andre/5161-4A93/ch08_20141003214714.mp4', '/media/andre/5161-4A93/ch08_20141003233420.mp4', '/media/andre/5161-4A93/ch08_20141004012127.mp4', '/media/andre/5161-4A93/ch08_20141004030832.mp4', '/media/andre/5161-4A93/ch08_20141004045537.mp4', '/media/andre/5161-4A93/ch08_20141004064243.mp4', '/media/andre/5161-4A93/ch08_20141004082948.mp4', '/media/andre/5161-4A93/ch08_20141004101655.mp4', '/media/andre/5161-4A93/ch08_20141004120400.mp4', '/media/andre/5161-4A93/ch08_20141004135106.mp4', '/media/andre/5161-4A93/ch08_20141004153811.mp4', '/media/andre/5161-4A93/ch08_20141004172516.mp4', '/media/andre/5161-4A93/ch08_20141004191222.mp4', '/media/andre/5161-4A93/ch08_20141004205929.mp4', '/media/andre/5161-4A93/ch07_20141003073026.mp4', '/media/andre/5161-4A93/ch07_20141003091733.mp4', '/media/andre/5161-4A93/ch07_20141003110438.mp4', '/media/andre/5161-4A93/ch07_20141003125143.mp4', '/media/andre/5161-4A93/ch07_20141003143850.mp4', '/media/andre/5161-4A93/ch07_20141003162555.mp4', '/media/andre/5161-4A93/ch07_20141003181302.mp4', '/media/andre/5161-4A93/ch07_20141003200007.mp4', '/media/andre/5161-4A93/ch07_20141003214714.mp4', '/media/andre/5161-4A93/ch07_20141003233421.mp4', '/media/andre/5161-4A93/ch07_20141004012126.mp4', '/media/andre/5161-4A93/ch07_20141004030831.mp4', '/media/andre/5161-4A93/ch07_20141004045537.mp4', '/media/andre/5161-4A93/ch07_20141004064242.mp4', '/media/andre/5161-4A93/ch07_20141004082949.mp4', '/media/andre/5161-4A93/ch07_20141004101656.mp4', '/media/andre/5161-4A93/ch07_20141004120401.mp4', '/media/andre/5161-4A93/ch07_20141004135108.mp4', '/media/andre/5161-4A93/ch07_20141004153813.mp4', '/media/andre/5161-4A93/ch07_20141004172518.mp4', '/media/andre/5161-4A93/ch07_20141004191226.mp4', '/media/andre/5161-4A93/ch07_20141004205933.mp4', '/media/andre/5161-4A93/ch07_20141009024122.mp4', '/media/andre/5161-4A93/ch08_20141003054324.mp4', '/media/andre/5161-4A93/ch08_20141003073029.mp4', '/media/andre/5161-4A93/ch08_20141003091734.mp4', '/media/andre/5161-4A93/ch08_20141003110440.mp4', '/media/andre/5161-4A93/ch08_20141003125145.mp4', '/media/andre/5161-4A93/ch08_20141003143851.mp4', '/media/andre/5161-4A93/ch08_20141003162558.mp4', '/media/andre/5161-4A93/ch08_20141003181303.mp4', '/media/andre/5161-4A93/ch08_20141003200008.mp4', '/media/andre/5161-4A93/ch05_20150302201052.mp4', '/media/andre/5161-4A93/ch05_20150302215757.mp4', '/media/andre/5161-4A93/ch05_20150302234503.mp4', '/media/andre/5161-4A93/ch05_20150303013210.mp4', '/media/andre/5161-4A93/ch05_20150303031915.mp4', '/media/andre/5161-4A93/ch05_20150303050620.mp4', '/media/andre/5161-4A93/ch05_20150303065325.mp4', '/media/andre/5161-4A93/ch05_20150303084032.mp4', '/media/andre/5161-4A93/ch05_20150307212305.mp4', '/media/andre/5161-4A93/ch05_20150307231010.mp4', '/media/andre/5161-4A93/ch05_20150308005717.mp4', '/media/andre/5161-4A93/ch05_20150308020327.mp4', '/media/andre/5161-4A93/ch05_20150308024632.mp4', '/media/andre/5161-4A93/ch05_20150308043337.mp4', '/media/andre/5161-4A93/ch05_20150308062044.mp4', '/media/andre/5161-4A93/ch05_20150308080749.mp4', '/media/andre/5161-4A93/ch05_20150308095454.mp4', '/media/andre/5161-4A93/ch05_20150308114201.mp4', '/media/andre/5161-4A93/ch05_20150308132906.mp4', '/media/andre/5161-4A93/ch05_20150308151613.mp4', '/media/andre/5161-4A93/ch05_20150308170318.mp4', '/media/andre/5161-4A93/ch05_20150308185023.mp4', '/media/andre/5161-4A93/ch05_20150308203728.mp4', '/media/andre/5161-4A93/ch05_20150308222435.mp4', '/media/andre/5161-4A93/ch05_20150309001140.mp4', '/media/andre/5161-4A93/ch05_20150309015846.mp4', '/media/andre/5161-4A93/ch05_20150309034554.mp4', '/media/andre/5161-4A93/ch05_20150309053259.mp4', '/media/andre/5161-4A93/ch05_20150309072006.mp4', '/media/andre/5161-4A93/ch05_20150309090711.mp4', '/media/andre/5161-4A93/KO112 D20 (2).mp4', '/media/andre/5161-4A93/ch05_20150309142828.mp4', '/media/andre/5161-4A93/ch05_20150309161535.mp4', '/media/andre/5161-4A93/ch05_20150309180240.mp4', '/media/andre/5161-4A93/ch05_20150309194945.mp4', '/media/andre/5161-4A93/KO152 day15 (C).mp4', '/media/andre/5161-4A93/KO152 day 15 (C).mp4', '/media/andre/5161-4A93/KO152 day 15 (A).mp4', '/media/andre/5161-4A93/KO152 day 15 (B).mp4', '/media/andre/5161-4A93/KO152day15 (D).mp4', '/media/andre/5161-4A93/KO152 D15 (2).mp4', '/media/andre/5161-4A93/KO152 D15 (3).mp4', '/media/andre/5161-4A93/KO152 D15 (4).mp4', '/media/andre/5161-4A93/KO152 D15 (5).mp4', '/media/andre/5161-4A93/KO152D15 (2).mp4', '/media/andre/5161-4A93/KO152D15 (3).mp4', '/media/andre/5161-4A93/KO152D15 (4).mp4', '/media/andre/5161-4A93/KO152D15 (8).mp4', '/media/andre/5161-4A93/KO152D15 (9).mp4', '/media/andre/5161-4A93/KO152D15 (10).mp4', '/media/andre/5161-4A93/KO152D15 (11).mp4', '/media/andre/5161-4A93/KO152D15 (12).mp4', '/media/andre/5161-4A93/KO152D15 (1).mp4', '/media/andre/5161-4A93/KO152D15 (5).mp4', '/media/andre/5161-4A93/KO152D15 (6).mp4', '/media/andre/5161-4A93/KO152D15 (7).mp4', '/media/andre/5161-4A93/ch07_20141003054321 WT5 day 20.mp4', '/media/andre/5161-4A93/WT 82 D20.mp4', '/media/andre/5161-4A93/KO112 day 10.mp4', '/media/andre/5161-4A93/KO112 D10.mp4', '/media/andre/5161-4A93/KO112 D20.mp4', '/media/andre/5161-4A93/KO9 day 20.mp4', '/media/andre/5161-4A93/ch05_20150309034554 - Copy.mp4', '/media/andre/5161-4A93/ch05_20150309015846 - Copy.mp4', '/media/andre/5161-4A93/ch05_20150309053259 - Copy.mp4', '/media/andre/5161-4A93/ch05_20150309072006 - Copy.mp4', '/media/andre/5161-4A93/ch05_20150309090711 - Copy.mp4', '/media/andre/5161-4A93/ch05_20150309142828 - Copy.mp4', '/media/andre/5161-4A93/ch05_20150309161535 - Copy.mp4', '/media/andre/5161-4A93/ch05_20150309180240 - Copy KO12 D20.mp4', '/media/andre/5161-4A93/ch05_20150309194945 - Copy.mp4', '/media/andre/5161-4A93/ch05_20150228204803 - Copy.mp4', '/media/andre/5161-4A93/ch05_20150228214620 - Copy.mp4', '/media/andre/5161-4A93/ch05_20150228233325 - Copy.mp4', '/media/andre/5161-4A93/ch05_20150301012032 - Copy.mp4', '/media/andre/5161-4A93/ch05_20150301030737 - Copy.mp4', '/media/andre/5161-4A93/ch05_20150301045444 - Copy.mp4', '/media/andre/5161-4A93/ch05_20150301064148 - Copy.mp4', '/media/andre/5161-4A93/ch05_20150301082854 - Copy.mp4', '/media/andre/5161-4A93/ch05_20150301101601 - Copy.mp4', '/media/andre/5161-4A93/ch05_20150301120308 - Copy.mp4', '/media/andre/5161-4A93/ch05_20150301135013 - Copy.mp4', '/media/andre/5161-4A93/ch05_20150301153719 - Copy.mp4', '/media/andre/5161-4A93/ch05_20150301172426 - Copy.mp4', '/media/andre/5161-4A93/ch05_20150301191131 - Copy.mp4', '/media/andre/5161-4A93/ch05_20150301205836 - Copy.mp4', '/media/andre/5161-4A93/ch05_20150301224542 - Copy.mp4', '/media/andre/5161-4A93/ch05_20150302003249 - Copy.mp4', '/media/andre/5161-4A93/ch05_20150302021954 - Copy.mp4', '/media/andre/5161-4A93/ch05_20150302040659 - Copy.mp4', '/media/andre/5161-4A93/ch05_20150302201052 - Copy.mp4', '/media/andre/5161-4A93/ch05_20150302215757 - Copy.mp4', '/media/andre/5161-4A93/ch05_20150302234503 - Copy.mp4', '/media/andre/5161-4A93/ch05_20150303013210 - Copy.mp4', '/media/andre/5161-4A93/ch05_20150303031915 - Copy.mp4', '/media/andre/5161-4A93/ch05_20150303050620 - Copy.mp4', '/media/andre/5161-4A93/ch05_20150303065325 - Copy.mp4', '/media/andre/5161-4A93/ch05_20150303084032 - Copy.mp4', '/media/andre/5161-4A93/ch05_20150307212305 - Copy.mp4', '/media/andre/5161-4A93/ch05_20150307231010 - Copy.mp4', '/media/andre/5161-4A93/ch05_20150308005717 - Copy.mp4', '/media/andre/5161-4A93/ch05_20150308020327 - Copy.mp4', '/media/andre/5161-4A93/ch05_20150308024632 - Copy.mp4', '/media/andre/5161-4A93/ch05_20150308043337 - Copy.mp4', '/media/andre/5161-4A93/ch05_20150308062044 - Copy.mp4', '/media/andre/5161-4A93/ch05_20150308080749 - Copy.mp4', '/media/andre/5161-4A93/ch05_20150308095454 - Copy.mp4', '/media/andre/5161-4A93/ch05_20150308114201 - Copy.mp4', '/media/andre/5161-4A93/ch05_20150308132906 - Copy.mp4', '/media/andre/5161-4A93/ch05_20150308151613 - Copy.mp4', '/media/andre/5161-4A93/ch05_20150308170318 - Copy.mp4', '/media/andre/5161-4A93/ch05_20150308185023 - Copy.mp4', '/media/andre/5161-4A93/ch05_20150308203728 - Copy.mp4', '/media/andre/5161-4A93/KO152 D15.mp4', '/media/andre/5161-4A93/KO152D15.mp4', '/media/andre/5161-4A93/$RECYCLE.BIN/$IFHXS8G.mp4', '/media/andre/5161-4A93/$RECYCLE.BIN/$RFHXS8G.mp4', '/media/andre/5161-4A93/$RECYCLE.BIN/$ILWWFDV.mp4', '/media/andre/5161-4A93/$RECYCLE.BIN/$RLWWFDV.mp4', '/media/andre/5161-4A93/$RECYCLE.BIN/$IN7RKMC.mp4', '/media/andre/5161-4A93/$RECYCLE.BIN/$RN7RKMC.mp4', '/media/andre/5161-4A93/$RECYCLE.BIN/$I0S7RW7.mp4', '/media/andre/5161-4A93/$RECYCLE.BIN/$R0S7RW7.mp4', '/media/andre/5161-4A93/$RECYCLE.BIN/$I22GCQU.mp4', '/media/andre/5161-4A93/$RECYCLE.BIN/$R22GCQU.mp4', '/media/andre/5161-4A93/$RECYCLE.BIN/$IV78BSL.mp4', '/media/andre/5161-4A93/$RECYCLE.BIN/$RV78BSL.mp4', '/media/andre/5161-4A93/$RECYCLE.BIN/$ICB0VQU.mp4', '/media/andre/5161-4A93/$RECYCLE.BIN/$RCB0VQU.mp4', '/media/andre/5161-4A93/$RECYCLE.BIN/$II9YDRF.mp4', '/media/andre/5161-4A93/$RECYCLE.BIN/$RI9YDRF.mp4', '/media/andre/5161-4A93/$RECYCLE.BIN/$IB3XCVU.mp4', '/media/andre/5161-4A93/$RECYCLE.BIN/$RB3XCVU.mp4', '/media/andre/5161-4A93/$RECYCLE.BIN/$IREOKWT.mp4', '/media/andre/5161-4A93/$RECYCLE.BIN/$RREOKWT.mp4', '/media/andre/5161-4A93/$RECYCLE.BIN/$IQ25MD7.mp4', '/media/andre/5161-4A93/$RECYCLE.BIN/$RQ25MD7.mp4', '/media/andre/5161-4A93/$RECYCLE.BIN/$I0L07P8.mp4', '/media/andre/5161-4A93/$RECYCLE.BIN/$R0L07P8.mp4', '/media/andre/5161-4A93/$RECYCLE.BIN/$IRULAGP.mp4', '/media/andre/5161-4A93/$RECYCLE.BIN/$RRULAGP.mp4', '/media/andre/5161-4A93/$RECYCLE.BIN/$IKIAOV2.mp4', '/media/andre/5161-4A93/$RECYCLE.BIN/$RKIAOV2.mp4', '/media/andre/5161-4A93/$RECYCLE.BIN/$ITHRLFL.mp4', '/media/andre/5161-4A93/$RECYCLE.BIN/$RTHRLFL.mp4', '/media/andre/5161-4A93/$RECYCLE.BIN/$IAS07GP.mp4', '/media/andre/5161-4A93/$RECYCLE.BIN/$RAS07GP.mp4', '/media/andre/5161-4A93/$RECYCLE.BIN/$IIUFHV8.mp4', '/media/andre/5161-4A93/$RECYCLE.BIN/$RIUFHV8.mp4', '/media/andre/5161-4A93/$RECYCLE.BIN/$ILRX8QR.mp4', '/media/andre/5161-4A93/$RECYCLE.BIN/$RLRX8QR.mp4', '/media/andre/5161-4A93/$RECYCLE.BIN/$IPP1LX4.mp4', '/media/andre/5161-4A93/$RECYCLE.BIN/$RPP1LX4.mp4', '/media/andre/5161-4A93/$RECYCLE.BIN/$IHOFMK3.mp4', '/media/andre/5161-4A93/$RECYCLE.BIN/$RHOFMK3.mp4', '/media/andre/5161-4A93/$RECYCLE.BIN/$IXHU50D.mp4', '/media/andre/5161-4A93/$RECYCLE.BIN/$RXHU50D.mp4', '/media/andre/5161-4A93/$RECYCLE.BIN/$IDNAJ6I.mp4', '/media/andre/5161-4A93/$RECYCLE.BIN/$RDNAJ6I.mp4', '/media/andre/5161-4A93/$RECYCLE.BIN/$I4V3FQ8.mp4', '/media/andre/5161-4A93/$RECYCLE.BIN/$R4V3FQ8.mp4', '/media/andre/5161-4A93/$RECYCLE.BIN/$I7MMTER.mp4', '/media/andre/5161-4A93/$RECYCLE.BIN/$R7MMTER.mp4', '/media/andre/5161-4A93/$RECYCLE.BIN/$IM4SB52.mp4', '/media/andre/5161-4A93/$RECYCLE.BIN/$RM4SB52.mp4', '/media/andre/5161-4A93/$RECYCLE.BIN/$I64QG9T.mp4', '/media/andre/5161-4A93/$RECYCLE.BIN/$R64QG9T.mp4', '/media/andre/5161-4A93/$RECYCLE.BIN/$IU1RB70.mp4', '/media/andre/5161-4A93/$RECYCLE.BIN/$RU1RB70.mp4', '/media/andre/5161-4A93/$RECYCLE.BIN/$I5YWAL8.mp4', '/media/andre/5161-4A93/$RECYCLE.BIN/$R5YWAL8.mp4', '/media/andre/5161-4A93/$RECYCLE.BIN/$IGSZ13G.mp4', '/media/andre/5161-4A93/$RECYCLE.BIN/$RGSZ13G.mp4', '/media/andre/5161-4A93/$RECYCLE.BIN/$IPQT1L7.mp4', '/media/andre/5161-4A93/$RECYCLE.BIN/$RPQT1L7.mp4', '/media/andre/5161-4A93/$RECYCLE.BIN/$IW0430W.mp4', '/media/andre/5161-4A93/$RECYCLE.BIN/$RW0430W.mp4', '/media/andre/5161-4A93/$RECYCLE.BIN/$IHVVPV8.mp4', '/media/andre/5161-4A93/$RECYCLE.BIN/$RHVVPV8.mp4', '/media/andre/5161-4A93/$RECYCLE.BIN/$IOD9VAK.mp4', '/media/andre/5161-4A93/$RECYCLE.BIN/$ROD9VAK.mp4', '/media/andre/5161-4A93/$RECYCLE.BIN/$IC6VMBR.mp4', '/media/andre/5161-4A93/$RECYCLE.BIN/$RC6VMBR.mp4', '/media/andre/5161-4A93/$RECYCLE.BIN/$ILM5OZE.mp4', '/media/andre/5161-4A93/$RECYCLE.BIN/$RLM5OZE.mp4', '/media/andre/5161-4A93/$RECYCLE.BIN/$IEYQV5L.mp4', '/media/andre/5161-4A93/$RECYCLE.BIN/$REYQV5L.mp4', '/media/andre/5161-4A93/$RECYCLE.BIN/$I8444ZV.mp4', '/media/andre/5161-4A93/$RECYCLE.BIN/$R8444ZV.mp4', '/media/andre/5161-4A93/$RECYCLE.BIN/$INYB6LN.mp4', '/media/andre/5161-4A93/$RECYCLE.BIN/$RNYB6LN.mp4', '/media/andre/5161-4A93/$RECYCLE.BIN/$IEDYRAW.mp4', '/media/andre/5161-4A93/$RECYCLE.BIN/$REDYRAW.mp4', '/media/andre/5161-4A93/$RECYCLE.BIN/$IPO158C.mp4', '/media/andre/5161-4A93/$RECYCLE.BIN/$RPO158C.mp4', '/media/andre/5161-4A93/$RECYCLE.BIN/$IKTC6IR.mp4', '/media/andre/5161-4A93/$RECYCLE.BIN/$RKTC6IR.mp4', '/media/andre/5161-4A93/$RECYCLE.BIN/$ITIUAR9.mp4', '/media/andre/5161-4A93/$RECYCLE.BIN/$RTIUAR9.mp4', '/media/andre/5161-4A93/$RECYCLE.BIN/$I9BK7NJ.mp4', '/media/andre/5161-4A93/$RECYCLE.BIN/$R9BK7NJ.mp4', '/media/andre/5161-4A93/KO15 day 15/KO15 day 15 (2).mp4', '/media/andre/5161-4A93/KO15 day 15/KO15 day 15 (3).mp4', '/media/andre/5161-4A93/KO15 day 15/KO15 day 15 (4).mp4', '/media/andre/5161-4A93/KO15 day 15/KO15 day 15 (5).mp4', '/media/andre/5161-4A93/KO15 day 15/KO15 day 15 (6).mp4', '/media/andre/5161-4A93/KO15 day 15/KO15 day 15 (7).mp4', '/media/andre/5161-4A93/KO15 day 15/KO15 day 15 (8).mp4', '/media/andre/5161-4A93/KO15 day 15/KO15 day 15 (9).mp4', '/media/andre/5161-4A93/KO15 day 15/KO15 day 15 (10).mp4', '/media/andre/5161-4A93/KO15 day 15/KO15 day 15 (11).mp4', '/media/andre/5161-4A93/KO15 day 15/KO15 day 15 (12).mp4', '/media/andre/5161-4A93/KO15 day 15/KO15 day 15 (13).mp4', '/media/andre/5161-4A93/KO15 day 15/KO15 day 15.mp4', '/media/andre/5161-4A93/KO15 day 15/KO15 day 15 (14).mp4', '/media/andre/5161-4A93/WT72 Day 20/wt72 day 20 (5).mp4', '/media/andre/5161-4A93/WT72 Day 20/wt72 day 20 (4).mp4', '/media/andre/5161-4A93/WT72 Day 20/wt72 day 20 (6).mp4', '/media/andre/5161-4A93/WT72 Day 20/wt72 day 20 (3).mp4', '/media/andre/5161-4A93/WT72 Day 20/wt72 day 20 (2).mp4', '/media/andre/5161-4A93/WT72 Day 20/wt72 day 20 (8).mp4', '/media/andre/5161-4A93/WT72 Day 20/wt72 day 20.mp4', '/media/andre/5161-4A93/WT72 Day 20/wt72 day 20 (7).mp4', '/media/andre/5161-4A93/WT72 Day 20/WT72 D20(6).mp4', '/media/andre/5161-4A93/WT72 Day 20/WT72 D20(7).mp4', '/media/andre/5161-4A93/WT72 Day 20/WT72 D20(8).mp4', '/media/andre/5161-4A93/WT72 Day 20/WT72 D20(9).mp4', '/media/andre/5161-4A93/WT72 Day 20/WT72 D20(10).mp4', '/media/andre/5161-4A93/WT72 Day 20/WT72 D20(11).mp4', '/media/andre/5161-4A93/WT72 Day 20/WT72 D20(12).mp4', '/media/andre/5161-4A93/WT72 Day 20/WT72 D20(13).mp4', '/media/andre/5161-4A93/WT72 Day 20/WT72 D20(14).mp4', '/media/andre/5161-4A93/WT72 Day 20/WT72 D20(15).mp4', '/media/andre/5161-4A93/WT72 Day 20/WT72 D20(17).mp4', '/media/andre/5161-4A93/WT72 Day 20/WT72 D20(18).mp4', '/media/andre/5161-4A93/WT72 Day 20/WT72 D20(19).mp4', '/media/andre/5161-4A93/WT72 Day 20/WT72 D20.mp4', '/media/andre/5161-4A93/WT72 Day 20/WT72D20(16).mp4', '/media/andre/5161-4A93/WT72 Day 20/WT72 D20 (2).mp4', '/media/andre/5161-4A93/WT72 Day 20/WT72 D20(3).mp4', '/media/andre/5161-4A93/WT72 Day 20/WT72 D20(4).mp4', '/media/andre/5161-4A93/WT72 Day 20/WT72 D20(5).mp4', '/media/andre/5161-4A93/WT72 Day 20/WT12 D15/WT12 D15.mp4', '/media/andre/5161-4A93/WT72 Day 20/WT12 D15/WT12 D15 (2).mp4', '/media/andre/5161-4A93/WT72 Day 20/WT12 D15/WT12 D15 (3).mp4', '/media/andre/5161-4A93/WT72 Day 20/WT12 D15/WT12 D15 (4).mp4', '/media/andre/5161-4A93/WT72 Day 20/WT12 D15/WT12 D15 (5).mp4', '/media/andre/5161-4A93/WT72 Day 20/WT12 D15/WT12 D15 (6).mp4', '/media/andre/5161-4A93/WT72 Day 20/WT12 D15/WT12 D15 (7).mp4', '/media/andre/5161-4A93/WT72 Day 20/WT12 D15/WT12 D15 (8).mp4', '/media/andre/5161-4A93/WT72 Day 20/WT12 D15/WT12 D15 (9).mp4', '/media/andre/5161-4A93/WT72 Day 20/WT12 D15/WT12 D15 (10).mp4', '/media/andre/5161-4A93/WT72 Day 20/WT12 D15/WT12 D15 (11).mp4', '/media/andre/5161-4A93/WT72 Day 20/WT12 D15/WT12 D15 (12).mp4', '/media/andre/5161-4A93/WT72 Day 20/WT12 D15/WT12 D15 (13).mp4', '/media/andre/5161-4A93/WT72 Day 20/WT12 D15/WT12 D15 (14).mp4', '/media/andre/5161-4A93/WT72 Day 20/WT12 D15/WT12 D15 (15).mp4', '/media/andre/5161-4A93/WT72 Day 20/WT12 D15/WT12 D15 (16).mp4', '/media/andre/5161-4A93/WT72 Day 20/WT12 D15/WT12 D15 (17).mp4', '/media/andre/5161-4A93/WT72 Day 20/WT12 D15/WT12 D15 (18).mp4', '/media/andre/5161-4A93/WT72 Day 20/WT12 D15/WT12 D15 (19).mp4', '/media/andre/5161-4A93/WT72 Day 20/WT12 D15/WT12 D15 (20).mp4', '/media/andre/5161-4A93/WT72 Day 20/WT12 D15/WT12 D15 (21).mp4', '/media/andre/5161-4A93/WT72 Day 20/WT12 D15/WT12 day 15/wt12 day 15 (3).mp4', '/media/andre/5161-4A93/WT72 Day 20/WT12 D15/WT12 day 15/wt12 day 15 (2).mp4', '/media/andre/5161-4A93/WT72 Day 20/WT12 D15/WT12 day 15/wt12 day 15 (5).mp4', '/media/andre/5161-4A93/WT72 Day 20/WT12 D15/WT12 day 15/wt12 day 15 (7).mp4', '/media/andre/5161-4A93/WT72 Day 20/WT12 D15/WT12 day 15/wt12 day 15 (6).mp4', '/media/andre/5161-4A93/WT72 Day 20/WT12 D15/WT12 day 15/wt12 day 15.mp4', '/media/andre/5161-4A93/WT72 Day 20/WT12 D15/WT12 day 15/wt12 day 15 (8).mp4', '/media/andre/5161-4A93/WT72 Day 20/WT12 D15/WT12 day 15/wt12 day 15 (4).mp4', '/media/andre/5161-4A93/WT8 Day 15/WT8 day 15.mp4', '/media/andre/5161-4A93/WT8 Day 15/WT8 day 15 (3).mp4', '/media/andre/5161-4A93/WT8 Day 15/WT8 day 15 (2).mp4', '/media/andre/5161-4A93/Day10s/wt82 day 10.mp4', '/media/andre/5161-4A93/Day10s/wt82 day 10 (5).mp4', '/media/andre/5161-4A93/Day10s/wt82 day 10 (4).mp4', '/media/andre/5161-4A93/Day10s/wt82 day 10 (6).mp4', '/media/andre/5161-4A93/Day10s/wt82 day 10 (7).mp4', '/media/andre/5161-4A93/Day10s/wt82 day 10 (8).mp4', '/media/andre/5161-4A93/Day10s/wt82 day 10 (9).mp4', '/media/andre/5161-4A93/Day10s/wt82 day 10 (10).mp4', '/media/andre/5161-4A93/Day10s/wt82 day 10 (11).mp4', '/media/andre/5161-4A93/Day10s/wt82 day 10 (12).mp4', '/media/andre/5161-4A93/Day10s/wt82 day 10 (13).mp4', '/media/andre/5161-4A93/Day10s/wt82 day 10 (14).mp4', '/media/andre/5161-4A93/Day10s/wt82 day 10 (15).mp4', '/media/andre/5161-4A93/Day10s/wt82 day 10 (16).mp4', '/media/andre/5161-4A93/Day10s/wt82 day 10 (3).mp4', '/media/andre/5161-4A93/Day10s/wt12 day 10 (21).mp4', '/media/andre/5161-4A93/Day10s/wt12 day 10 (22).mp4', '/media/andre/5161-4A93/Day10s/wt12 day 10 (23).mp4', '/media/andre/5161-4A93/Day10s/wt12 day 10 (24).mp4', '/media/andre/5161-4A93/Day10s/wt12 day 10 (25).mp4', '/media/andre/5161-4A93/Day10s/wt12 day 10 (26).mp4', '/media/andre/5161-4A93/Day10s/wt12 day 10 (27).mp4', '/media/andre/5161-4A93/Day10s/wt12 day 10 (28).mp4', '/media/andre/5161-4A93/Day10s/wt12 day 10 (29).mp4', '/media/andre/5161-4A93/Day10s/wt12 day 10 (30).mp4', '/media/andre/5161-4A93/Day10s/wt12 day 10 (31).mp4', '/media/andre/5161-4A93/Day10s/wt12 day 10 (32).mp4', '/media/andre/5161-4A93/Day10s/wt12 day 10 (33).mp4', '/media/andre/5161-4A93/Day10s/wt12 day 10 (34).mp4', '/media/andre/5161-4A93/Day10s/wt12 day 10.mp4', '/media/andre/5161-4A93/Day10s/wt12 day10.mp4', '/media/andre/5161-4A93/Day10s/wt82 day 10 (2).mp4', '/media/andre/5161-4A93/Day10s/WT3 day 10 (3).mp4', '/media/andre/5161-4A93/Day10s/WT3 day 10.mp4', '/media/andre/5161-4A93/Day10s/wt12 day 10 (2).mp4', '/media/andre/5161-4A93/Day10s/wt12 day 10 (3).mp4', '/media/andre/5161-4A93/Day10s/wt12 day 10 (4).mp4', '/media/andre/5161-4A93/Day10s/wt12 day 10 (5).mp4', '/media/andre/5161-4A93/Day10s/wt12 day 10 (6).mp4', '/media/andre/5161-4A93/Day10s/wt12 day 10 (7).mp4', '/media/andre/5161-4A93/Day10s/wt12 day 10 (8).mp4', '/media/andre/5161-4A93/Day10s/wt12 day 10 (9).mp4', '/media/andre/5161-4A93/Day10s/wt12 day 10 (10).mp4', '/media/andre/5161-4A93/Day10s/wt12 day 10 (11).mp4', '/media/andre/5161-4A93/Day10s/wt12 day 10 (12).mp4', '/media/andre/5161-4A93/Day10s/wt12 day 10 (13).mp4', '/media/andre/5161-4A93/Day10s/wt12 day 10 (14).mp4', '/media/andre/5161-4A93/Day10s/wt12 day 10 (15).mp4', '/media/andre/5161-4A93/Day10s/wt12 day 10 (16).mp4', '/media/andre/5161-4A93/Day10s/wt12 day 10 (17).mp4', '/media/andre/5161-4A93/Day10s/wt12 day 10 (18).mp4', '/media/andre/5161-4A93/Day10s/wt12 day 10 (19).mp4', '/media/andre/5161-4A93/Day10s/wt12 day 10 (20).mp4', '/media/andre/5161-4A93/Day10s/WT3 day 10 (2).mp4', '/media/andre/5161-4A93/KO15 Day 20/kO15 day 20.mp4', '/media/andre/5161-4A93/KO15 Day 20/KO15 day 20 (4).mp4', '/media/andre/5161-4A93/KO15 Day 20/KO15 day 20 (3).mp4', '/media/andre/5161-4A93/KO15 Day 20/KO15 day 20 (2).mp4', '/media/andre/5161-4A93/KO9 Day 20/KO9 day 20 (5).mp4', '/media/andre/5161-4A93/KO9 Day 20/KO9 day 20 (4).mp4', '/media/andre/5161-4A93/KO9 Day 20/KO9 day 20 (3).mp4', '/media/andre/5161-4A93/KO9 Day 20/KO9 day 20 (2).mp4', '/media/andre/5161-4A93/WT82 D20/WT82 D20(12).mp4', '/media/andre/5161-4A93/WT82 D20/WT82 D20(13).mp4', '/media/andre/5161-4A93/WT82 D20/WT82 D20(14).mp4', '/media/andre/5161-4A93/WT82 D20/WT82 D20(15).mp4', '/media/andre/5161-4A93/WT82 D20/WT82 D20(16).mp4', '/media/andre/5161-4A93/WT82 D20/WT82 D20(17).mp4', '/media/andre/5161-4A93/WT82 D20/WT82 D20(18).mp4', '/media/andre/5161-4A93/WT82 D20/WT82 D20(19).mp4', '/media/andre/5161-4A93/WT82 D20/WT82 D20 (2).mp4', '/media/andre/5161-4A93/WT82 D20/WT82 D20 (3).mp4', '/media/andre/5161-4A93/WT82 D20/WT82 D20 (4).mp4', '/media/andre/5161-4A93/WT82 D20/WT82 D20 (5).mp4', '/media/andre/5161-4A93/WT82 D20/WT82 D20 (6).mp4', '/media/andre/5161-4A93/WT82 D20/WT82 D20 (7).mp4', '/media/andre/5161-4A93/WT82 D20/WT82 D20 (8).mp4', '/media/andre/5161-4A93/WT82 D20/WT82 D20 (9).mp4', '/media/andre/5161-4A93/WT82 D20/WT82 D20 (10).mp4', '/media/andre/5161-4A93/WT82 D20/WT82 D20 (11).mp4', '/media/andre/5161-4A93/WT82 D20/WT82 D20 (12).mp4', '/media/andre/5161-4A93/WT82 D20/WT82 D20(1).mp4', '/media/andre/5161-4A93/WT82 D20/WT82 D20(2).mp4', '/media/andre/5161-4A93/WT82 D20/WT82 D20(3).mp4', '/media/andre/5161-4A93/WT82 D20/WT82 D20(4).mp4', '/media/andre/5161-4A93/WT82 D20/WT82 D20(5).mp4', '/media/andre/5161-4A93/WT82 D20/WT82 D20(6).mp4', '/media/andre/5161-4A93/WT82 D20/WT82 D20(7).mp4', '/media/andre/5161-4A93/WT82 D20/WT82 D20(9).mp4', '/media/andre/5161-4A93/WT82 D20/WT82 D20(10).mp4', '/media/andre/5161-4A93/WT82 D20/WT82 D20(11).mp4', '/media/andre/5161-4A93/WT82 D20/WT82 D20.mp4', '/media/andre/5161-4A93/WT72 D15/WT72 day 15(10).mp4', '/media/andre/5161-4A93/WT72 D15/WT72 D15 (26).mp4', '/media/andre/5161-4A93/WT72 D15/WT72 D15(1).mp4', '/media/andre/5161-4A93/WT72 D15/WT72 D15(2).mp4', '/media/andre/5161-4A93/WT72 D15/WT72 D15(3).mp4', '/media/andre/5161-4A93/WT72 D15/WT72 D15(4).mp4', '/media/andre/5161-4A93/WT72 D15/WT72 D15(5).mp4', '/media/andre/5161-4A93/WT72 D15/WT72 D15(6).mp4', '/media/andre/5161-4A93/WT72 D15/WT72 D15(7).mp4', '/media/andre/5161-4A93/WT72 D15/WT72 D15(8).mp4', '/media/andre/5161-4A93/WT72 D15/WT72 D15(9).mp4', '/media/andre/5161-4A93/WT72 D15/WT72 D15(11).mp4', '/media/andre/5161-4A93/WT72 D15/WT72 D15(12).mp4', '/media/andre/5161-4A93/WT72 D15/WT72 D15(13).mp4', '/media/andre/5161-4A93/WT72 D15/WT72 D15(14).mp4', '/media/andre/5161-4A93/WT72 D15/WT72 D15(15).mp4', '/media/andre/5161-4A93/WT72 D15/WT72 D15(20).mp4', '/media/andre/5161-4A93/WT72 D15/WT72 D15(21).mp4', '/media/andre/5161-4A93/WT72 D15/WT72 D15(22).mp4', '/media/andre/5161-4A93/WT72 D15/WT72 D15(23).mp4', '/media/andre/5161-4A93/WT72 D15/WT72 D15(24).mp4', '/media/andre/5161-4A93/WT72 D15/WT72 D15(25).mp4', '/media/andre/5161-4A93/WT72 D15/WT72 D15(27).mp4', '/media/andre/5161-4A93/WT72 D15/WT72 D15(28).mp4', '/media/andre/5161-4A93/WT72 D15/WT72 D15(29).mp4', '/media/andre/5161-4A93/WT72 D15/WT72 D15.mp4', '/media/andre/5161-4A93/KO112 D15/KO112 D15 (11).mp4', '/media/andre/5161-4A93/KO112 D15/KO112 D15 (12).mp4', '/media/andre/5161-4A93/KO112 D15/KO112 D15 (13).mp4', '/media/andre/5161-4A93/KO112 D15/KO112 D15 (14).mp4', '/media/andre/5161-4A93/KO112 D15/KO112 D15 (15).mp4', '/media/andre/5161-4A93/KO112 D15/KO112 D15 (16).mp4', '/media/andre/5161-4A93/KO112 D15/KO112 D15 (17).mp4', '/media/andre/5161-4A93/KO112 D15/KO112 D15 (18).mp4', '/media/andre/5161-4A93/KO112 D15/KO112 D15 (19).mp4', '/media/andre/5161-4A93/KO112 D15/KO112 D15 (20).mp4', '/media/andre/5161-4A93/KO112 D15/KO112 D15 (21).mp4', '/media/andre/5161-4A93/KO112 D15/KO112 D15 (22).mp4', '/media/andre/5161-4A93/KO112 D15/KO112 D15 (23).mp4', '/media/andre/5161-4A93/KO112 D15/KO112 D15 (24).mp4', '/media/andre/5161-4A93/KO112 D15/KO112 D15 (25).mp4', '/media/andre/5161-4A93/KO112 D15/KO112 D15 (26).mp4', '/media/andre/5161-4A93/KO112 D15/KO112 D15.mp4', '/media/andre/5161-4A93/KO112 D15/KO112 D15 (2).mp4', '/media/andre/5161-4A93/KO112 D15/KO112 D15 (3).mp4', '/media/andre/5161-4A93/KO112 D15/KO112 D15 (4).mp4', '/media/andre/5161-4A93/KO112 D15/KO112 D15 (5).mp4', '/media/andre/5161-4A93/KO112 D15/KO112 D15 (6).mp4', '/media/andre/5161-4A93/KO112 D15/KO112 D15 (7).mp4', '/media/andre/5161-4A93/KO112 D15/KO112 D15 (8).mp4', '/media/andre/5161-4A93/KO112 D15/KO112 D15 (9).mp4', '/media/andre/5161-4A93/KO112 D15/KO112 D15 (10).mp4']\n",
      "['/media/andre/9B57-8640/$RECYCLE.BIN/$I2MSQAG.mp4', '/media/andre/9B57-8640/$RECYCLE.BIN/$R2MSQAG.mp4', '/media/andre/9B57-8640/$RECYCLE.BIN/$IYJL986.mp4', '/media/andre/9B57-8640/$RECYCLE.BIN/$RYJL986.mp4', '/media/andre/9B57-8640/$RECYCLE.BIN/$I7KSBCA.mp4', '/media/andre/9B57-8640/$RECYCLE.BIN/$R7KSBCA.mp4', '/media/andre/9B57-8640/$RECYCLE.BIN/$I2E407V.mp4', '/media/andre/9B57-8640/$RECYCLE.BIN/$R2E407V.mp4', '/media/andre/9B57-8640/$RECYCLE.BIN/$IGDDXUP.mp4', '/media/andre/9B57-8640/$RECYCLE.BIN/$RGDDXUP.mp4', '/media/andre/9B57-8640/$RECYCLE.BIN/$ICLLWOO.mp4', '/media/andre/9B57-8640/$RECYCLE.BIN/$RCLLWOO.mp4', '/media/andre/9B57-8640/$RECYCLE.BIN/$IFV6WCH.mp4', '/media/andre/9B57-8640/$RECYCLE.BIN/$RFV6WCH.mp4', '/media/andre/9B57-8640/$RECYCLE.BIN/$ISF8753.mp4', '/media/andre/9B57-8640/$RECYCLE.BIN/$RSF8753.mp4', '/media/andre/9B57-8640/$RECYCLE.BIN/$IZ5CHG5.mp4', '/media/andre/9B57-8640/$RECYCLE.BIN/$RZ5CHG5.mp4', '/media/andre/9B57-8640/$RECYCLE.BIN/$I01T0SU.mp4', '/media/andre/9B57-8640/$RECYCLE.BIN/$R01T0SU.mp4', '/media/andre/9B57-8640/$RECYCLE.BIN/$IAP1ABP.mp4', '/media/andre/9B57-8640/$RECYCLE.BIN/$RAP1ABP.mp4', '/media/andre/9B57-8640/$RECYCLE.BIN/$I18EN36.mp4', '/media/andre/9B57-8640/$RECYCLE.BIN/$R18EN36.mp4', '/media/andre/9B57-8640/$RECYCLE.BIN/$IFP2O5B.mp4', '/media/andre/9B57-8640/$RECYCLE.BIN/$RFP2O5B.mp4', '/media/andre/9B57-8640/$RECYCLE.BIN/$IHFSNLC.mp4', '/media/andre/9B57-8640/$RECYCLE.BIN/$RHFSNLC.mp4', '/media/andre/9B57-8640/$RECYCLE.BIN/$IUX9D1Z.mp4', '/media/andre/9B57-8640/$RECYCLE.BIN/$RUX9D1Z.mp4', '/media/andre/9B57-8640/$RECYCLE.BIN/$IW10AKQ.mp4', '/media/andre/9B57-8640/$RECYCLE.BIN/$RW10AKQ.mp4', '/media/andre/9B57-8640/$RECYCLE.BIN/$IO7YF67.mp4', '/media/andre/9B57-8640/$RECYCLE.BIN/$RO7YF67.mp4', '/media/andre/9B57-8640/$RECYCLE.BIN/$IXNGZ5N.mp4', '/media/andre/9B57-8640/$RECYCLE.BIN/$RXNGZ5N.mp4', '/media/andre/9B57-8640/$RECYCLE.BIN/$IABY0Y6.mp4', '/media/andre/9B57-8640/$RECYCLE.BIN/$RABY0Y6.mp4', '/media/andre/9B57-8640/$RECYCLE.BIN/$IAVJXFT.mp4', '/media/andre/9B57-8640/$RECYCLE.BIN/$RAVJXFT.mp4', '/media/andre/9B57-8640/$RECYCLE.BIN/$I75HZ20.mp4', '/media/andre/9B57-8640/$RECYCLE.BIN/$R75HZ20.mp4', '/media/andre/9B57-8640/$RECYCLE.BIN/$ILWGFQZ.mp4', '/media/andre/9B57-8640/$RECYCLE.BIN/$RLWGFQZ.mp4', '/media/andre/9B57-8640/$RECYCLE.BIN/$IGI4IN7.mp4', '/media/andre/9B57-8640/$RECYCLE.BIN/$RGI4IN7.mp4', '/media/andre/9B57-8640/$RECYCLE.BIN/$I222V8E.mp4', '/media/andre/9B57-8640/$RECYCLE.BIN/$R222V8E.mp4', '/media/andre/9B57-8640/$RECYCLE.BIN/$IGOCF19.mp4', '/media/andre/9B57-8640/$RECYCLE.BIN/$RGOCF19.mp4', '/media/andre/9B57-8640/$RECYCLE.BIN/$IJ5NP6S.mp4', '/media/andre/9B57-8640/$RECYCLE.BIN/$RJ5NP6S.mp4', '/media/andre/9B57-8640/$RECYCLE.BIN/$I177K36.mp4', '/media/andre/9B57-8640/$RECYCLE.BIN/$R177K36.mp4', '/media/andre/9B57-8640/$RECYCLE.BIN/$II6KVRX.mp4', '/media/andre/9B57-8640/$RECYCLE.BIN/$RI6KVRX.mp4', '/media/andre/9B57-8640/$RECYCLE.BIN/$IGO2IVR.mp4', '/media/andre/9B57-8640/$RECYCLE.BIN/$RGO2IVR.mp4', '/media/andre/9B57-8640/$RECYCLE.BIN/$IZA0F8P.mp4', '/media/andre/9B57-8640/$RECYCLE.BIN/$RZA0F8P.mp4', '/media/andre/9B57-8640/$RECYCLE.BIN/$I8041RJ.mp4', '/media/andre/9B57-8640/$RECYCLE.BIN/$R8041RJ.mp4', '/media/andre/9B57-8640/$RECYCLE.BIN/$ILDDJO8.mp4', '/media/andre/9B57-8640/$RECYCLE.BIN/$RLDDJO8.mp4', '/media/andre/9B57-8640/$RECYCLE.BIN/$INWL5IB.mp4', '/media/andre/9B57-8640/$RECYCLE.BIN/$RNWL5IB.mp4', '/media/andre/9B57-8640/$RECYCLE.BIN/$IVEME9C.mp4', '/media/andre/9B57-8640/$RECYCLE.BIN/$RVEME9C.mp4', '/media/andre/9B57-8640/$RECYCLE.BIN/$IO2SDJD.mp4', '/media/andre/9B57-8640/$RECYCLE.BIN/$RO2SDJD.mp4', '/media/andre/9B57-8640/$RECYCLE.BIN/$IMIA0TB.mp4', '/media/andre/9B57-8640/$RECYCLE.BIN/$RMIA0TB.mp4', '/media/andre/9B57-8640/$RECYCLE.BIN/$IH2MXM9.mp4', '/media/andre/9B57-8640/$RECYCLE.BIN/$RH2MXM9.mp4', '/media/andre/9B57-8640/$RECYCLE.BIN/$I5BMYII.mp4', '/media/andre/9B57-8640/$RECYCLE.BIN/$R5BMYII.mp4', '/media/andre/9B57-8640/$RECYCLE.BIN/$IEUNALN.mp4', '/media/andre/9B57-8640/$RECYCLE.BIN/$REUNALN.mp4', '/media/andre/9B57-8640/$RECYCLE.BIN/$IGE1S9Y.mp4', '/media/andre/9B57-8640/$RECYCLE.BIN/$RGE1S9Y.mp4', '/media/andre/9B57-8640/$RECYCLE.BIN/$IEFTIAU.mp4', '/media/andre/9B57-8640/$RECYCLE.BIN/$REFTIAU.mp4', '/media/andre/9B57-8640/$RECYCLE.BIN/$ICO9QZZ.mp4', '/media/andre/9B57-8640/$RECYCLE.BIN/$RCO9QZZ.mp4', '/media/andre/9B57-8640/$RECYCLE.BIN/$IKDTRVU.mp4', '/media/andre/9B57-8640/$RECYCLE.BIN/$RKDTRVU.mp4', '/media/andre/9B57-8640/$RECYCLE.BIN/$IZN44YQ.mp4', '/media/andre/9B57-8640/$RECYCLE.BIN/$RZN44YQ.mp4', '/media/andre/9B57-8640/$RECYCLE.BIN/$I68SC4Y.mp4', '/media/andre/9B57-8640/$RECYCLE.BIN/$R68SC4Y.mp4', '/media/andre/9B57-8640/$RECYCLE.BIN/$I6KOVBX.mp4', '/media/andre/9B57-8640/$RECYCLE.BIN/$R6KOVBX.mp4', '/media/andre/9B57-8640/$RECYCLE.BIN/$IZJJHBD.mp4', '/media/andre/9B57-8640/$RECYCLE.BIN/$RZJJHBD.mp4', '/media/andre/9B57-8640/$RECYCLE.BIN/$I0Q9LUG.mp4', '/media/andre/9B57-8640/$RECYCLE.BIN/$R0Q9LUG.mp4', '/media/andre/9B57-8640/$RECYCLE.BIN/$I08WZ9P.mp4', '/media/andre/9B57-8640/$RECYCLE.BIN/$R08WZ9P.mp4', '/media/andre/9B57-8640/$RECYCLE.BIN/$IV4RVGD.mp4', '/media/andre/9B57-8640/$RECYCLE.BIN/$RV4RVGD.mp4', '/media/andre/9B57-8640/$RECYCLE.BIN/$I976ZN5.mp4', '/media/andre/9B57-8640/$RECYCLE.BIN/$R976ZN5.mp4', '/media/andre/9B57-8640/$RECYCLE.BIN/$IJHKQUP.mp4', '/media/andre/9B57-8640/$RECYCLE.BIN/$RJHKQUP.mp4', '/media/andre/9B57-8640/$RECYCLE.BIN/$IYBXDSI.mp4', '/media/andre/9B57-8640/$RECYCLE.BIN/$RYBXDSI.mp4', '/media/andre/9B57-8640/$RECYCLE.BIN/$IMH5OA0.mp4', '/media/andre/9B57-8640/$RECYCLE.BIN/$RMH5OA0.mp4', '/media/andre/9B57-8640/$RECYCLE.BIN/$I3UTJT8.mp4', '/media/andre/9B57-8640/$RECYCLE.BIN/$R3UTJT8.mp4', '/media/andre/9B57-8640/$RECYCLE.BIN/$IFJCWBR.mp4', '/media/andre/9B57-8640/$RECYCLE.BIN/$RFJCWBR.mp4', '/media/andre/9B57-8640/$RECYCLE.BIN/$IRDSXJY.mp4', '/media/andre/9B57-8640/$RECYCLE.BIN/$RRDSXJY.mp4', '/media/andre/9B57-8640/$RECYCLE.BIN/$ITNUZCI.mp4', '/media/andre/9B57-8640/$RECYCLE.BIN/$RTNUZCI.mp4', '/media/andre/9B57-8640/$RECYCLE.BIN/$I4RSTVE.mp4', '/media/andre/9B57-8640/$RECYCLE.BIN/$R4RSTVE.mp4', '/media/andre/9B57-8640/WT2/WT2 day 20 (9).mp4', '/media/andre/9B57-8640/WT2/WT2 day 20 (8).mp4', '/media/andre/9B57-8640/WT2/WT2 day 20 (7).mp4', '/media/andre/9B57-8640/WT2/WT2 day 20 (6).mp4', '/media/andre/9B57-8640/WT2/WT2 day 20 (5).mp4', '/media/andre/9B57-8640/WT2/WT2 day 20 (4).mp4', '/media/andre/9B57-8640/WT2/WT2 day 20 (3).mp4', '/media/andre/9B57-8640/WT2/WT2 day 20 (2).mp4', '/media/andre/9B57-8640/WT2/WT2 day 20.mp4', '/media/andre/9B57-8640/WT2/WT2 Day 10/WT2 day 10 (5).mp4', '/media/andre/9B57-8640/WT2/WT2 Day 10/WT2 day 10 (6).mp4', '/media/andre/9B57-8640/WT2/WT2 Day 10/WT2 day 10 (7).mp4', '/media/andre/9B57-8640/WT2/WT2 Day 10/WT2 day 10 (8).mp4', '/media/andre/9B57-8640/WT2/WT2 Day 10/WT2 day 10 (9).mp4', '/media/andre/9B57-8640/WT2/WT2 Day 10/WT2 day 10.mp4', '/media/andre/9B57-8640/WT2/WT2 Day 10/WT2 day 10 (2).mp4', '/media/andre/9B57-8640/WT2/WT2 Day 10/WT2 day 10 (3).mp4', '/media/andre/9B57-8640/WT2/WT2 Day 10/WT2 day 10 (4).mp4', '/media/andre/9B57-8640/KO15/KO15 Day 10/KO15 day 10 (4).mp4', '/media/andre/9B57-8640/KO15/KO15 Day 10/KO15 day 10 (5).mp4', '/media/andre/9B57-8640/KO15/KO15 Day 10/KO15 day 10 (6).mp4', '/media/andre/9B57-8640/KO15/KO15 Day 10/KO15 day 10 (7).mp4', '/media/andre/9B57-8640/KO15/KO15 Day 10/KO15 day 10.mp4', '/media/andre/9B57-8640/KO15/KO15 Day 10/KO 15 day 10 (2).mp4', '/media/andre/9B57-8640/KO15/KO15 Day 10/KO 15 day 10 1 am.mp4', '/media/andre/9B57-8640/KO15/KO15 Day 10/KO 15 day 10.mp4', '/media/andre/9B57-8640/KO15/KO15 Day 10/KO15 day 10 (2).mp4', '/media/andre/9B57-8640/KO15/KO15 Day 10/KO15 day 10 (3).mp4', '/media/andre/9B57-8640/KO15/KO15 Day 20/KO15 day 20 (15).mp4', '/media/andre/9B57-8640/KO15/KO15 Day 20/KO15 day 20.mp4', '/media/andre/9B57-8640/KO15/KO15 Day 20/KO15 day 20 (2).mp4', '/media/andre/9B57-8640/KO15/KO15 Day 20/KO15 day 20 (3).mp4', '/media/andre/9B57-8640/KO15/KO15 Day 20/KO15 day 20 (4).mp4', '/media/andre/9B57-8640/KO15/KO15 Day 20/KO15 day 20 (5).mp4', '/media/andre/9B57-8640/KO15/KO15 Day 20/KO15 day 20 (6).mp4', '/media/andre/9B57-8640/KO15/KO15 Day 20/KO15 day 20 (7).mp4', '/media/andre/9B57-8640/KO15/KO15 Day 20/KO15 day 20 (8).mp4', '/media/andre/9B57-8640/KO15/KO15 Day 20/KO15 day 20 (9).mp4', '/media/andre/9B57-8640/KO15/KO15 Day 20/KO15 day 20 (10).mp4', '/media/andre/9B57-8640/KO15/KO15 Day 20/KO15 day 20 (11).mp4', '/media/andre/9B57-8640/KO15/KO15 Day 20/KO15 day 20 (12).mp4', '/media/andre/9B57-8640/KO15/KO15 Day 20/KO15 day 20 (13).mp4', '/media/andre/9B57-8640/KO15/KO15 Day 20/KO15 day 20 (14).mp4', '/media/andre/9B57-8640/WT7/WT7 day 15 (10).mp4', '/media/andre/9B57-8640/WT7/WT7 day 15 (9).mp4', '/media/andre/9B57-8640/WT7/WT7 day 15 (8).mp4', '/media/andre/9B57-8640/WT7/WT7 day 15 (7).mp4', '/media/andre/9B57-8640/WT7/WT7 day 15 (6).mp4', '/media/andre/9B57-8640/WT7/WT7 day 15 (5).mp4', '/media/andre/9B57-8640/WT7/WT7 day 15 (4).mp4', '/media/andre/9B57-8640/WT7/WT7 day 15 (3).mp4', '/media/andre/9B57-8640/WT7/WT7 day 15 (2).mp4', '/media/andre/9B57-8640/WT7/WT7 day 15.mp4', '/media/andre/9B57-8640/WT7/WT7 day 20 (6).mp4', '/media/andre/9B57-8640/WT7/WT7 day 20 (5).mp4', '/media/andre/9B57-8640/WT7/WT7 day 20 (4).mp4', '/media/andre/9B57-8640/WT7/WT7 day 20 (3).mp4', '/media/andre/9B57-8640/WT7/WT7 day 20.mp4', '/media/andre/9B57-8640/WT7/WT7 day 20 (2).mp4', '/media/andre/9B57-8640/WT7/WT7 day 20 (9).mp4', '/media/andre/9B57-8640/WT7/WT7 day 20 (10).mp4', '/media/andre/9B57-8640/WT7/WT7 day 20 (11).mp4', '/media/andre/9B57-8640/WT7/WT7 day 20 (12).mp4', '/media/andre/9B57-8640/WT7/WT7 day 20 (13).mp4', '/media/andre/9B57-8640/WT7/WT7 day 20 (14).mp4', '/media/andre/9B57-8640/WT7/WT7 day 20 (8).mp4', '/media/andre/9B57-8640/WT7/WT7 day 20 (7).mp4', '/media/andre/9B57-8640/WT1/WT1 day 10 (2).mp4', '/media/andre/9B57-8640/WT1/WT1 day 10 (3).mp4', '/media/andre/9B57-8640/WT1/WT1 day 10 (4).mp4', '/media/andre/9B57-8640/WT1/WT1 day 10 (5).mp4', '/media/andre/9B57-8640/WT1/WT1 day 10 (6).mp4', '/media/andre/9B57-8640/WT1/WT1 day 10.mp4', '/media/andre/9B57-8640/WT1 (2)/WT1 day 10 (9).mp4', '/media/andre/9B57-8640/WT1 (2)/WT1 day 10 (8).mp4', '/media/andre/9B57-8640/WT1 (2)/WT1 day 10 (7).mp4', '/media/andre/9B57-8640/WT1 (2)/WT1 day 10 (6).mp4', '/media/andre/9B57-8640/WT1 (2)/WT1 day 10 (5).mp4', '/media/andre/9B57-8640/WT1 (2)/WT1 day 10 (4).mp4', '/media/andre/9B57-8640/WT1 (2)/WT1 day 10 (3).mp4', '/media/andre/9B57-8640/WT1 (2)/WT1 day 10 (2).mp4', '/media/andre/9B57-8640/WT1 (2)/WT1 day 10.mp4', '/media/andre/9B57-8640/WT1 (2)/WT1 day 10 (14).mp4', '/media/andre/9B57-8640/WT1 (2)/WT1 day 10 (13).mp4', '/media/andre/9B57-8640/WT1 (2)/WT1 day 10 (12).mp4', '/media/andre/9B57-8640/WT1 (2)/WT1 day 10 (11).mp4', '/media/andre/9B57-8640/WT1 (2)/WT1 day 10 (10).mp4', '/media/andre/9B57-8640/KO14 day 10/KO14 day 10 (2).mp4', '/media/andre/9B57-8640/KO14 day 10/KO14 day 10.mp4', '/media/andre/9B57-8640/KO14 day 10/KO14 day 10 (3).mp4', '/media/andre/9B57-8640/KO14 day 10/ch04_20141003073956.mp4', '/media/andre/9B57-8640/KO14 day 10/ch04_20141003055251.mp4', '/media/andre/9B57-8640/KO14 day 10/ch04_20141003040545.mp4', '/media/andre/9B57-8640/KO14 day 10/ch04_20141003021840.mp4', '/media/andre/9B57-8640/KO14 day 10/ch04_20141003003135.mp4', '/media/andre/9B57-8640/KO14 day 10/ch04_20141002224430.mp4', '/media/andre/9B57-8640/KO14 day 10/ch04_20141002205724.mp4', '/media/andre/9B57-8640/KO14 day 10/ch04_20141002191018.mp4', '/media/andre/9B57-8640/KO14 day 10/ch04_20141002172313.mp4', '/media/andre/9B57-8640/KO14 day 10/ch04_20141002153608.mp4', '/media/andre/9B57-8640/KO14 day 10/ch04_20141002134901.mp4', '/media/andre/9B57-8640/KO14 day 10/ch04_20141002120156.mp4', '/media/andre/9B57-8640/KO14 day 10/ch04_20141002101449.mp4', '/media/andre/9B57-8640/KO14 day 10/ch04_20141002082744.mp4', '/media/andre/9B57-8640/KO14 day 10/ch04_20141002064037.mp4', '/media/andre/9B57-8640/KO14 day 10/ch04_20141002045331.mp4', '/media/andre/9B57-8640/KO14 day 10/ch04_20141002030624.mp4', '/media/andre/9B57-8640/KO14 day 10/ch04_20141002011918.mp4', '/media/andre/9B57-8640/KO14 day 10/ch04_20141001233213.mp4', '/media/andre/9B57-8640/KO14 day 10/ch04_20141001214508.mp4', '/media/andre/9B57-8640/WT8/WT8 day 15 (20).mp4', '/media/andre/9B57-8640/WT8/WT8 day 15 (21).mp4', '/media/andre/9B57-8640/WT8/WT8 day 15 (22).mp4', '/media/andre/9B57-8640/WT8/WT8 day 15 (23).mp4', '/media/andre/9B57-8640/WT8/WT8 day 15 (24).mp4', '/media/andre/9B57-8640/WT8/WT8 day 15 (19).mp4', '/media/andre/9B57-8640/WT8/WT8 day 15 (18).mp4', '/media/andre/9B57-8640/WT8/WT8 day 15.mp4', '/media/andre/9B57-8640/WT8/WT8 day 15 (2).mp4', '/media/andre/9B57-8640/WT8/WT8 day 15 (3).mp4', '/media/andre/9B57-8640/WT8/WT8 day 15 (4).mp4', '/media/andre/9B57-8640/WT8/WT8 day 15 (5).mp4', '/media/andre/9B57-8640/WT8/WT8 day 15 (6).mp4', '/media/andre/9B57-8640/WT8/WT8 day 15 (7).mp4', '/media/andre/9B57-8640/WT8/WT8 day 15 (8).mp4', '/media/andre/9B57-8640/WT8/WT8 day 15 (9).mp4', '/media/andre/9B57-8640/WT8/WT8 day 15 (10).mp4', '/media/andre/9B57-8640/WT8/WT8 day 15 (11).mp4', '/media/andre/9B57-8640/WT8/WT8 day 15 (12).mp4', '/media/andre/9B57-8640/WT8/WT8 day 15 (13).mp4', '/media/andre/9B57-8640/WT8/WT8 day 15 (14).mp4', '/media/andre/9B57-8640/WT8/WT8 day 15 (15).mp4', '/media/andre/9B57-8640/WT8/WT8 day 15 (16).mp4', '/media/andre/9B57-8640/WT8/WT8 day 15 (17).mp4', '/media/andre/9B57-8640/WT8/WT8 day 20 (14).mp4', '/media/andre/9B57-8640/WT8/WT8 day 20 (15).mp4', '/media/andre/9B57-8640/WT8/WT8 day 20 (16).mp4', '/media/andre/9B57-8640/WT8/WT8 day 20 (17).mp4', '/media/andre/9B57-8640/WT8/WT8 day 20 (18).mp4', '/media/andre/9B57-8640/WT8/WT8 day 20 (19).mp4', '/media/andre/9B57-8640/WT8/WT8 day 20 (1).mp4', '/media/andre/9B57-8640/WT8/WT8 day 20 (2).mp4', '/media/andre/9B57-8640/WT8/WT8 day 20 (3).mp4', '/media/andre/9B57-8640/WT8/WT8 day 20 (4).mp4', '/media/andre/9B57-8640/WT8/WT8 day 20 (5).mp4', '/media/andre/9B57-8640/WT8/WT8 day 20 (6).mp4', '/media/andre/9B57-8640/WT8/WT8 day 20 (7).mp4', '/media/andre/9B57-8640/WT8/WT8 day 20 (8).mp4', '/media/andre/9B57-8640/WT8/WT8 day 20 (9).mp4', '/media/andre/9B57-8640/WT8/WT8 day 20 (10).mp4', '/media/andre/9B57-8640/WT8/WT8 day 20 (11).mp4', '/media/andre/9B57-8640/WT8/WT8 day 20 (12).mp4', '/media/andre/9B57-8640/WT8/WT8 day 20 (13).mp4', '/media/andre/9B57-8640/WT6/WT6 day 15 (6).mp4', '/media/andre/9B57-8640/WT6/WT6 day 15 (7).mp4', '/media/andre/9B57-8640/WT6/WT6 day 15 (8).mp4', '/media/andre/9B57-8640/WT6/WT6 day 15 (9).mp4', '/media/andre/9B57-8640/WT6/WT6 day 10 (10).mp4', '/media/andre/9B57-8640/WT6/WT6 day 10 (11).mp4', '/media/andre/9B57-8640/WT6/WT6 day 10 (12).mp4', '/media/andre/9B57-8640/WT6/WT6 day 10 (13).mp4', '/media/andre/9B57-8640/WT6/WT6 day 10 (14).mp4', '/media/andre/9B57-8640/WT6/WT6 day 10.mp4', '/media/andre/9B57-8640/WT6/WT6 day 15 (2).mp4', '/media/andre/9B57-8640/WT6/WT6 day 15 (3).mp4', '/media/andre/9B57-8640/WT6/WT6 day 15 (4).mp4', '/media/andre/9B57-8640/WT6/WT6 day 15 (5).mp4', '/media/andre/9B57-8640/WT6/Wt6 day 15 (10).mp4', '/media/andre/9B57-8640/WT6/WT6 day 15 (11).mp4', '/media/andre/9B57-8640/WT6/WT6 day 15 (12).mp4', '/media/andre/9B57-8640/WT6/WT6 day 15.mp4', '/media/andre/9B57-8640/WT6/WT6 day 10 (2).mp4', '/media/andre/9B57-8640/WT6/WT6 day 10 (3).mp4', '/media/andre/9B57-8640/WT6/WT6 day 10 (4).mp4', '/media/andre/9B57-8640/WT6/WT6 day 10 (5).mp4', '/media/andre/9B57-8640/WT6/WT6 day 10 (6).mp4', '/media/andre/9B57-8640/WT6/WT6 day 10 (7).mp4', '/media/andre/9B57-8640/WT6/WT6 day 10 (8).mp4', '/media/andre/9B57-8640/WT6/WT6 day 10 (9).mp4', '/media/andre/9B57-8640/KO12/KO12 day 10/KO12 day 10 (10).mp4', '/media/andre/9B57-8640/KO12/KO12 day 10/KO12 day 10 (11).mp4', '/media/andre/9B57-8640/KO12/KO12 day 10/KO12 day 10 (12).mp4', '/media/andre/9B57-8640/KO12/KO12 day 10/KO12 day 10 (13).mp4', '/media/andre/9B57-8640/KO12/KO12 day 10/KO12 day 10.mp4', '/media/andre/9B57-8640/KO12/KO12 day 10/KO12 day 10 (2).mp4', '/media/andre/9B57-8640/KO12/KO12 day 10/KO12 day 10 (3).mp4', '/media/andre/9B57-8640/KO12/KO12 day 10/KO12 day 10 (4).mp4', '/media/andre/9B57-8640/KO12/KO12 day 10/KO12 day 10 (5).mp4', '/media/andre/9B57-8640/KO12/KO12 day 10/KO12 day 10 (6).mp4', '/media/andre/9B57-8640/KO12/KO12 day 10/KO12 day 10 (7).mp4', '/media/andre/9B57-8640/KO12/KO12 day 10/KO12 day 10 (8).mp4', '/media/andre/9B57-8640/KO12/KO12 day 10/KO12 day 10 (9).mp4', '/media/andre/9B57-8640/WT3/WT3 Day 10/WT3 day 10 (21).mp4', '/media/andre/9B57-8640/WT3/WT3 Day 10/WT3 day 10.mp4', '/media/andre/9B57-8640/WT3/WT3 Day 10/WT3 day 10 (1).mp4', '/media/andre/9B57-8640/WT3/WT3 Day 10/WT3 day 10 (2).mp4', '/media/andre/9B57-8640/WT3/WT3 Day 10/WT3 day 10 (3).mp4', '/media/andre/9B57-8640/WT3/WT3 Day 10/WT3 day 10 (7).mp4', '/media/andre/9B57-8640/WT3/WT3 Day 10/WT3 day 10 (8).mp4', '/media/andre/9B57-8640/WT3/WT3 Day 10/WT3 day 10 (9).mp4', '/media/andre/9B57-8640/WT3/WT3 Day 10/WT3 day 10 (10).mp4', '/media/andre/9B57-8640/WT3/WT3 Day 10/WT3 day 10 (11).mp4', '/media/andre/9B57-8640/WT3/WT3 Day 10/WT3 day 10 (12).mp4', '/media/andre/9B57-8640/WT3/WT3 Day 10/WT3 day 10 (13).mp4', '/media/andre/9B57-8640/WT3/WT3 Day 10/WT3 day 10 (14).mp4', '/media/andre/9B57-8640/WT3/WT3 Day 10/WT3 day 10 (15).mp4', '/media/andre/9B57-8640/WT3/WT3 Day 10/WT3 day 10 (16).mp4', '/media/andre/9B57-8640/WT3/WT3 Day 10/WT3 day 10 (17).mp4', '/media/andre/9B57-8640/WT3/WT3 Day 10/WT3 day 10 (18).mp4', '/media/andre/9B57-8640/WT3/WT3 Day 10/WT3 day 10 (19).mp4', '/media/andre/9B57-8640/WT3/WT3 Day 10/WT3 day 10 (20).mp4', '/media/andre/9B57-8640/KO10 day 10/KO10 day 10 (4).mp4', '/media/andre/9B57-8640/KO10 day 10/KO10 day 10 (1).mp4', '/media/andre/9B57-8640/KO10 day 10/KO10 day 10 (18).mp4', '/media/andre/9B57-8640/KO10 day 10/KO10 day 10 (20).mp4', '/media/andre/9B57-8640/KO10 day 10/KO10 day 10 (12).mp4', '/media/andre/9B57-8640/KO10 day 10/KO10 day 10 (11).mp4', '/media/andre/9B57-8640/KO10 day 10/KO10 day 10 (10).mp4', '/media/andre/9B57-8640/KO10 day 10/KO10 day 10 (8).mp4', '/media/andre/9B57-8640/KO10 day 10/KO10 day 10 (7).mp4', '/media/andre/9B57-8640/KO10 day 10/KO10 day 10 (5).mp4', '/media/andre/9B57-8640/KO10 day 10/KO10 day 10.mp4', '/media/andre/9B57-8640/KO10 day 10/KO10 day 10 (6).mp4', '/media/andre/9B57-8640/KO10 day 10/KO10 Day 10 (2).mp4', '/media/andre/9B57-8640/KO10 day 10/KO10 Day 10 (3).mp4', '/media/andre/9B57-8640/KO16 day 15/KO16 day 15 (14).mp4', '/media/andre/9B57-8640/KO16 day 15/KO16 day 15 (15).mp4', '/media/andre/9B57-8640/KO16 day 15/KO16 day 15 (16).mp4', '/media/andre/9B57-8640/KO16 day 15/KO16 day 15 (1).mp4', '/media/andre/9B57-8640/KO16 day 15/KO16 day 15 (2).mp4', '/media/andre/9B57-8640/KO16 day 15/KO16 day 15 (3).mp4', '/media/andre/9B57-8640/KO16 day 15/KO16 day 15 (4).mp4', '/media/andre/9B57-8640/KO16 day 15/KO16 day 15 (5).mp4', '/media/andre/9B57-8640/KO16 day 15/KO16 day 15 (6).mp4', '/media/andre/9B57-8640/KO16 day 15/KO16 day 15 (7).mp4', '/media/andre/9B57-8640/KO16 day 15/KO16 day 15 (8).mp4', '/media/andre/9B57-8640/KO16 day 15/KO16 day 15 (9).mp4', '/media/andre/9B57-8640/KO16 day 15/KO16 day 15 (10).mp4', '/media/andre/9B57-8640/KO16 day 15/KO16 day 15 (11).mp4', '/media/andre/9B57-8640/KO16 day 15/KO16 day 15 (12).mp4', '/media/andre/9B57-8640/KO16 day 15/KO16 day 15 (13).mp4', '/media/andre/9B57-8640/KO16 day 20/KO16 day 20 (2).mp4', '/media/andre/9B57-8640/KO16 day 20/KO16 day 20 (3).mp4', '/media/andre/9B57-8640/KO16 day 20/KO16 day 20 (4).mp4', '/media/andre/9B57-8640/KO16 day 20/KO16 day 20 (5).mp4', '/media/andre/9B57-8640/KO16 day 20/KO16 day 20 (6).mp4', '/media/andre/9B57-8640/KO16 day 20/KO16 day 20 (7).mp4', '/media/andre/9B57-8640/KO16 day 20/KO16 day 20 (8).mp4', '/media/andre/9B57-8640/KO16 day 20/KO16 day 20 (9).mp4', '/media/andre/9B57-8640/KO16 day 20/KO16 day 20 (10).mp4', '/media/andre/9B57-8640/KO16 day 20/KO16 day 20 (11).mp4', '/media/andre/9B57-8640/KO16 day 20/KO16 day 20 (12).mp4', '/media/andre/9B57-8640/KO16 day 20/KO16 day 20 (13).mp4', '/media/andre/9B57-8640/KO16 day 20/KO16 day 20 (14).mp4', '/media/andre/9B57-8640/KO16 day 20/KO16 day 20 (15).mp4', '/media/andre/9B57-8640/KO16 day 20/KO16 day 20 (16).mp4', '/media/andre/9B57-8640/KO16 day 20/KO16 day 20 (1).mp4', '/media/andre/9B57-8640/KO14 day 20/KO14 day 20 (15).mp4', '/media/andre/9B57-8640/KO14 day 20/KO14 day 20 (16).mp4', '/media/andre/9B57-8640/KO14 day 20/KO14 day 20 (17).mp4', '/media/andre/9B57-8640/KO14 day 20/KO14 day 20.mp4', '/media/andre/9B57-8640/KO14 day 20/KO14 day 20 (1).mp4', '/media/andre/9B57-8640/KO14 day 20/KO14 day 20 (2).mp4', '/media/andre/9B57-8640/KO14 day 20/KO14 day 20 (3).mp4', '/media/andre/9B57-8640/KO14 day 20/KO14 day 20 (4).mp4', '/media/andre/9B57-8640/KO14 day 20/KO14 day 20 (5).mp4', '/media/andre/9B57-8640/KO14 day 20/KO14 day 20 (6).mp4', '/media/andre/9B57-8640/KO14 day 20/KO14 day 20 (7).mp4', '/media/andre/9B57-8640/KO14 day 20/KO14 day 20 (8).mp4', '/media/andre/9B57-8640/KO14 day 20/KO14 day 20 (9).mp4', '/media/andre/9B57-8640/KO14 day 20/KO14 day 20 (10).mp4', '/media/andre/9B57-8640/KO14 day 20/KO14 day 20 (11).mp4', '/media/andre/9B57-8640/KO14 day 20/KO14 day 20 (12).mp4', '/media/andre/9B57-8640/KO14 day 20/KO14 day 20 (13).mp4', '/media/andre/9B57-8640/KO14 day 20/KO14 day 20 (14).mp4', '/media/andre/9B57-8640/KO16/KO16 day 10/KO16 day 10 (12).mp4', '/media/andre/9B57-8640/KO16/KO16 day 10/KO16 day 10 (13).mp4', '/media/andre/9B57-8640/KO16/KO16 day 10/KO16 day 10 (14).mp4', '/media/andre/9B57-8640/KO16/KO16 day 10/KO16 day 10.mp4', '/media/andre/9B57-8640/KO16/KO16 day 10/KO16 day 10 (2).mp4', '/media/andre/9B57-8640/KO16/KO16 day 10/KO16 day 10 (3).mp4', '/media/andre/9B57-8640/KO16/KO16 day 10/KO16 day 10 (4).mp4', '/media/andre/9B57-8640/KO16/KO16 day 10/KO16 day 10 (5).mp4', '/media/andre/9B57-8640/KO16/KO16 day 10/KO16 day 10 (6).mp4', '/media/andre/9B57-8640/KO16/KO16 day 10/KO16 day 10 (7).mp4', '/media/andre/9B57-8640/KO16/KO16 day 10/KO16 day 10 (8).mp4', '/media/andre/9B57-8640/KO16/KO16 day 10/KO16 day 10 (9).mp4', '/media/andre/9B57-8640/KO16/KO16 day 10/Ko16 day 10 (10).mp4', '/media/andre/9B57-8640/KO16/KO16 day 10/KO16 day 10 (11).mp4', '/media/andre/9B57-8640/KO16/KO16 day 10/KO16 day10.mp4', '/media/andre/9B57-8640/SACHIN/KO9 SACHIN VIDEO 1/KO9 day 20 (11).mp4', '/media/andre/9B57-8640/SACHIN/KO9 SACHIN VIDEO 1/KO9 day 20 (12).mp4', '/media/andre/9B57-8640/SACHIN/KO9 SACHIN VIDEO 1/KO9 day 20 (13).mp4', '/media/andre/9B57-8640/SACHIN/KO9 SACHIN VIDEO 1/KO9 day 20.mp4', '/media/andre/9B57-8640/SACHIN/KO9 SACHIN VIDEO 1/KO9 day 20 (1).mp4', '/media/andre/9B57-8640/SACHIN/KO9 SACHIN VIDEO 1/KO9 day 20 (2).mp4', '/media/andre/9B57-8640/SACHIN/KO9 SACHIN VIDEO 1/KO9 day 20 (3).mp4', '/media/andre/9B57-8640/SACHIN/KO9 SACHIN VIDEO 1/KO9 day 20 (4).mp4', '/media/andre/9B57-8640/SACHIN/KO9 SACHIN VIDEO 1/KO9 day 20 (5).mp4', '/media/andre/9B57-8640/SACHIN/KO9 SACHIN VIDEO 1/KO9 day 20 (6).mp4', '/media/andre/9B57-8640/SACHIN/KO9 SACHIN VIDEO 1/KO9 day 20 (7).mp4', '/media/andre/9B57-8640/SACHIN/KO9 SACHIN VIDEO 1/KO9 day 20 (8).mp4', '/media/andre/9B57-8640/SACHIN/KO9 SACHIN VIDEO 1/KO9 day 20 (9).mp4', '/media/andre/9B57-8640/SACHIN/KO9 SACHIN VIDEO 1/KO9 day 20 (10).mp4', '/media/andre/9B57-8640/SACHIN/KO9 SACHIN VIDEO 1/KO9 Day 15 extra/extra - KO9 day 15.mp4', '/media/andre/9B57-8640/SACHIN/KO9 SACHIN VIDEO 1/KO9 Day 15 extra/extra - KO9 day 15 (16).mp4', '/media/andre/9B57-8640/SACHIN/KO9 SACHIN VIDEO 1/KO9 Day 15 extra/extra - KO9 day 15 (17).mp4', '/media/andre/9B57-8640/SACHIN/KO9 SACHIN VIDEO 1/KO9 Day 15 extra/extra - KO9 day 15 (18).mp4', '/media/andre/9B57-8640/SACHIN/KO9 SACHIN VIDEO 1/KO9 Day 10/KO9 day 10 (16).mp4', '/media/andre/9B57-8640/SACHIN/KO9 SACHIN VIDEO 1/KO9 Day 10/KO9 day 10.mp4', '/media/andre/9B57-8640/SACHIN/KO9 SACHIN VIDEO 1/KO9 Day 10/KO9 day 10 (2).mp4', '/media/andre/9B57-8640/SACHIN/KO9 SACHIN VIDEO 1/KO9 Day 10/KO9 day 10 (3).mp4', '/media/andre/9B57-8640/SACHIN/KO9 SACHIN VIDEO 1/KO9 Day 10/KO9 day 10 (4).mp4', '/media/andre/9B57-8640/SACHIN/KO9 SACHIN VIDEO 1/KO9 Day 10/KO9 day 10 (5).mp4', '/media/andre/9B57-8640/SACHIN/KO9 SACHIN VIDEO 1/KO9 Day 10/KO9 day 10 (6).mp4', '/media/andre/9B57-8640/SACHIN/KO9 SACHIN VIDEO 1/KO9 Day 10/KO9 day 10 (7).mp4', '/media/andre/9B57-8640/SACHIN/KO9 SACHIN VIDEO 1/KO9 Day 10/KO9 day 10 2pm.mp4', '/media/andre/9B57-8640/SACHIN/KO9 SACHIN VIDEO 1/KO9 Day 10/KO9 day 10 3pm.mp4', '/media/andre/9B57-8640/SACHIN/KO9 SACHIN VIDEO 1/KO9 Day 10/KO9 day 10 (10).mp4', '/media/andre/9B57-8640/SACHIN/KO9 SACHIN VIDEO 1/KO9 Day 10/KO9 day 10 (11).mp4', '/media/andre/9B57-8640/SACHIN/KO9 SACHIN VIDEO 1/KO9 Day 10/KO9 day 10 (12).mp4', '/media/andre/9B57-8640/SACHIN/KO9 SACHIN VIDEO 1/KO9 Day 10/KO9 day 10 (13).mp4', '/media/andre/9B57-8640/SACHIN/KO9 SACHIN VIDEO 1/KO9 Day 10/KO9 day 10 (14).mp4', '/media/andre/9B57-8640/SACHIN/KO9 SACHIN VIDEO 1/KO9 Day 10/KO9 day 10 (15).mp4', '/media/andre/9B57-8640/SACHIN/KO9 SACHIN VIDEO 1/KO9 Day 15 By Time (Sachin DONE)/KO9 day 15 10 09 730 (done).mp4', '/media/andre/9B57-8640/SACHIN/KO9 SACHIN VIDEO 1/KO9 Day 15 By Time (Sachin DONE)/KO9 day 15 10 09 930 (done).mp4', '/media/andre/9B57-8640/SACHIN/KO9 SACHIN VIDEO 1/KO9 Day 15 By Time (Sachin DONE)/KO9 day 15 10 09 1117 (done).mp4', '/media/andre/9B57-8640/SACHIN/KO9 SACHIN VIDEO 1/KO9 Day 15 By Time (Sachin DONE)/Ko9 day 15 10 09 1305 (done).mp4', '/media/andre/9B57-8640/SACHIN/KO9 SACHIN VIDEO 1/KO9 Day 15 By Time (Sachin DONE)/KO9 day 15 10 09 1420 (done).mp4', '/media/andre/9B57-8640/SACHIN/KO9 SACHIN VIDEO 1/KO9 Day 15 By Time (Sachin DONE)/KO9 day 15 10 09 1630 (done).mp4', '/media/andre/9B57-8640/SACHIN/KO9 SACHIN VIDEO 1/KO9 Day 15 By Time (Sachin DONE)/KO9 day 15 10 09 1825 (done).mp4', '/media/andre/9B57-8640/SACHIN/KO9 SACHIN VIDEO 1/KO9 Day 15 By Time (Sachin DONE)/KO9 day 15 10 09 2018 (done).mp4', '/media/andre/9B57-8640/SACHIN/KO9 SACHIN VIDEO 1/KO9 Day 15 By Time (Sachin DONE)/KO9 day 15 10 09 2159 (done).mp4', '/media/andre/9B57-8640/SACHIN/KO9 SACHIN VIDEO 1/KO9 Day 15 By Time (Sachin DONE)/KO9 day 15 10 09 2346 (done).mp4', '/media/andre/9B57-8640/SACHIN/KO9 SACHIN VIDEO 1/KO9 Day 15 By Time (Sachin DONE)/KO9 day 15 10 10 135 (done).mp4', '/media/andre/9B57-8640/SACHIN/KO9 SACHIN VIDEO 1/KO9 Day 15 By Time (Sachin DONE)/KO9 day 15 10 10 321 (done).mp4', '/media/andre/9B57-8640/SACHIN/KO9 SACHIN VIDEO 1/KO9 Day 15 By Time (Sachin DONE)/KO9 day 15 1010 508 (extra).mp4', '/media/andre/9B57-8640/SACHIN/KO9 SACHIN VIDEO 1/KO9 Day 15 By Time (Sachin DONE)/KO9 day 15 1010 655 (extra).mp4', '/media/andre/9B57-8640/SACHIN/KO11 Day 15 By Time/KO11 day 15 (6)09 28 105.mp4', '/media/andre/9B57-8640/SACHIN/KO11 Day 15 By Time/KO11 day 15 (7)09 28 954.mp4', '/media/andre/9B57-8640/SACHIN/KO11 Day 15 By Time/KO11 day 15 (8)09 28 1251.mp4', '/media/andre/9B57-8640/SACHIN/KO11 Day 15 By Time/KO11 day 15 (9)09 28 1548.mp4', '/media/andre/9B57-8640/SACHIN/KO11 Day 15 By Time/KO11 day 15 (10)09 28 1845.mp4', '/media/andre/9B57-8640/SACHIN/KO11 Day 15 By Time/KO11 day 15 (11)09 28 2141.mp4', '/media/andre/9B57-8640/SACHIN/KO11 Day 15 By Time/KO11 day 15 (12)09 29 0038.mp4', '/media/andre/9B57-8640/SACHIN/KO11 Day 15 By Time/KO11 day 15 (13)09 29 335.mp4', '/media/andre/9B57-8640/SACHIN/KO11 Day 15 By Time/KO11 day 15 (14)09 29 632.mp4', '/media/andre/9B57-8640/SACHIN/KO11 Day 15 By Time/KO11 day 15 (15)09 29 929.mp4', '/media/andre/9B57-8640/SACHIN/KO11 Day 15 By Time/KO11 day 15 09 27 1739.mp4', '/media/andre/9B57-8640/SACHIN/KO11 Day 15 By Time/KO11 day 15 (2)09 27 1909.mp4', '/media/andre/9B57-8640/SACHIN/KO11 Day 15 By Time/KO11 day 15 (3)09 27 2206.mp4', '/media/andre/9B57-8640/SACHIN/KO11 Day 15 By Time/KO11 day 15 (4)09 28 657.mp4', '/media/andre/9B57-8640/SACHIN/KO11 Day 15 By Time/KO11 day 15 (5)09 28 400.mp4', '/media/andre/9B57-8640/SACHIN/KO12 Day 15 By Time/KO12 day 15 10 26 409.mp4', '/media/andre/9B57-8640/SACHIN/KO12 Day 15 By Time/KO12 day 15 10 26 706.mp4', '/media/andre/9B57-8640/SACHIN/KO12 Day 15 By Time/KO12 day 15 10 26 1004.mp4', '/media/andre/9B57-8640/SACHIN/KO12 Day 15 By Time/KO12 day 15 10 26 1300.mp4', '/media/andre/9B57-8640/SACHIN/KO12 Day 15 By Time/KO12 day 15 10 26 1557.mp4', '/media/andre/9B57-8640/SACHIN/KO12 Day 15 By Time/KO12 day 15 10 25 16 21.mp4', '/media/andre/9B57-8640/SACHIN/KO12 Day 15 By Time/KO12 day 15 10 25 1451.mp4', '/media/andre/9B57-8640/SACHIN/KO12 Day 15 By Time/KO12 day 15 10 25 1918.mp4', '/media/andre/9B57-8640/SACHIN/KO12 Day 15 By Time/KO12 day 15 10 25 2215.mp4', '/media/andre/9B57-8640/SACHIN/KO12 Day 15 By Time/KO12 day 15 10 26 112.mp4', '/media/andre/9B57-8640/SACHIN/WT2 Day 15 by TIME (Sachin DONE but missing 12 a.m. - 4 a.m.)/WT2 day 15 (6)09 13 2010 (done).mp4', '/media/andre/9B57-8640/SACHIN/WT2 Day 15 by TIME (Sachin DONE but missing 12 a.m. - 4 a.m.)/WT2 day 15 (2)09 13 823 (done).mp4', '/media/andre/9B57-8640/SACHIN/WT2 Day 15 by TIME (Sachin DONE but missing 12 a.m. - 4 a.m.)/WT2 day 15 (3)09 13 1119 (done).mp4', '/media/andre/9B57-8640/SACHIN/WT2 Day 15 by TIME (Sachin DONE but missing 12 a.m. - 4 a.m.)/WT2 day 15 (4)09 13 1426 (done).mp4', '/media/andre/9B57-8640/SACHIN/WT2 Day 15 by TIME (Sachin DONE but missing 12 a.m. - 4 a.m.)/WT2 day 15 (5)09 13 1713 (done).mp4', '/media/andre/9B57-8640/SACHIN/WT2 Day 15 by TIME (Sachin DONE but missing 12 a.m. - 4 a.m.)/WT2 day 15 (1)09 13 526 (done).mp4', '/media/andre/9B57-8640/SACHIN/WT2 Day 15 by TIME (Sachin DONE but missing 12 a.m. - 4 a.m.)/WT2 day 15 (7)09 13 2307 (done BUT missing 12 a.m. to 4 a.m.).mp4', '/media/andre/9B57-8640/SACHIN/WT3 day 15 by time (Sachin DONE but missing 8 a.m. - 4 p.m.)/WT3 day 15 10 26 448 am (extra).mp4', '/media/andre/9B57-8640/SACHIN/WT3 day 15 by time (Sachin DONE but missing 8 a.m. - 4 p.m.)/WT3 day 15 10 (5)26 301 am (done).mp4', '/media/andre/9B57-8640/SACHIN/WT3 day 15 by time (Sachin DONE but missing 8 a.m. - 4 p.m.)/WT3 day 15 10 (4)26 114 am (done).mp4', '/media/andre/9B57-8640/SACHIN/WT3 day 15 by time (Sachin DONE but missing 8 a.m. - 4 p.m.)/WT3 day 15 10 25 1909 (extra).mp4', '/media/andre/9B57-8640/SACHIN/WT3 day 15 by time (Sachin DONE but missing 8 a.m. - 4 p.m.)/WT3 day 15 10 (1)25 1952 (done).mp4', '/media/andre/9B57-8640/SACHIN/WT3 day 15 by time (Sachin DONE but missing 8 a.m. - 4 p.m.)/WT3 day 15 10 (2)25 2135 (done).mp4', '/media/andre/9B57-8640/SACHIN/WT3 day 15 by time (Sachin DONE but missing 8 a.m. - 4 p.m.)/WT3 day 15 10 (3)25 2326 (done).mp4', '/media/andre/9B57-8640/SACHIN/WT3 day 15 by time (Sachin DONE but missing 8 a.m. - 4 p.m.)/WT3 day 16 (light cycle) (Sachin DONE)/WT3 day 15 10 (1)26 635 am (done).mp4', '/media/andre/9B57-8640/SACHIN/WT3 day 15 by time (Sachin DONE but missing 8 a.m. - 4 p.m.)/WT3 day 16 (light cycle) (Sachin DONE)/WT3 day 15 10 (2)26 822 am (done).mp4', '/media/andre/9B57-8640/SACHIN/WT3 day 15 by time (Sachin DONE but missing 8 a.m. - 4 p.m.)/WT3 day 16 (light cycle) (Sachin DONE)/WT3 day 15 10 (3)26 1009 (done).mp4', '/media/andre/9B57-8640/SACHIN/WT3 day 15 by time (Sachin DONE but missing 8 a.m. - 4 p.m.)/WT3 day 16 (light cycle) (Sachin DONE)/WT3 day 15 10 (4)26 1156 (done).mp4', '/media/andre/9B57-8640/SACHIN/WT3 day 15 by time (Sachin DONE but missing 8 a.m. - 4 p.m.)/WT3 day 16 (light cycle) (Sachin DONE)/WT3 day 15 10 (5)26 1343 (done).mp4', '/media/andre/9B57-8640/SACHIN/WT3 day 15 by time (Sachin DONE but missing 8 a.m. - 4 p.m.)/WT3 day 16 (light cycle) (Sachin DONE)/WT3 day 15 10 (6)26 1530 (done).mp4', '/media/andre/9B57-8640/SACHIN/WT5 Day 15 By time (Sachin DONE)/extra - WT5 day 15 (2)09 27 1739.mp4', '/media/andre/9B57-8640/SACHIN/WT5 Day 15 By time (Sachin DONE)/extra - WT5 day 15 (4) 09 28 104 am.mp4', '/media/andre/9B57-8640/SACHIN/WT5 Day 15 By time (Sachin DONE)/WT5 day 15 (1) 09 28 657 (done).mp4', '/media/andre/9B57-8640/SACHIN/WT5 Day 15 By time (Sachin DONE)/WT5 day 15 (2) 09 28 954 (done).mp4', '/media/andre/9B57-8640/SACHIN/WT5 Day 15 By time (Sachin DONE)/WT5 day 15 (4) 09 28 1548 (done).mp4', '/media/andre/9B57-8640/SACHIN/WT5 Day 15 By time (Sachin DONE)/WT5 day 15 (5) 09 28 1844 (done).mp4', '/media/andre/9B57-8640/SACHIN/WT5 Day 15 By time (Sachin DONE)/WT5 day 15 (6) 09 28 2141 (done).mp4', '/media/andre/9B57-8640/SACHIN/WT5 Day 15 By time (Sachin DONE)/WT5 day 15 (7) 09 29 0038 (done).mp4', '/media/andre/9B57-8640/SACHIN/WT5 Day 15 By time (Sachin DONE)/WT5 day 15 (8) 09 29 335 (done).mp4', '/media/andre/9B57-8640/SACHIN/WT5 Day 15 By time (Sachin DONE)/extra - WT5 day 15 (13)09 29 632.mp4', '/media/andre/9B57-8640/SACHIN/WT5 Day 15 By time (Sachin DONE)/extra - WT5 day 15 (14)09 29 929.mp4', '/media/andre/9B57-8640/SACHIN/WT5 Day 15 By time (Sachin DONE)/extra - WT5 day 15 09 27 1910.mp4', '/media/andre/9B57-8640/SACHIN/WT5 Day 15 By time (Sachin DONE)/extra - WT5 Day 15 09 28 400.mp4', '/media/andre/9B57-8640/SACHIN/WT5 Day 15 By time (Sachin DONE)/extra - WT5 day15 09 27 2206.mp4', '/media/andre/9B57-8640/SACHIN/WT5 Day 15 By time (Sachin DONE)/WT5 day 15 (3) 09 28 1251 (done).mp4', '/media/andre/9B57-8640/SACHIN/KO15 Day 15 By Time (Sachin DONE but missing 0800-1050)/extra - KO15 day 15 (5)09 29 1611.mp4', '/media/andre/9B57-8640/SACHIN/KO15 Day 15 By Time (Sachin DONE but missing 0800-1050)/extra - KO15 day 15 (6)09 29 1758.mp4', '/media/andre/9B57-8640/SACHIN/KO15 Day 15 By Time (Sachin DONE but missing 0800-1050)/KO15 day 15 (7)09 29 1945 (done).mp4', '/media/andre/9B57-8640/SACHIN/KO15 Day 15 By Time (Sachin DONE but missing 0800-1050)/KO15 day 15 (8)09 29 2132 (done).mp4', '/media/andre/9B57-8640/SACHIN/KO15 Day 15 By Time (Sachin DONE but missing 0800-1050)/KO15 day 15 (9)09 29 2320 (done).mp4', '/media/andre/9B57-8640/SACHIN/KO15 Day 15 By Time (Sachin DONE but missing 0800-1050)/KO15 day 15 (10)09 30 106 (done).mp4', '/media/andre/9B57-8640/SACHIN/KO15 Day 15 By Time (Sachin DONE but missing 0800-1050)/KO15 day 15 (11)09 30 254 (done).mp4', '/media/andre/9B57-8640/SACHIN/KO15 Day 15 By Time (Sachin DONE but missing 0800-1050)/extra - KO15 day 15 (12)09 30 441.mp4', '/media/andre/9B57-8640/SACHIN/KO15 Day 15 By Time (Sachin DONE but missing 0800-1050)/extra - KO15 day 16 (1)09 30 628.mp4', '/media/andre/9B57-8640/SACHIN/KO15 Day 15 By Time (Sachin DONE but missing 0800-1050)/extra - KO15 day 16 (2)09 30 815.mp4', '/media/andre/9B57-8640/SACHIN/KO15 Day 15 By Time (Sachin DONE but missing 0800-1050)/KO15 day 15 (3)09 29 1237 (done).mp4', '/media/andre/9B57-8640/SACHIN/KO15 Day 15 By Time (Sachin DONE but missing 0800-1050)/KO15 day 15 (4)09 29 1424 (done).mp4', '/media/andre/9B57-8640/SACHIN/KO15 Day 15 By Time (Sachin DONE but missing 0800-1050)/KO15 day 15 (2)09 29 1050 (done).mp4', '/media/andre/9B57-8640/SACHIN/KO14 Day 15 by time (missing 1459-1600)/extra - KO14 day 15 10 06 1552.mp4', '/media/andre/9B57-8640/SACHIN/KO14 Day 15 by time (missing 1459-1600)/KO14 day 15 (7)10 06 2255.mp4', '/media/andre/9B57-8640/SACHIN/KO14 Day 15 by time (missing 1459-1600)/KO14 day 15 (6)10 06 2108.mp4', '/media/andre/9B57-8640/SACHIN/KO14 Day 15 by time (missing 1459-1600)/KO14 day 15 (5)10 06 1921.mp4', '/media/andre/9B57-8640/SACHIN/KO14 Day 15 by time (missing 1459-1600)/extra - KO14 day 15 10 06 1734.mp4', '/media/andre/9B57-8640/SACHIN/KO14 Day 15 by time (missing 1459-1600)/extra - KO14 day 15 10 07 603.mp4', '/media/andre/9B57-8640/SACHIN/KO14 Day 15 by time (missing 1459-1600)/extra - KO14 day 15 10 07 416.mp4', '/media/andre/9B57-8640/SACHIN/KO14 Day 15 by time (missing 1459-1600)/KO14 day 15 (1)10 07 750 (done).mp4', '/media/andre/9B57-8640/SACHIN/KO14 Day 15 by time (missing 1459-1600)/KO14 day 15 (2)10 07 937 (done).mp4', '/media/andre/9B57-8640/SACHIN/KO14 Day 15 by time (missing 1459-1600)/KO14 day 15 (3)10 07 1124 (done).mp4', '/media/andre/9B57-8640/SACHIN/KO14 Day 15 by time (missing 1459-1600)/KO14 day 15 (8)10 07 0042.mp4', '/media/andre/9B57-8640/SACHIN/KO14 Day 15 by time (missing 1459-1600)/KO14 day 15 (9)10 07 229.mp4', '/media/andre/9B57-8640/SACHIN/KO14 Day 15 by time (missing 1459-1600)/KO14 day 15 (4)10 07 1312 (done but missing 1459-1600).mp4', '/media/andre/9B57-8640/ko9 day 20/KO9 day 20.mp4', '/media/andre/9B57-8640/ko9 day 20/KO9 day 20 (1).mp4', '/media/andre/9B57-8640/ko9 day 20/KO9 day 20 (2).mp4', '/media/andre/9B57-8640/ko9 day 20/KO9 day 20 (3).mp4', '/media/andre/9B57-8640/ko9 day 20/KO9 day 20 (4).mp4', '/media/andre/9B57-8640/ko9 day 20/KO9 day 20 (5).mp4', '/media/andre/9B57-8640/ko9 day 20/KO9 day 20 (6).mp4', '/media/andre/9B57-8640/ko9 day 20/KO9 day 20 (7).mp4', '/media/andre/9B57-8640/ko9 day 20/KO9 day 20 (8).mp4', '/media/andre/9B57-8640/ko9 day 20/KO9 day 20 (9).mp4', '/media/andre/9B57-8640/ko9 day 20/KO9 day 20 (10).mp4', '/media/andre/9B57-8640/ko9 day 20/KO9 day 20 (11).mp4', '/media/andre/9B57-8640/ko9 day 20/KO9 day 20 (12).mp4', '/media/andre/9B57-8640/ko9 day 20/KO9 day 20 (13).mp4', '/media/andre/9B57-8640/WT3 day 15/WT3 day 15 (18).mp4', '/media/andre/9B57-8640/WT3 day 15/WT3 day 15 (19).mp4', '/media/andre/9B57-8640/WT3 day 15/WT3 day 15 (20).mp4', '/media/andre/9B57-8640/WT3 day 15/WT3 day 15 (21).mp4', '/media/andre/9B57-8640/WT3 day 15/WT3 day 15.mp4', '/media/andre/9B57-8640/WT3 day 15/WT3 day 15 (1).mp4', '/media/andre/9B57-8640/WT3 day 15/WT3 day 15 (2).mp4', '/media/andre/9B57-8640/WT3 day 15/WT3 day 15 (3).mp4', '/media/andre/9B57-8640/WT3 day 15/WT3 day 15 (4).mp4', '/media/andre/9B57-8640/WT3 day 15/WT3 day 15 (5).mp4', '/media/andre/9B57-8640/WT3 day 15/WT3 day 15 (6).mp4', '/media/andre/9B57-8640/WT3 day 15/WT3 day 15 (7).mp4', '/media/andre/9B57-8640/WT3 day 15/WT3 day 15 (8).mp4', '/media/andre/9B57-8640/WT3 day 15/WT3 day 15 (9).mp4', '/media/andre/9B57-8640/WT3 day 15/WT3 day 15 (10).mp4', '/media/andre/9B57-8640/WT3 day 15/WT3 day 15 (11).mp4', '/media/andre/9B57-8640/WT3 day 15/WT3 day 15 (12).mp4', '/media/andre/9B57-8640/WT3 day 15/WT3 day 15 (13).mp4', '/media/andre/9B57-8640/WT3 day 15/WT3 day 15 (14).mp4', '/media/andre/9B57-8640/WT3 day 15/WT3 day 15 (15).mp4', '/media/andre/9B57-8640/WT3 day 15/WT3 day 15 (16).mp4', '/media/andre/9B57-8640/WT3 day 15/WT3 day 15 (17).mp4', '/media/andre/9B57-8640/wt6 day 15/WT6 day 15 (11).mp4', '/media/andre/9B57-8640/wt6 day 15/WT6 day 15 (7).mp4', '/media/andre/9B57-8640/wt6 day 15/WT6 day 15 (6).mp4', '/media/andre/9B57-8640/wt6 day 15/wt6 day 15 (12).mp4', '/media/andre/9B57-8640/wt6 day 15/wt6 day 15 (1).mp4', '/media/andre/9B57-8640/wt6 day 15/wt6 day 15 (2).mp4', '/media/andre/9B57-8640/wt6 day 15/WT6 day 15 (3).mp4', '/media/andre/9B57-8640/wt6 day 15/WT6 day 15 (4).mp4', '/media/andre/9B57-8640/wt6 day 15/WT6 day 15 (5).mp4', '/media/andre/9B57-8640/wt6 day 15/WT6 day 15 (8).mp4', '/media/andre/9B57-8640/wt6 day 15/WT6 day 15 (9).mp4', '/media/andre/9B57-8640/wt6 day 15/WT6 day 15 (10).mp4', '/media/andre/9B57-8640/WT5 day 20/WT5 day 20 (11).mp4', '/media/andre/9B57-8640/WT5 day 20/WT5 day 20 (12).mp4', '/media/andre/9B57-8640/WT5 day 20/WT5 day 20 (13).mp4', '/media/andre/9B57-8640/WT5 day 20/WT5 day 20 (14).mp4', '/media/andre/9B57-8640/WT5 day 20/WT5 day 20 (15).mp4', '/media/andre/9B57-8640/WT5 day 20/WT5 day 20 (16).mp4', '/media/andre/9B57-8640/WT5 day 20/WT5 day 20 (17).mp4', '/media/andre/9B57-8640/WT5 day 20/WT5 day 20 (18).mp4', '/media/andre/9B57-8640/WT5 day 20/WT5 day 20 (19).mp4', '/media/andre/9B57-8640/WT5 day 20/WT5 day 20 (20).mp4', '/media/andre/9B57-8640/WT5 day 20/WT5 day 20 (21).mp4', '/media/andre/9B57-8640/WT5 day 20/WT5 day 20.mp4', '/media/andre/9B57-8640/WT5 day 20/WT5 day 20 (2).mp4', '/media/andre/9B57-8640/WT5 day 20/WT5 day 20 (3).mp4', '/media/andre/9B57-8640/WT5 day 20/WT5 day 20 (4).mp4', '/media/andre/9B57-8640/WT5 day 20/WT5 day 20 (5).mp4', '/media/andre/9B57-8640/WT5 day 20/WT5 day 20 (6).mp4', '/media/andre/9B57-8640/WT5 day 20/WT5 day 20 (7).mp4', '/media/andre/9B57-8640/WT5 day 20/WT5 day 20 (8).mp4', '/media/andre/9B57-8640/WT5 day 20/WT5 day 20 (9).mp4', '/media/andre/9B57-8640/WT5 day 20/WT5 day 20 (10).mp4', '/media/andre/9B57-8640/WT5 day 20/WT5 Day 10/WT5 day 10.mp4', '/media/andre/9B57-8640/WT5 day 20/WT5 Day 10/WT5 day 10 (2).mp4', '/media/andre/9B57-8640/WT5 day 20/WT5 Day 10/WT5 day 10 (3).mp4', '/media/andre/9B57-8640/WT5 day 20/WT5 Day 10/WT5 day 10 (4).mp4', '/media/andre/9B57-8640/WT5 day 20/WT5 Day 10/WT5 day 10 (5).mp4', '/media/andre/9B57-8640/WT5 day 20/WT5 Day 10/WT5 day 10 (6).mp4', '/media/andre/9B57-8640/WT5 day 20/WT5 Day 10/WT5 day 10 (7).mp4', '/media/andre/9B57-8640/WT5 day 20/WT5 Day 10/WT5 day 10 (8).mp4', '/media/andre/9B57-8640/WT5 day 20/WT5 Day 10/WT5 day 10 (9).mp4', '/media/andre/9B57-8640/KO11 day 20/KO11 day 20 (7).mp4', '/media/andre/9B57-8640/KO11 day 20/KO11 day 20 (8).mp4', '/media/andre/9B57-8640/KO11 day 20/KO11 day 20 (9).mp4', '/media/andre/9B57-8640/KO11 day 20/KO11 day 20 (10).mp4', '/media/andre/9B57-8640/KO11 day 20/KO11 day 20 (11).mp4', '/media/andre/9B57-8640/KO11 day 20/KO11 day 20 (12).mp4', '/media/andre/9B57-8640/KO11 day 20/KO11 day 20 (13).mp4', '/media/andre/9B57-8640/KO11 day 20/KO11 day 20 (14).mp4', '/media/andre/9B57-8640/KO11 day 20/KO11 day 20 (15).mp4', '/media/andre/9B57-8640/KO11 day 20/KO11 day 20 (16).mp4', '/media/andre/9B57-8640/KO11 day 20/KO11 day 20 (17).mp4', '/media/andre/9B57-8640/KO11 day 20/KO11 day 20 (18).mp4', '/media/andre/9B57-8640/KO11 day 20/KO11 day 20 (19).mp4', '/media/andre/9B57-8640/KO11 day 20/KO11 day 20 (20).mp4', '/media/andre/9B57-8640/KO11 day 20/KO11 day 20.mp4', '/media/andre/9B57-8640/KO11 day 20/KO11  day 20.mp4', '/media/andre/9B57-8640/KO11 day 20/KO11 day 20 (2).mp4', '/media/andre/9B57-8640/KO11 day 20/KO11 day 20 (3).mp4', '/media/andre/9B57-8640/KO11 day 20/KO11 day 20 (4).mp4', '/media/andre/9B57-8640/KO11 day 20/KO11 day 20 (5).mp4', '/media/andre/9B57-8640/KO11 day 20/KO11 day 20 (6).mp4', '/media/andre/9B57-8640/$RECYCLE.BIN/$IMWWX44.MPG', '/media/andre/9B57-8640/$RECYCLE.BIN/$RMWWX44.MPG', '/media/andre/9B57-8640/AVIDEOS/M2U00195.MPG', '/media/andre/9B57-8640/AVIDEOS/M2U00172.MPG', '/media/andre/9B57-8640/AVIDEOS/M2U00173.MPG', '/media/andre/9B57-8640/AVIDEOS/M2U00174.MPG', '/media/andre/9B57-8640/AVIDEOS/M2U00175.MPG', '/media/andre/9B57-8640/AVIDEOS/M2U00176.MPG', '/media/andre/9B57-8640/AVIDEOS/M2U00177.MPG', '/media/andre/9B57-8640/AVIDEOS/M2U00178.MPG', '/media/andre/9B57-8640/AVIDEOS/M2U00179.MPG', '/media/andre/9B57-8640/AVIDEOS/M2U00180.MPG', '/media/andre/9B57-8640/AVIDEOS/M2U00181.MPG', '/media/andre/9B57-8640/AVIDEOS/M2U00182.MPG', '/media/andre/9B57-8640/AVIDEOS/M2U00183.MPG', '/media/andre/9B57-8640/AVIDEOS/M2U00184.MPG', '/media/andre/9B57-8640/AVIDEOS/M2U00185.MPG', '/media/andre/9B57-8640/AVIDEOS/M2U00186.MPG', '/media/andre/9B57-8640/AVIDEOS/M2U00187.MPG', '/media/andre/9B57-8640/AVIDEOS/M2U00188.MPG', '/media/andre/9B57-8640/AVIDEOS/M2U00189.MPG', '/media/andre/9B57-8640/AVIDEOS/M2U00190.MPG', '/media/andre/9B57-8640/AVIDEOS/M2U00191.MPG', '/media/andre/9B57-8640/AVIDEOS/M2U00192.MPG', '/media/andre/9B57-8640/AVIDEOS/M2U00193.MPG', '/media/andre/9B57-8640/AVIDEOS/M2U00194.MPG', '/media/andre/9B57-8640/AVIDEOS/stef videos/M2U00116.MPG', '/media/andre/9B57-8640/AVIDEOS/stef videos/M2U00117.MPG', '/media/andre/9B57-8640/AVIDEOS/stef videos/M2U00118.MPG', '/media/andre/9B57-8640/AVIDEOS/stef videos/M2U00119.MPG', '/media/andre/9B57-8640/AVIDEOS/stef videos/M2U00120.MPG', '/media/andre/9B57-8640/AVIDEOS/stef videos/M2U00121.MPG']\n"
     ]
    }
   ],
   "source": [
    "for drive in DRIVES:\n",
    "    videos = (\n",
    "        list((MOUNT_POINT / drive).glob('**/*.mp4')) + \n",
    "        list((MOUNT_POINT / drive).glob('**/*.MPG'))\n",
    "    )\n",
    "    videos = list(map(str, videos)) # makes things a bit prettier\n",
    "    print(videos)"
   ]
  },
  {
   "cell_type": "markdown",
   "metadata": {},
   "source": [
    "After lots of reading, I can say fairly confidently there are two types of videos we want to ignore\n",
    "1. Ones that begin with a `.` or are in folders that begin with a `.`. These videos are hidden and are probably artifacts from the camera or some other software.\n",
    "2. Videos in folders that begin with $RECYCLE, \n",
    "\n",
    "For now let's say the rest of the videos are useful, we can sort them out later by viewing them. There are too many to look through each one right now."
   ]
  },
  {
   "cell_type": "code",
   "execution_count": 58,
   "metadata": {},
   "outputs": [
    {
     "name": "stdout",
     "output_type": "stream",
     "text": [
      "Length of videos before filtering: 1102, after: 924\n",
      "Length of videos before filtering:  528, after: 439\n",
      "Length of videos before filtering:  673, after: 553\n"
     ]
    }
   ],
   "source": [
    "def is_visible(filepath):\n",
    "    for part in filepath.parts:\n",
    "        if part.startswith('.'):\n",
    "            return False\n",
    "        \n",
    "    return True\n",
    "\n",
    "def is_not_recycled(filepath):\n",
    "    for part in filepath.parts:\n",
    "        if part.startswith('$RECYCLE'):\n",
    "            return False\n",
    "        \n",
    "    return True\n",
    "    \n",
    "for drive in DRIVES:\n",
    "    videos = (\n",
    "        list((MOUNT_POINT / drive).glob('**/*.mp4')) + \n",
    "        list((MOUNT_POINT / drive).glob('**/*.MPG'))\n",
    "    )\n",
    "    \n",
    "    all_videos_len = len(videos)\n",
    "    videos = list(filter(is_visible, videos))\n",
    "    videos = list(filter(is_not_recycled, videos))\n",
    "    after_filtering_len = len(videos)\n",
    "    \n",
    "    print(f\"Length of videos before filtering: {all_videos_len:4}, after: {after_filtering_len}\")"
   ]
  },
  {
   "cell_type": "markdown",
   "metadata": {},
   "source": [
    "### Visualizing structure of folders\n",
    "Sometimes the folders are very disorganized and its hard to get a big picture of what data we have by looking into each folder one at a time"
   ]
  },
  {
   "cell_type": "code",
   "execution_count": 92,
   "metadata": {},
   "outputs": [
    {
     "name": "stdout",
     "output_type": "stream",
     "text": [
      "Note: you may need to restart the kernel to use updated packages.\n"
     ]
    }
   ],
   "source": [
    "pip install -q treelib"
   ]
  },
  {
   "cell_type": "code",
   "execution_count": 91,
   "metadata": {},
   "outputs": [
    {
     "name": "stderr",
     "output_type": "stream",
     "text": [
      "100%|██████████| 1916/1916 [00:00<00:00, 249868.99it/s]"
     ]
    },
    {
     "name": "stdout",
     "output_type": "stream",
     "text": [
      "/\n",
      "├── 11D9-5C57\n",
      "│   ├── Day10s\n",
      "│   │   └── ko10 day 10\n",
      "│   ├── KO10 DAY 15\n",
      "│   ├── KO10 DAY 20\n",
      "│   ├── KO112 D15\n",
      "│   ├── KO12 day 10\n",
      "│   ├── KO12 day 15\n",
      "│   ├── KO14 day 20\n",
      "│   ├── KO15 Day 20\n",
      "│   ├── KO15 day 15\n",
      "│   ├── KO152 DAY 10\n",
      "│   ├── KO152 DAY 15\n",
      "│   ├── KO152 Day20\n",
      "│   ├── KO16 day 15\n",
      "│   ├── KO16 day 20\n",
      "│   ├── WT3 DAY 20\n",
      "│   ├── WT3 day 10\n",
      "│   ├── WT3 day 15\n",
      "│   ├── WT6 DAY 20\n",
      "│   ├── WT72 D15\n",
      "│   ├── WT72 DAY 10\n",
      "│   ├── WT72 DAY 15\n",
      "│   ├── WT72 DAY 20\n",
      "│   │   └── WT12 D15\n",
      "│   │       └── WT12 day 15\n",
      "│   ├── WT8 DAY 15\n",
      "│   ├── WT8 day 20\n",
      "│   ├── WT82 D10\n",
      "│   ├── WT82 D20\n",
      "│   ├── WT82 DAY 15\n",
      "│   ├── WT82 DAY 20\n",
      "│   ├── ko9 day 20\n",
      "│   └── wt6 day 15\n",
      "├── 5161-4A93\n",
      "│   ├── Day10s\n",
      "│   ├── KO112 D15\n",
      "│   ├── KO15 Day 20\n",
      "│   ├── KO15 day 15\n",
      "│   ├── KO9 Day 20\n",
      "│   ├── WT72 D15\n",
      "│   ├── WT72 Day 20\n",
      "│   │   └── WT12 D15\n",
      "│   │       └── WT12 day 15\n",
      "│   ├── WT8 Day 15\n",
      "│   └── WT82 D20\n",
      "└── 9B57-8640\n",
      "    ├── AVIDEOS\n",
      "    │   └── stef videos\n",
      "    ├── KO10 day 10\n",
      "    ├── KO11 day 20\n",
      "    ├── KO12\n",
      "    │   └── KO12 day 10\n",
      "    ├── KO14 day 10\n",
      "    ├── KO14 day 20\n",
      "    ├── KO15\n",
      "    │   ├── KO15 Day 10\n",
      "    │   └── KO15 Day 20\n",
      "    ├── KO16\n",
      "    │   └── KO16 day 10\n",
      "    ├── KO16 day 15\n",
      "    ├── KO16 day 20\n",
      "    ├── SACHIN\n",
      "    │   ├── KO11 Day 15 By Time\n",
      "    │   ├── KO12 Day 15 By Time\n",
      "    │   ├── KO14 Day 15 by time (missing 1459-1600)\n",
      "    │   ├── KO15 Day 15 By Time (Sachin DONE but missing 0800-1050)\n",
      "    │   ├── KO9 SACHIN VIDEO 1\n",
      "    │   │   ├── KO9 Day 10\n",
      "    │   │   ├── KO9 Day 15 By Time (Sachin DONE)\n",
      "    │   │   └── KO9 Day 15 extra\n",
      "    │   ├── WT2 Day 15 by TIME (Sachin DONE but missing 12 a.m. - 4 a.m.)\n",
      "    │   ├── WT3 day 15 by time (Sachin DONE but missing 8 a.m. - 4 p.m.)\n",
      "    │   │   └── WT3 day 16 (light cycle) (Sachin DONE)\n",
      "    │   └── WT5 Day 15 By time (Sachin DONE)\n",
      "    ├── WT1\n",
      "    ├── WT1 (2)\n",
      "    ├── WT2\n",
      "    │   └── WT2 Day 10\n",
      "    ├── WT3\n",
      "    │   └── WT3 Day 10\n",
      "    ├── WT3 day 15\n",
      "    ├── WT5 day 20\n",
      "    │   └── WT5 Day 10\n",
      "    ├── WT6\n",
      "    ├── WT7\n",
      "    ├── WT8\n",
      "    ├── ko9 day 20\n",
      "    └── wt6 day 15\n",
      "\n"
     ]
    },
    {
     "name": "stderr",
     "output_type": "stream",
     "text": [
      "\n"
     ]
    }
   ],
   "source": [
    "import treelib\n",
    "\n",
    "tree = treelib.Tree()\n",
    "tree.create_node('/', '/')\n",
    "for video in tqdm(all_videos):\n",
    "    video = video.relative_to(MOUNT_POINT)\n",
    "    parts = video.parts[:-1] # don't include filename\n",
    "    for i in range(1,len(parts)+1):\n",
    "        uid = '/'.join(parts[:i])\n",
    "        name = parts[i-1]\n",
    "        \n",
    "        if tree.contains(uid):\n",
    "            continue \n",
    "        \n",
    "        # include parent\n",
    "        if i > 1:\n",
    "            parent_uid = '/'.join(parts[:i-1])\n",
    "            tree.create_node(name, uid, parent=parent_uid)\n",
    "        else:\n",
    "            tree.create_node(name, uid, parent='/')\n",
    "            \n",
    "tree.show()"
   ]
  },
  {
   "cell_type": "markdown",
   "metadata": {},
   "source": [
    "We can save the whole output to a file to view it there"
   ]
  },
  {
   "cell_type": "markdown",
   "metadata": {},
   "source": [
    "## 2. Video Details"
   ]
  },
  {
   "cell_type": "markdown",
   "metadata": {},
   "source": [
    "### Getting Video Metadata\n",
    "\n",
    "So we know how many videos are in each folder, and how big the files are. But how long are the videos? Are they all the same size? (this can be very important because many algorithms struggle with inconsistent scales)\n",
    "\n",
    "Knowing this metadata is also important because it can help us validate the transcoded videos later."
   ]
  },
  {
   "cell_type": "code",
   "execution_count": 59,
   "metadata": {},
   "outputs": [],
   "source": [
    "all_videos = []\n",
    "for drive in DRIVES:\n",
    "    # Get all mp4/MPG video files\n",
    "    videos = (\n",
    "        list((MOUNT_POINT / drive).glob('**/*.mp4')) + \n",
    "        list((MOUNT_POINT / drive).glob('**/*.MPG'))\n",
    "    )\n",
    "    \n",
    "    # Filter out the hidden and recycled videos\n",
    "    videos = list(filter(is_visible, videos))\n",
    "    videos = list(filter(is_not_recycled, videos))\n",
    "    all_videos += videos"
   ]
  },
  {
   "cell_type": "code",
   "execution_count": 60,
   "metadata": {},
   "outputs": [
    {
     "name": "stderr",
     "output_type": "stream",
     "text": [
      "100%|██████████| 1916/1916 [07:22<00:00,  4.33it/s] \n"
     ]
    },
    {
     "data": {
      "text/html": [
       "<div>\n",
       "<style scoped>\n",
       "    .dataframe tbody tr th:only-of-type {\n",
       "        vertical-align: middle;\n",
       "    }\n",
       "\n",
       "    .dataframe tbody tr th {\n",
       "        vertical-align: top;\n",
       "    }\n",
       "\n",
       "    .dataframe thead th {\n",
       "        text-align: right;\n",
       "    }\n",
       "</style>\n",
       "<table border=\"1\" class=\"dataframe\">\n",
       "  <thead>\n",
       "    <tr style=\"text-align: right;\">\n",
       "      <th></th>\n",
       "      <th>file</th>\n",
       "      <th>filetype</th>\n",
       "      <th>frames</th>\n",
       "      <th>fps</th>\n",
       "      <th>width</th>\n",
       "      <th>height</th>\n",
       "    </tr>\n",
       "  </thead>\n",
       "  <tbody>\n",
       "    <tr>\n",
       "      <th>0</th>\n",
       "      <td>/media/andre/11D9-5C57/ch04_20141026223910.mp4</td>\n",
       "      <td>mp4</td>\n",
       "      <td>192676</td>\n",
       "      <td>30.00000</td>\n",
       "      <td>704</td>\n",
       "      <td>480</td>\n",
       "    </tr>\n",
       "    <tr>\n",
       "      <th>1</th>\n",
       "      <td>/media/andre/11D9-5C57/ch04_20141027002615.mp4</td>\n",
       "      <td>mp4</td>\n",
       "      <td>192706</td>\n",
       "      <td>30.00000</td>\n",
       "      <td>704</td>\n",
       "      <td>480</td>\n",
       "    </tr>\n",
       "    <tr>\n",
       "      <th>2</th>\n",
       "      <td>/media/andre/11D9-5C57/ch04_20141027021320.mp4</td>\n",
       "      <td>mp4</td>\n",
       "      <td>192706</td>\n",
       "      <td>30.00000</td>\n",
       "      <td>704</td>\n",
       "      <td>480</td>\n",
       "    </tr>\n",
       "    <tr>\n",
       "      <th>3</th>\n",
       "      <td>/media/andre/11D9-5C57/ch04_20141027040025.mp4</td>\n",
       "      <td>mp4</td>\n",
       "      <td>192708</td>\n",
       "      <td>30.00000</td>\n",
       "      <td>704</td>\n",
       "      <td>480</td>\n",
       "    </tr>\n",
       "    <tr>\n",
       "      <th>4</th>\n",
       "      <td>/media/andre/11D9-5C57/ch04_20141027054731.mp4</td>\n",
       "      <td>mp4</td>\n",
       "      <td>192736</td>\n",
       "      <td>30.00000</td>\n",
       "      <td>704</td>\n",
       "      <td>480</td>\n",
       "    </tr>\n",
       "    <tr>\n",
       "      <th>...</th>\n",
       "      <td>...</td>\n",
       "      <td>...</td>\n",
       "      <td>...</td>\n",
       "      <td>...</td>\n",
       "      <td>...</td>\n",
       "      <td>...</td>\n",
       "    </tr>\n",
       "    <tr>\n",
       "      <th>1911</th>\n",
       "      <td>/media/andre/9B57-8640/AVIDEOS/stef videos/M2U...</td>\n",
       "      <td>MPG</td>\n",
       "      <td>94226</td>\n",
       "      <td>29.97003</td>\n",
       "      <td>720</td>\n",
       "      <td>480</td>\n",
       "    </tr>\n",
       "    <tr>\n",
       "      <th>1912</th>\n",
       "      <td>/media/andre/9B57-8640/AVIDEOS/stef videos/M2U...</td>\n",
       "      <td>MPG</td>\n",
       "      <td>94331</td>\n",
       "      <td>29.97003</td>\n",
       "      <td>720</td>\n",
       "      <td>480</td>\n",
       "    </tr>\n",
       "    <tr>\n",
       "      <th>1913</th>\n",
       "      <td>/media/andre/9B57-8640/AVIDEOS/stef videos/M2U...</td>\n",
       "      <td>MPG</td>\n",
       "      <td>94437</td>\n",
       "      <td>29.97003</td>\n",
       "      <td>720</td>\n",
       "      <td>480</td>\n",
       "    </tr>\n",
       "    <tr>\n",
       "      <th>1914</th>\n",
       "      <td>/media/andre/9B57-8640/AVIDEOS/stef videos/M2U...</td>\n",
       "      <td>MPG</td>\n",
       "      <td>94362</td>\n",
       "      <td>29.97003</td>\n",
       "      <td>720</td>\n",
       "      <td>480</td>\n",
       "    </tr>\n",
       "    <tr>\n",
       "      <th>1915</th>\n",
       "      <td>/media/andre/9B57-8640/AVIDEOS/stef videos/M2U...</td>\n",
       "      <td>MPG</td>\n",
       "      <td>47982</td>\n",
       "      <td>29.97003</td>\n",
       "      <td>720</td>\n",
       "      <td>480</td>\n",
       "    </tr>\n",
       "  </tbody>\n",
       "</table>\n",
       "<p>1916 rows × 6 columns</p>\n",
       "</div>"
      ],
      "text/plain": [
       "                                                   file filetype  frames  \\\n",
       "0        /media/andre/11D9-5C57/ch04_20141026223910.mp4      mp4  192676   \n",
       "1        /media/andre/11D9-5C57/ch04_20141027002615.mp4      mp4  192706   \n",
       "2        /media/andre/11D9-5C57/ch04_20141027021320.mp4      mp4  192706   \n",
       "3        /media/andre/11D9-5C57/ch04_20141027040025.mp4      mp4  192708   \n",
       "4        /media/andre/11D9-5C57/ch04_20141027054731.mp4      mp4  192736   \n",
       "...                                                 ...      ...     ...   \n",
       "1911  /media/andre/9B57-8640/AVIDEOS/stef videos/M2U...      MPG   94226   \n",
       "1912  /media/andre/9B57-8640/AVIDEOS/stef videos/M2U...      MPG   94331   \n",
       "1913  /media/andre/9B57-8640/AVIDEOS/stef videos/M2U...      MPG   94437   \n",
       "1914  /media/andre/9B57-8640/AVIDEOS/stef videos/M2U...      MPG   94362   \n",
       "1915  /media/andre/9B57-8640/AVIDEOS/stef videos/M2U...      MPG   47982   \n",
       "\n",
       "           fps  width  height  \n",
       "0     30.00000    704     480  \n",
       "1     30.00000    704     480  \n",
       "2     30.00000    704     480  \n",
       "3     30.00000    704     480  \n",
       "4     30.00000    704     480  \n",
       "...        ...    ...     ...  \n",
       "1911  29.97003    720     480  \n",
       "1912  29.97003    720     480  \n",
       "1913  29.97003    720     480  \n",
       "1914  29.97003    720     480  \n",
       "1915  29.97003    720     480  \n",
       "\n",
       "[1916 rows x 6 columns]"
      ]
     },
     "execution_count": 60,
     "metadata": {},
     "output_type": "execute_result"
    }
   ],
   "source": [
    "import pandas as pd\n",
    "import cv2\n",
    "from tqdm import tqdm\n",
    "\n",
    "metadata = []\n",
    "for video in tqdm(all_videos):\n",
    "    cap = cv2.VideoCapture(str(video))\n",
    "    _metadata = {\n",
    "        'file': video,\n",
    "        'filetype': video.parts[-1].split('.')[-1],\n",
    "        'frames': int(cap.get(cv2.CAP_PROP_FRAME_COUNT)),\n",
    "        'fps': float(cap.get(cv2.CAP_PROP_FPS)),\n",
    "        'width': int(cap.get(cv2.CAP_PROP_FRAME_WIDTH)),\n",
    "        'height': int(cap.get(cv2.CAP_PROP_FRAME_HEIGHT))\n",
    "    }\n",
    "    metadata.append(_metadata)\n",
    "    \n",
    "metadata_df = pd.DataFrame(metadata)\n",
    "metadata_df"
   ]
  },
  {
   "cell_type": "markdown",
   "metadata": {},
   "source": [
    "### Total duration"
   ]
  },
  {
   "cell_type": "code",
   "execution_count": 61,
   "metadata": {},
   "outputs": [
    {
     "data": {
      "text/plain": [
       "-307445721479635.5"
      ]
     },
     "execution_count": 61,
     "metadata": {},
     "output_type": "execute_result"
    }
   ],
   "source": [
    "(metadata_df.frames / metadata_df.fps).sum()"
   ]
  },
  {
   "cell_type": "markdown",
   "metadata": {},
   "source": [
    "... That doesn't look right. What's going on?"
   ]
  },
  {
   "cell_type": "code",
   "execution_count": 62,
   "metadata": {},
   "outputs": [
    {
     "data": {
      "text/html": [
       "<div>\n",
       "<style scoped>\n",
       "    .dataframe tbody tr th:only-of-type {\n",
       "        vertical-align: middle;\n",
       "    }\n",
       "\n",
       "    .dataframe tbody tr th {\n",
       "        vertical-align: top;\n",
       "    }\n",
       "\n",
       "    .dataframe thead th {\n",
       "        text-align: right;\n",
       "    }\n",
       "</style>\n",
       "<table border=\"1\" class=\"dataframe\">\n",
       "  <thead>\n",
       "    <tr style=\"text-align: right;\">\n",
       "      <th></th>\n",
       "      <th>frames</th>\n",
       "      <th>fps</th>\n",
       "      <th>width</th>\n",
       "      <th>height</th>\n",
       "    </tr>\n",
       "  </thead>\n",
       "  <tbody>\n",
       "    <tr>\n",
       "      <th>count</th>\n",
       "      <td>1.916000e+03</td>\n",
       "      <td>1916.000000</td>\n",
       "      <td>1916.000000</td>\n",
       "      <td>1916.0</td>\n",
       "    </tr>\n",
       "    <tr>\n",
       "      <th>mean</th>\n",
       "      <td>-4.813868e+12</td>\n",
       "      <td>29.999531</td>\n",
       "      <td>704.250522</td>\n",
       "      <td>480.0</td>\n",
       "    </tr>\n",
       "    <tr>\n",
       "      <th>std</th>\n",
       "      <td>1.215918e+14</td>\n",
       "      <td>0.003722</td>\n",
       "      <td>1.986869</td>\n",
       "      <td>0.0</td>\n",
       "    </tr>\n",
       "    <tr>\n",
       "      <th>min</th>\n",
       "      <td>-3.074457e+15</td>\n",
       "      <td>29.970030</td>\n",
       "      <td>704.000000</td>\n",
       "      <td>480.0</td>\n",
       "    </tr>\n",
       "    <tr>\n",
       "      <th>25%</th>\n",
       "      <td>1.927070e+05</td>\n",
       "      <td>30.000000</td>\n",
       "      <td>704.000000</td>\n",
       "      <td>480.0</td>\n",
       "    </tr>\n",
       "    <tr>\n",
       "      <th>50%</th>\n",
       "      <td>1.927090e+05</td>\n",
       "      <td>30.000000</td>\n",
       "      <td>704.000000</td>\n",
       "      <td>480.0</td>\n",
       "    </tr>\n",
       "    <tr>\n",
       "      <th>75%</th>\n",
       "      <td>1.927380e+05</td>\n",
       "      <td>30.000000</td>\n",
       "      <td>704.000000</td>\n",
       "      <td>480.0</td>\n",
       "    </tr>\n",
       "    <tr>\n",
       "      <th>max</th>\n",
       "      <td>2.101409e+06</td>\n",
       "      <td>30.000000</td>\n",
       "      <td>720.000000</td>\n",
       "      <td>480.0</td>\n",
       "    </tr>\n",
       "  </tbody>\n",
       "</table>\n",
       "</div>"
      ],
      "text/plain": [
       "             frames          fps        width  height\n",
       "count  1.916000e+03  1916.000000  1916.000000  1916.0\n",
       "mean  -4.813868e+12    29.999531   704.250522   480.0\n",
       "std    1.215918e+14     0.003722     1.986869     0.0\n",
       "min   -3.074457e+15    29.970030   704.000000   480.0\n",
       "25%    1.927070e+05    30.000000   704.000000   480.0\n",
       "50%    1.927090e+05    30.000000   704.000000   480.0\n",
       "75%    1.927380e+05    30.000000   704.000000   480.0\n",
       "max    2.101409e+06    30.000000   720.000000   480.0"
      ]
     },
     "execution_count": 62,
     "metadata": {},
     "output_type": "execute_result"
    }
   ],
   "source": [
    "metadata_df.describe()"
   ]
  },
  {
   "cell_type": "markdown",
   "metadata": {},
   "source": [
    "Apparently the minimum number of frames for a video is `-3.074457e+15`... clearly there was a problem there. \n",
    "\n",
    "Let's see what videos are causing the problem"
   ]
  },
  {
   "cell_type": "code",
   "execution_count": 63,
   "metadata": {},
   "outputs": [
    {
     "data": {
      "text/html": [
       "<div>\n",
       "<style scoped>\n",
       "    .dataframe tbody tr th:only-of-type {\n",
       "        vertical-align: middle;\n",
       "    }\n",
       "\n",
       "    .dataframe tbody tr th {\n",
       "        vertical-align: top;\n",
       "    }\n",
       "\n",
       "    .dataframe thead th {\n",
       "        text-align: right;\n",
       "    }\n",
       "</style>\n",
       "<table border=\"1\" class=\"dataframe\">\n",
       "  <thead>\n",
       "    <tr style=\"text-align: right;\">\n",
       "      <th></th>\n",
       "      <th>file</th>\n",
       "      <th>filetype</th>\n",
       "      <th>frames</th>\n",
       "      <th>fps</th>\n",
       "      <th>width</th>\n",
       "      <th>height</th>\n",
       "    </tr>\n",
       "  </thead>\n",
       "  <tbody>\n",
       "    <tr>\n",
       "      <th>122</th>\n",
       "      <td>/media/andre/11D9-5C57/KO12 day 15/ch05_201503...</td>\n",
       "      <td>mp4</td>\n",
       "      <td>-3074457345618259</td>\n",
       "      <td>30.0</td>\n",
       "      <td>704</td>\n",
       "      <td>480</td>\n",
       "    </tr>\n",
       "    <tr>\n",
       "      <th>1143</th>\n",
       "      <td>/media/andre/5161-4A93/ch05_20150308203728 - C...</td>\n",
       "      <td>mp4</td>\n",
       "      <td>-3074457345618259</td>\n",
       "      <td>30.0</td>\n",
       "      <td>704</td>\n",
       "      <td>480</td>\n",
       "    </tr>\n",
       "    <tr>\n",
       "      <th>1519</th>\n",
       "      <td>/media/andre/9B57-8640/WT6/WT6 day 15 (9).mp4</td>\n",
       "      <td>mp4</td>\n",
       "      <td>-3074457345618259</td>\n",
       "      <td>30.0</td>\n",
       "      <td>704</td>\n",
       "      <td>480</td>\n",
       "    </tr>\n",
       "  </tbody>\n",
       "</table>\n",
       "</div>"
      ],
      "text/plain": [
       "                                                   file filetype  \\\n",
       "122   /media/andre/11D9-5C57/KO12 day 15/ch05_201503...      mp4   \n",
       "1143  /media/andre/5161-4A93/ch05_20150308203728 - C...      mp4   \n",
       "1519      /media/andre/9B57-8640/WT6/WT6 day 15 (9).mp4      mp4   \n",
       "\n",
       "                frames   fps  width  height  \n",
       "122  -3074457345618259  30.0    704     480  \n",
       "1143 -3074457345618259  30.0    704     480  \n",
       "1519 -3074457345618259  30.0    704     480  "
      ]
     },
     "execution_count": 63,
     "metadata": {},
     "output_type": "execute_result"
    }
   ],
   "source": [
    "metadata_df.loc[metadata_df.frames < 0]"
   ]
  },
  {
   "cell_type": "markdown",
   "metadata": {},
   "source": [
    "Bad videos. Fortunately there's only a few so we can ignore them and deal with them manually later. Hopefully transcoding them will correct it."
   ]
  },
  {
   "cell_type": "code",
   "execution_count": 64,
   "metadata": {},
   "outputs": [
    {
     "data": {
      "text/html": [
       "<div>\n",
       "<style scoped>\n",
       "    .dataframe tbody tr th:only-of-type {\n",
       "        vertical-align: middle;\n",
       "    }\n",
       "\n",
       "    .dataframe tbody tr th {\n",
       "        vertical-align: top;\n",
       "    }\n",
       "\n",
       "    .dataframe thead th {\n",
       "        text-align: right;\n",
       "    }\n",
       "</style>\n",
       "<table border=\"1\" class=\"dataframe\">\n",
       "  <thead>\n",
       "    <tr style=\"text-align: right;\">\n",
       "      <th></th>\n",
       "      <th>file</th>\n",
       "      <th>filetype</th>\n",
       "      <th>frames</th>\n",
       "      <th>fps</th>\n",
       "      <th>width</th>\n",
       "      <th>height</th>\n",
       "    </tr>\n",
       "  </thead>\n",
       "  <tbody>\n",
       "    <tr>\n",
       "      <th>122</th>\n",
       "      <td>/media/andre/11D9-5C57/KO12 day 15/ch05_201503...</td>\n",
       "      <td>mp4</td>\n",
       "      <td>NaN</td>\n",
       "      <td>30.0</td>\n",
       "      <td>704</td>\n",
       "      <td>480</td>\n",
       "    </tr>\n",
       "    <tr>\n",
       "      <th>1143</th>\n",
       "      <td>/media/andre/5161-4A93/ch05_20150308203728 - C...</td>\n",
       "      <td>mp4</td>\n",
       "      <td>NaN</td>\n",
       "      <td>30.0</td>\n",
       "      <td>704</td>\n",
       "      <td>480</td>\n",
       "    </tr>\n",
       "    <tr>\n",
       "      <th>1519</th>\n",
       "      <td>/media/andre/9B57-8640/WT6/WT6 day 15 (9).mp4</td>\n",
       "      <td>mp4</td>\n",
       "      <td>NaN</td>\n",
       "      <td>30.0</td>\n",
       "      <td>704</td>\n",
       "      <td>480</td>\n",
       "    </tr>\n",
       "  </tbody>\n",
       "</table>\n",
       "</div>"
      ],
      "text/plain": [
       "                                                   file filetype  frames  \\\n",
       "122   /media/andre/11D9-5C57/KO12 day 15/ch05_201503...      mp4     NaN   \n",
       "1143  /media/andre/5161-4A93/ch05_20150308203728 - C...      mp4     NaN   \n",
       "1519      /media/andre/9B57-8640/WT6/WT6 day 15 (9).mp4      mp4     NaN   \n",
       "\n",
       "       fps  width  height  \n",
       "122   30.0    704     480  \n",
       "1143  30.0    704     480  \n",
       "1519  30.0    704     480  "
      ]
     },
     "execution_count": 64,
     "metadata": {},
     "output_type": "execute_result"
    }
   ],
   "source": [
    "outlier_rows = metadata_df.frames < 0\n",
    "metadata_df.loc[outlier_rows, 'frames'] = None\n",
    "metadata_df.loc[outlier_rows]"
   ]
  },
  {
   "cell_type": "markdown",
   "metadata": {},
   "source": [
    "Great! we can get the total duration"
   ]
  },
  {
   "cell_type": "code",
   "execution_count": 65,
   "metadata": {},
   "outputs": [
    {
     "data": {
      "text/plain": [
       "13082190.523133334"
      ]
     },
     "execution_count": 65,
     "metadata": {},
     "output_type": "execute_result"
    }
   ],
   "source": [
    "(metadata_df.frames / metadata_df.fps).sum()"
   ]
  },
  {
   "cell_type": "markdown",
   "metadata": {},
   "source": [
    "In human language..."
   ]
  },
  {
   "cell_type": "code",
   "execution_count": 66,
   "metadata": {},
   "outputs": [
    {
     "name": "stdout",
     "output_type": "stream",
     "text": [
      "Total days of videos: 151.4\n"
     ]
    }
   ],
   "source": [
    "total_seconds = (metadata_df.frames / metadata_df.fps).sum()\n",
    "total_days = total_seconds / 60 / 60 / 24 # 60s->1m, 60m->1h, 24h->1d\n",
    "print(f\"Total days of videos: {total_days:.1f}\")"
   ]
  },
  {
   "cell_type": "markdown",
   "metadata": {},
   "source": [
    "Lets consider ourselves fortunate we're not going to score this manually. Scoring just a few hours of videos is a slow process already, scoring 151 days of video would probably take an entire PhD"
   ]
  },
  {
   "cell_type": "markdown",
   "metadata": {},
   "source": [
    "### Any other differences in size, etc?"
   ]
  },
  {
   "cell_type": "code",
   "execution_count": 67,
   "metadata": {},
   "outputs": [
    {
     "data": {
      "text/html": [
       "<div>\n",
       "<style scoped>\n",
       "    .dataframe tbody tr th:only-of-type {\n",
       "        vertical-align: middle;\n",
       "    }\n",
       "\n",
       "    .dataframe tbody tr th {\n",
       "        vertical-align: top;\n",
       "    }\n",
       "\n",
       "    .dataframe thead th {\n",
       "        text-align: right;\n",
       "    }\n",
       "</style>\n",
       "<table border=\"1\" class=\"dataframe\">\n",
       "  <thead>\n",
       "    <tr style=\"text-align: right;\">\n",
       "      <th></th>\n",
       "      <th>frames</th>\n",
       "      <th>fps</th>\n",
       "      <th>width</th>\n",
       "      <th>height</th>\n",
       "    </tr>\n",
       "  </thead>\n",
       "  <tbody>\n",
       "    <tr>\n",
       "      <th>count</th>\n",
       "      <td>1.913000e+03</td>\n",
       "      <td>1916.000000</td>\n",
       "      <td>1916.000000</td>\n",
       "      <td>1916.0</td>\n",
       "    </tr>\n",
       "    <tr>\n",
       "      <th>mean</th>\n",
       "      <td>2.051559e+05</td>\n",
       "      <td>29.999531</td>\n",
       "      <td>704.250522</td>\n",
       "      <td>480.0</td>\n",
       "    </tr>\n",
       "    <tr>\n",
       "      <th>std</th>\n",
       "      <td>1.025081e+05</td>\n",
       "      <td>0.003722</td>\n",
       "      <td>1.986869</td>\n",
       "      <td>0.0</td>\n",
       "    </tr>\n",
       "    <tr>\n",
       "      <th>min</th>\n",
       "      <td>1.620000e+02</td>\n",
       "      <td>29.970030</td>\n",
       "      <td>704.000000</td>\n",
       "      <td>480.0</td>\n",
       "    </tr>\n",
       "    <tr>\n",
       "      <th>25%</th>\n",
       "      <td>1.927070e+05</td>\n",
       "      <td>30.000000</td>\n",
       "      <td>704.000000</td>\n",
       "      <td>480.0</td>\n",
       "    </tr>\n",
       "    <tr>\n",
       "      <th>50%</th>\n",
       "      <td>1.927090e+05</td>\n",
       "      <td>30.000000</td>\n",
       "      <td>704.000000</td>\n",
       "      <td>480.0</td>\n",
       "    </tr>\n",
       "    <tr>\n",
       "      <th>75%</th>\n",
       "      <td>1.927380e+05</td>\n",
       "      <td>30.000000</td>\n",
       "      <td>704.000000</td>\n",
       "      <td>480.0</td>\n",
       "    </tr>\n",
       "    <tr>\n",
       "      <th>max</th>\n",
       "      <td>2.101409e+06</td>\n",
       "      <td>30.000000</td>\n",
       "      <td>720.000000</td>\n",
       "      <td>480.0</td>\n",
       "    </tr>\n",
       "  </tbody>\n",
       "</table>\n",
       "</div>"
      ],
      "text/plain": [
       "             frames          fps        width  height\n",
       "count  1.913000e+03  1916.000000  1916.000000  1916.0\n",
       "mean   2.051559e+05    29.999531   704.250522   480.0\n",
       "std    1.025081e+05     0.003722     1.986869     0.0\n",
       "min    1.620000e+02    29.970030   704.000000   480.0\n",
       "25%    1.927070e+05    30.000000   704.000000   480.0\n",
       "50%    1.927090e+05    30.000000   704.000000   480.0\n",
       "75%    1.927380e+05    30.000000   704.000000   480.0\n",
       "max    2.101409e+06    30.000000   720.000000   480.0"
      ]
     },
     "execution_count": 67,
     "metadata": {},
     "output_type": "execute_result"
    }
   ],
   "source": [
    "metadata_df.describe()"
   ]
  },
  {
   "cell_type": "markdown",
   "metadata": {},
   "source": [
    "All of the videos have exactly the same height, and pretty much the same fps. There are videos with different widths however. Lets see all of the widths."
   ]
  },
  {
   "cell_type": "code",
   "execution_count": 68,
   "metadata": {},
   "outputs": [
    {
     "data": {
      "text/plain": [
       "array([704, 720])"
      ]
     },
     "execution_count": 68,
     "metadata": {},
     "output_type": "execute_result"
    }
   ],
   "source": [
    "metadata_df.width.unique()"
   ]
  },
  {
   "cell_type": "markdown",
   "metadata": {},
   "source": [
    "Only two video widths, 704px and 720px. Lets see if these are from the two different filetypes `mp4` and `MPG`"
   ]
  },
  {
   "cell_type": "code",
   "execution_count": 69,
   "metadata": {},
   "outputs": [
    {
     "data": {
      "text/html": [
       "<div>\n",
       "<style scoped>\n",
       "    .dataframe tbody tr th:only-of-type {\n",
       "        vertical-align: middle;\n",
       "    }\n",
       "\n",
       "    .dataframe tbody tr th {\n",
       "        vertical-align: top;\n",
       "    }\n",
       "\n",
       "    .dataframe thead th {\n",
       "        text-align: right;\n",
       "    }\n",
       "</style>\n",
       "<table border=\"1\" class=\"dataframe\">\n",
       "  <thead>\n",
       "    <tr style=\"text-align: right;\">\n",
       "      <th></th>\n",
       "      <th>frames</th>\n",
       "      <th>fps</th>\n",
       "      <th>width</th>\n",
       "      <th>height</th>\n",
       "    </tr>\n",
       "  </thead>\n",
       "  <tbody>\n",
       "    <tr>\n",
       "      <th>count</th>\n",
       "      <td>1.883000e+03</td>\n",
       "      <td>1886.0</td>\n",
       "      <td>1886.0</td>\n",
       "      <td>1886.0</td>\n",
       "    </tr>\n",
       "    <tr>\n",
       "      <th>mean</th>\n",
       "      <td>2.071501e+05</td>\n",
       "      <td>30.0</td>\n",
       "      <td>704.0</td>\n",
       "      <td>480.0</td>\n",
       "    </tr>\n",
       "    <tr>\n",
       "      <th>std</th>\n",
       "      <td>1.020346e+05</td>\n",
       "      <td>0.0</td>\n",
       "      <td>0.0</td>\n",
       "      <td>0.0</td>\n",
       "    </tr>\n",
       "    <tr>\n",
       "      <th>min</th>\n",
       "      <td>1.620000e+02</td>\n",
       "      <td>30.0</td>\n",
       "      <td>704.0</td>\n",
       "      <td>480.0</td>\n",
       "    </tr>\n",
       "    <tr>\n",
       "      <th>25%</th>\n",
       "      <td>1.927070e+05</td>\n",
       "      <td>30.0</td>\n",
       "      <td>704.0</td>\n",
       "      <td>480.0</td>\n",
       "    </tr>\n",
       "    <tr>\n",
       "      <th>50%</th>\n",
       "      <td>1.927090e+05</td>\n",
       "      <td>30.0</td>\n",
       "      <td>704.0</td>\n",
       "      <td>480.0</td>\n",
       "    </tr>\n",
       "    <tr>\n",
       "      <th>75%</th>\n",
       "      <td>1.927380e+05</td>\n",
       "      <td>30.0</td>\n",
       "      <td>704.0</td>\n",
       "      <td>480.0</td>\n",
       "    </tr>\n",
       "    <tr>\n",
       "      <th>max</th>\n",
       "      <td>2.101409e+06</td>\n",
       "      <td>30.0</td>\n",
       "      <td>704.0</td>\n",
       "      <td>480.0</td>\n",
       "    </tr>\n",
       "  </tbody>\n",
       "</table>\n",
       "</div>"
      ],
      "text/plain": [
       "             frames     fps   width  height\n",
       "count  1.883000e+03  1886.0  1886.0  1886.0\n",
       "mean   2.071501e+05    30.0   704.0   480.0\n",
       "std    1.020346e+05     0.0     0.0     0.0\n",
       "min    1.620000e+02    30.0   704.0   480.0\n",
       "25%    1.927070e+05    30.0   704.0   480.0\n",
       "50%    1.927090e+05    30.0   704.0   480.0\n",
       "75%    1.927380e+05    30.0   704.0   480.0\n",
       "max    2.101409e+06    30.0   704.0   480.0"
      ]
     },
     "execution_count": 69,
     "metadata": {},
     "output_type": "execute_result"
    }
   ],
   "source": [
    "metadata_df.loc[metadata_df.width==704].describe()"
   ]
  },
  {
   "cell_type": "code",
   "execution_count": 70,
   "metadata": {},
   "outputs": [
    {
     "data": {
      "text/html": [
       "<div>\n",
       "<style scoped>\n",
       "    .dataframe tbody tr th:only-of-type {\n",
       "        vertical-align: middle;\n",
       "    }\n",
       "\n",
       "    .dataframe tbody tr th {\n",
       "        vertical-align: top;\n",
       "    }\n",
       "\n",
       "    .dataframe thead th {\n",
       "        text-align: right;\n",
       "    }\n",
       "</style>\n",
       "<table border=\"1\" class=\"dataframe\">\n",
       "  <thead>\n",
       "    <tr style=\"text-align: right;\">\n",
       "      <th></th>\n",
       "      <th>file</th>\n",
       "      <th>filetype</th>\n",
       "      <th>frames</th>\n",
       "      <th>fps</th>\n",
       "      <th>width</th>\n",
       "      <th>height</th>\n",
       "    </tr>\n",
       "  </thead>\n",
       "  <tbody>\n",
       "    <tr>\n",
       "      <th>1777</th>\n",
       "      <td>/media/andre/9B57-8640/SACHIN/KO14 Day 15 by t...</td>\n",
       "      <td>mp4</td>\n",
       "      <td>192708.0</td>\n",
       "      <td>30.0</td>\n",
       "      <td>704</td>\n",
       "      <td>480</td>\n",
       "    </tr>\n",
       "    <tr>\n",
       "      <th>881</th>\n",
       "      <td>/media/andre/11D9-5C57/KO15 day 15/KO15 day 15...</td>\n",
       "      <td>mp4</td>\n",
       "      <td>192737.0</td>\n",
       "      <td>30.0</td>\n",
       "      <td>704</td>\n",
       "      <td>480</td>\n",
       "    </tr>\n",
       "    <tr>\n",
       "      <th>1046</th>\n",
       "      <td>/media/andre/5161-4A93/ch05_20150308080749.mp4</td>\n",
       "      <td>mp4</td>\n",
       "      <td>192707.0</td>\n",
       "      <td>30.0</td>\n",
       "      <td>704</td>\n",
       "      <td>480</td>\n",
       "    </tr>\n",
       "  </tbody>\n",
       "</table>\n",
       "</div>"
      ],
      "text/plain": [
       "                                                   file filetype    frames  \\\n",
       "1777  /media/andre/9B57-8640/SACHIN/KO14 Day 15 by t...      mp4  192708.0   \n",
       "881   /media/andre/11D9-5C57/KO15 day 15/KO15 day 15...      mp4  192737.0   \n",
       "1046     /media/andre/5161-4A93/ch05_20150308080749.mp4      mp4  192707.0   \n",
       "\n",
       "       fps  width  height  \n",
       "1777  30.0    704     480  \n",
       "881   30.0    704     480  \n",
       "1046  30.0    704     480  "
      ]
     },
     "execution_count": 70,
     "metadata": {},
     "output_type": "execute_result"
    }
   ],
   "source": [
    "metadata_df.loc[metadata_df.width==704].sample(3)"
   ]
  },
  {
   "cell_type": "code",
   "execution_count": 71,
   "metadata": {},
   "outputs": [
    {
     "data": {
      "text/html": [
       "<div>\n",
       "<style scoped>\n",
       "    .dataframe tbody tr th:only-of-type {\n",
       "        vertical-align: middle;\n",
       "    }\n",
       "\n",
       "    .dataframe tbody tr th {\n",
       "        vertical-align: top;\n",
       "    }\n",
       "\n",
       "    .dataframe thead th {\n",
       "        text-align: right;\n",
       "    }\n",
       "</style>\n",
       "<table border=\"1\" class=\"dataframe\">\n",
       "  <thead>\n",
       "    <tr style=\"text-align: right;\">\n",
       "      <th></th>\n",
       "      <th>frames</th>\n",
       "      <th>fps</th>\n",
       "      <th>width</th>\n",
       "      <th>height</th>\n",
       "    </tr>\n",
       "  </thead>\n",
       "  <tbody>\n",
       "    <tr>\n",
       "      <th>count</th>\n",
       "      <td>30.000000</td>\n",
       "      <td>3.000000e+01</td>\n",
       "      <td>30.0</td>\n",
       "      <td>30.0</td>\n",
       "    </tr>\n",
       "    <tr>\n",
       "      <th>mean</th>\n",
       "      <td>79989.800000</td>\n",
       "      <td>2.997003e+01</td>\n",
       "      <td>720.0</td>\n",
       "      <td>480.0</td>\n",
       "    </tr>\n",
       "    <tr>\n",
       "      <th>std</th>\n",
       "      <td>26287.615716</td>\n",
       "      <td>7.226896e-15</td>\n",
       "      <td>0.0</td>\n",
       "      <td>0.0</td>\n",
       "    </tr>\n",
       "    <tr>\n",
       "      <th>min</th>\n",
       "      <td>3221.000000</td>\n",
       "      <td>2.997003e+01</td>\n",
       "      <td>720.0</td>\n",
       "      <td>480.0</td>\n",
       "    </tr>\n",
       "    <tr>\n",
       "      <th>25%</th>\n",
       "      <td>80380.250000</td>\n",
       "      <td>2.997003e+01</td>\n",
       "      <td>720.0</td>\n",
       "      <td>480.0</td>\n",
       "    </tr>\n",
       "    <tr>\n",
       "      <th>50%</th>\n",
       "      <td>94297.500000</td>\n",
       "      <td>2.997003e+01</td>\n",
       "      <td>720.0</td>\n",
       "      <td>480.0</td>\n",
       "    </tr>\n",
       "    <tr>\n",
       "      <th>75%</th>\n",
       "      <td>94458.000000</td>\n",
       "      <td>2.997003e+01</td>\n",
       "      <td>720.0</td>\n",
       "      <td>480.0</td>\n",
       "    </tr>\n",
       "    <tr>\n",
       "      <th>max</th>\n",
       "      <td>94561.000000</td>\n",
       "      <td>2.997003e+01</td>\n",
       "      <td>720.0</td>\n",
       "      <td>480.0</td>\n",
       "    </tr>\n",
       "  </tbody>\n",
       "</table>\n",
       "</div>"
      ],
      "text/plain": [
       "             frames           fps  width  height\n",
       "count     30.000000  3.000000e+01   30.0    30.0\n",
       "mean   79989.800000  2.997003e+01  720.0   480.0\n",
       "std    26287.615716  7.226896e-15    0.0     0.0\n",
       "min     3221.000000  2.997003e+01  720.0   480.0\n",
       "25%    80380.250000  2.997003e+01  720.0   480.0\n",
       "50%    94297.500000  2.997003e+01  720.0   480.0\n",
       "75%    94458.000000  2.997003e+01  720.0   480.0\n",
       "max    94561.000000  2.997003e+01  720.0   480.0"
      ]
     },
     "execution_count": 71,
     "metadata": {},
     "output_type": "execute_result"
    }
   ],
   "source": [
    "metadata_df.loc[metadata_df.width==720].describe()"
   ]
  },
  {
   "cell_type": "code",
   "execution_count": 72,
   "metadata": {},
   "outputs": [
    {
     "data": {
      "text/html": [
       "<div>\n",
       "<style scoped>\n",
       "    .dataframe tbody tr th:only-of-type {\n",
       "        vertical-align: middle;\n",
       "    }\n",
       "\n",
       "    .dataframe tbody tr th {\n",
       "        vertical-align: top;\n",
       "    }\n",
       "\n",
       "    .dataframe thead th {\n",
       "        text-align: right;\n",
       "    }\n",
       "</style>\n",
       "<table border=\"1\" class=\"dataframe\">\n",
       "  <thead>\n",
       "    <tr style=\"text-align: right;\">\n",
       "      <th></th>\n",
       "      <th>file</th>\n",
       "      <th>filetype</th>\n",
       "      <th>frames</th>\n",
       "      <th>fps</th>\n",
       "      <th>width</th>\n",
       "      <th>height</th>\n",
       "    </tr>\n",
       "  </thead>\n",
       "  <tbody>\n",
       "    <tr>\n",
       "      <th>1889</th>\n",
       "      <td>/media/andre/9B57-8640/AVIDEOS/M2U00174.MPG</td>\n",
       "      <td>MPG</td>\n",
       "      <td>94226.0</td>\n",
       "      <td>29.97003</td>\n",
       "      <td>720</td>\n",
       "      <td>480</td>\n",
       "    </tr>\n",
       "    <tr>\n",
       "      <th>1897</th>\n",
       "      <td>/media/andre/9B57-8640/AVIDEOS/M2U00182.MPG</td>\n",
       "      <td>MPG</td>\n",
       "      <td>33790.0</td>\n",
       "      <td>29.97003</td>\n",
       "      <td>720</td>\n",
       "      <td>480</td>\n",
       "    </tr>\n",
       "    <tr>\n",
       "      <th>1901</th>\n",
       "      <td>/media/andre/9B57-8640/AVIDEOS/M2U00186.MPG</td>\n",
       "      <td>MPG</td>\n",
       "      <td>45371.0</td>\n",
       "      <td>29.97003</td>\n",
       "      <td>720</td>\n",
       "      <td>480</td>\n",
       "    </tr>\n",
       "  </tbody>\n",
       "</table>\n",
       "</div>"
      ],
      "text/plain": [
       "                                             file filetype   frames       fps  \\\n",
       "1889  /media/andre/9B57-8640/AVIDEOS/M2U00174.MPG      MPG  94226.0  29.97003   \n",
       "1897  /media/andre/9B57-8640/AVIDEOS/M2U00182.MPG      MPG  33790.0  29.97003   \n",
       "1901  /media/andre/9B57-8640/AVIDEOS/M2U00186.MPG      MPG  45371.0  29.97003   \n",
       "\n",
       "      width  height  \n",
       "1889    720     480  \n",
       "1897    720     480  \n",
       "1901    720     480  "
      ]
     },
     "execution_count": 72,
     "metadata": {},
     "output_type": "execute_result"
    }
   ],
   "source": [
    "metadata_df.loc[metadata_df.width==720].sample(3)"
   ]
  },
  {
   "cell_type": "markdown",
   "metadata": {},
   "source": [
    "Yep! At a glance it looks like the mp4 files have a width of 704 and all of the MPG files have a width of 720.\n",
    "\n",
    "I'm pretty satisfied with understanding the videos at this point. The differences in videos appear minor, likely due to a camera change. We also know that when we finish transcoding we expect our new videos to have a total duration of about 13082190 seconds.\n",
    "\n",
    "We also identified a few videos that may be damaged which we can manually check over later."
   ]
  },
  {
   "cell_type": "markdown",
   "metadata": {},
   "source": [
    "## 3. Transcoding the videos"
   ]
  },
  {
   "cell_type": "code",
   "execution_count": 73,
   "metadata": {},
   "outputs": [
    {
     "name": "stdout",
     "output_type": "stream",
     "text": [
      "We're not going to reorganize our 1916 videos here.\n"
     ]
    }
   ],
   "source": [
    "print(f\"We're not going to reorganize our {len(all_videos)} videos here.\")"
   ]
  },
  {
   "cell_type": "markdown",
   "metadata": {},
   "source": [
    "Instead we'll just transcode them over in their original structure for now. The transcoded videos will still be smaller, and we can safely manually reorganize them without risking losing anything since we still have the originals."
   ]
  },
  {
   "cell_type": "markdown",
   "metadata": {},
   "source": [
    "### Creating a bash file for long runs"
   ]
  },
  {
   "cell_type": "markdown",
   "metadata": {},
   "source": [
    "The following script generates a bash file that can be run to transcode all of the files\n",
    "\n",
    "The tool we use to actually do the transcoding is called ffmpeg. It's very versatile, and has way too many options to learn all of them, so you can search up what you need when you need them.\n",
    "\n",
    "ffmpeg commands don't have to be complicated, a simple one would be \n",
    "```bash\n",
    "ffmpeg -i <your-input-file> <your-output-file>\n",
    "```\n",
    "\n",
    "We can do things like resizing the video or changing quality, in the below command I decrease the video quality slightly using `-crf 24`. This should shrinkg their size a lot."
   ]
  },
  {
   "cell_type": "code",
   "execution_count": 74,
   "metadata": {},
   "outputs": [],
   "source": [
    "with open('transcode.sh', 'w') as fp:\n",
    "    lines = []\n",
    "    for video in all_videos:\n",
    "        relative_path = video.relative_to(MOUNT_POINT)\n",
    "        output_filepath = OUTPUT_DRIVE / relative_path\n",
    "    \n",
    "        cmd = (\n",
    "            \"mkdir -p {} &&\" # make a new directory if necessary\n",
    "            \"ffmpeg -y -hwaccel cuda -hwaccel_output_format cuda -extra_hw_frames 4 -i '{}' \" # the input file and flags\n",
    "            \"-c:v h264_nvenc -crf 24 '{}'\\n\" # the output file and flags\n",
    "        ).format(output_filepath.parent, video, output_filepath)\n",
    "        \n",
    "        lines.append(cmd)\n",
    "        \n",
    "    fp.writelines(lines)"
   ]
  },
  {
   "cell_type": "markdown",
   "metadata": {},
   "source": [
    "This is what the bash file looks like (but a lot more lines)"
   ]
  },
  {
   "cell_type": "code",
   "execution_count": 75,
   "metadata": {},
   "outputs": [
    {
     "name": "stdout",
     "output_type": "stream",
     "text": [
      "mkdir -p /media/andre/maternal/11D9-5C57 &&ffmpeg -y -hwaccel cuda -hwaccel_output_format cuda -extra_hw_frames 4 -i '/media/andre/11D9-5C57/ch04_20141026223910.mp4' -c:v h264_nvenc -crf 24 '/media/andre/maternal/11D9-5C57/ch04_20141026223910.mp4'\n",
      "mkdir -p /media/andre/maternal/11D9-5C57 &&ffmpeg -y -hwaccel cuda -hwaccel_output_format cuda -extra_hw_frames 4 -i '/media/andre/11D9-5C57/ch04_20141027002615.mp4' -c:v h264_nvenc -crf 24 '/media/andre/maternal/11D9-5C57/ch04_20141027002615.mp4'\n",
      "mkdir -p /media/andre/maternal/11D9-5C57 &&ffmpeg -y -hwaccel cuda -hwaccel_output_format cuda -extra_hw_frames 4 -i '/media/andre/11D9-5C57/ch04_20141027021320.mp4' -c:v h264_nvenc -crf 24 '/media/andre/maternal/11D9-5C57/ch04_20141027021320.mp4'\n"
     ]
    }
   ],
   "source": [
    "! head -n 3 transcode.sh"
   ]
  },
  {
   "cell_type": "markdown",
   "metadata": {},
   "source": [
    "I've now started running this bash script. I'll see you in a few days!"
   ]
  },
  {
   "cell_type": "markdown",
   "metadata": {},
   "source": [
    "### Veriftying videos\n",
    "... Well, I'm a bit impatient, so I'm not going to wait a few days. Let's check to see how things are going after an hour.\n",
    "\n",
    "Note we expect one video to not match/be readable as the bash script is still running and transcoding away as I write this."
   ]
  },
  {
   "cell_type": "code",
   "execution_count": 76,
   "metadata": {},
   "outputs": [
    {
     "name": "stderr",
     "output_type": "stream",
     "text": [
      "100%|██████████| 22/22 [00:02<00:00, 10.84it/s]\n"
     ]
    },
    {
     "data": {
      "text/html": [
       "<div>\n",
       "<style scoped>\n",
       "    .dataframe tbody tr th:only-of-type {\n",
       "        vertical-align: middle;\n",
       "    }\n",
       "\n",
       "    .dataframe tbody tr th {\n",
       "        vertical-align: top;\n",
       "    }\n",
       "\n",
       "    .dataframe thead th {\n",
       "        text-align: right;\n",
       "    }\n",
       "</style>\n",
       "<table border=\"1\" class=\"dataframe\">\n",
       "  <thead>\n",
       "    <tr style=\"text-align: right;\">\n",
       "      <th></th>\n",
       "      <th>file</th>\n",
       "      <th>transcoded_file</th>\n",
       "      <th>frames</th>\n",
       "      <th>transcoded_frames</th>\n",
       "      <th>filesize_mb</th>\n",
       "      <th>transcoded_filesize_mb</th>\n",
       "    </tr>\n",
       "  </thead>\n",
       "  <tbody>\n",
       "    <tr>\n",
       "      <th>0</th>\n",
       "      <td>/media/andre/11D9-5C57/ch04_20141026223910.mp4</td>\n",
       "      <td>/media/andre/maternal/11D9-5C57/ch04_201410262...</td>\n",
       "      <td>192676</td>\n",
       "      <td>192485</td>\n",
       "      <td>1066.0</td>\n",
       "      <td>320.0</td>\n",
       "    </tr>\n",
       "    <tr>\n",
       "      <th>1</th>\n",
       "      <td>/media/andre/11D9-5C57/ch04_20141027002615.mp4</td>\n",
       "      <td>/media/andre/maternal/11D9-5C57/ch04_201410270...</td>\n",
       "      <td>192706</td>\n",
       "      <td>192515</td>\n",
       "      <td>1066.2</td>\n",
       "      <td>332.7</td>\n",
       "    </tr>\n",
       "    <tr>\n",
       "      <th>2</th>\n",
       "      <td>/media/andre/11D9-5C57/ch04_20141027021320.mp4</td>\n",
       "      <td>/media/andre/maternal/11D9-5C57/ch04_201410270...</td>\n",
       "      <td>192706</td>\n",
       "      <td>192515</td>\n",
       "      <td>1066.2</td>\n",
       "      <td>245.2</td>\n",
       "    </tr>\n",
       "    <tr>\n",
       "      <th>3</th>\n",
       "      <td>/media/andre/11D9-5C57/ch04_20141027040025.mp4</td>\n",
       "      <td>/media/andre/maternal/11D9-5C57/ch04_201410270...</td>\n",
       "      <td>192708</td>\n",
       "      <td>192517</td>\n",
       "      <td>1066.2</td>\n",
       "      <td>266.4</td>\n",
       "    </tr>\n",
       "    <tr>\n",
       "      <th>4</th>\n",
       "      <td>/media/andre/11D9-5C57/ch04_20141027054731.mp4</td>\n",
       "      <td>/media/andre/maternal/11D9-5C57/ch04_201410270...</td>\n",
       "      <td>192736</td>\n",
       "      <td>192545</td>\n",
       "      <td>1066.3</td>\n",
       "      <td>252.6</td>\n",
       "    </tr>\n",
       "    <tr>\n",
       "      <th>5</th>\n",
       "      <td>/media/andre/11D9-5C57/ch04_20141027073438.mp4</td>\n",
       "      <td>/media/andre/maternal/11D9-5C57/ch04_201410270...</td>\n",
       "      <td>57074</td>\n",
       "      <td>57019</td>\n",
       "      <td>315.8</td>\n",
       "      <td>220.9</td>\n",
       "    </tr>\n",
       "    <tr>\n",
       "      <th>6</th>\n",
       "      <td>/media/andre/11D9-5C57/ch07_20141029182333.mp4</td>\n",
       "      <td>/media/andre/maternal/11D9-5C57/ch07_201410291...</td>\n",
       "      <td>55063</td>\n",
       "      <td>55010</td>\n",
       "      <td>304.6</td>\n",
       "      <td>458.9</td>\n",
       "    </tr>\n",
       "    <tr>\n",
       "      <th>7</th>\n",
       "      <td>/media/andre/11D9-5C57/ch07_20141029185404.mp4</td>\n",
       "      <td>/media/andre/maternal/11D9-5C57/ch07_201410291...</td>\n",
       "      <td>192710</td>\n",
       "      <td>192519</td>\n",
       "      <td>1066.1</td>\n",
       "      <td>1320.8</td>\n",
       "    </tr>\n",
       "    <tr>\n",
       "      <th>8</th>\n",
       "      <td>/media/andre/11D9-5C57/ch07_20141029204109.mp4</td>\n",
       "      <td>/media/andre/maternal/11D9-5C57/ch07_201410292...</td>\n",
       "      <td>192738</td>\n",
       "      <td>192547</td>\n",
       "      <td>1066.2</td>\n",
       "      <td>964.4</td>\n",
       "    </tr>\n",
       "    <tr>\n",
       "      <th>9</th>\n",
       "      <td>/media/andre/11D9-5C57/ch07_20141029222816.mp4</td>\n",
       "      <td>/media/andre/maternal/11D9-5C57/ch07_201410292...</td>\n",
       "      <td>192708</td>\n",
       "      <td>192517</td>\n",
       "      <td>1066.1</td>\n",
       "      <td>1049.6</td>\n",
       "    </tr>\n",
       "    <tr>\n",
       "      <th>10</th>\n",
       "      <td>/media/andre/11D9-5C57/ch07_20141030001521.mp4</td>\n",
       "      <td>/media/andre/maternal/11D9-5C57/ch07_201410300...</td>\n",
       "      <td>192707</td>\n",
       "      <td>192516</td>\n",
       "      <td>1066.1</td>\n",
       "      <td>665.0</td>\n",
       "    </tr>\n",
       "    <tr>\n",
       "      <th>11</th>\n",
       "      <td>/media/andre/11D9-5C57/ch07_20141030020226.mp4</td>\n",
       "      <td>/media/andre/maternal/11D9-5C57/ch07_201410300...</td>\n",
       "      <td>192708</td>\n",
       "      <td>192517</td>\n",
       "      <td>1066.1</td>\n",
       "      <td>970.4</td>\n",
       "    </tr>\n",
       "    <tr>\n",
       "      <th>12</th>\n",
       "      <td>/media/andre/11D9-5C57/ch07_20141030034933.mp4</td>\n",
       "      <td>/media/andre/maternal/11D9-5C57/ch07_201410300...</td>\n",
       "      <td>192708</td>\n",
       "      <td>192517</td>\n",
       "      <td>1066.1</td>\n",
       "      <td>636.3</td>\n",
       "    </tr>\n",
       "    <tr>\n",
       "      <th>13</th>\n",
       "      <td>/media/andre/11D9-5C57/ch07_20141030053638.mp4</td>\n",
       "      <td>/media/andre/maternal/11D9-5C57/ch07_201410300...</td>\n",
       "      <td>192709</td>\n",
       "      <td>192518</td>\n",
       "      <td>1066.1</td>\n",
       "      <td>1011.5</td>\n",
       "    </tr>\n",
       "    <tr>\n",
       "      <th>14</th>\n",
       "      <td>/media/andre/11D9-5C57/ch07_20141030072343.mp4</td>\n",
       "      <td>/media/andre/maternal/11D9-5C57/ch07_201410300...</td>\n",
       "      <td>192710</td>\n",
       "      <td>192519</td>\n",
       "      <td>1066.1</td>\n",
       "      <td>1535.3</td>\n",
       "    </tr>\n",
       "    <tr>\n",
       "      <th>15</th>\n",
       "      <td>/media/andre/11D9-5C57/ch07_20141030091049.mp4</td>\n",
       "      <td>/media/andre/maternal/11D9-5C57/ch07_201410300...</td>\n",
       "      <td>192739</td>\n",
       "      <td>192548</td>\n",
       "      <td>1066.3</td>\n",
       "      <td>1363.7</td>\n",
       "    </tr>\n",
       "    <tr>\n",
       "      <th>16</th>\n",
       "      <td>/media/andre/11D9-5C57/ch07_20141030105756.mp4</td>\n",
       "      <td>/media/andre/maternal/11D9-5C57/ch07_201410301...</td>\n",
       "      <td>192738</td>\n",
       "      <td>192547</td>\n",
       "      <td>1066.3</td>\n",
       "      <td>1528.8</td>\n",
       "    </tr>\n",
       "    <tr>\n",
       "      <th>17</th>\n",
       "      <td>/media/andre/11D9-5C57/ch07_20141030124501.mp4</td>\n",
       "      <td>/media/andre/maternal/11D9-5C57/ch07_201410301...</td>\n",
       "      <td>192740</td>\n",
       "      <td>192549</td>\n",
       "      <td>1066.3</td>\n",
       "      <td>1104.8</td>\n",
       "    </tr>\n",
       "    <tr>\n",
       "      <th>18</th>\n",
       "      <td>/media/andre/11D9-5C57/ch07_20141030143208.mp4</td>\n",
       "      <td>/media/andre/maternal/11D9-5C57/ch07_201410301...</td>\n",
       "      <td>192740</td>\n",
       "      <td>192549</td>\n",
       "      <td>1066.3</td>\n",
       "      <td>1158.0</td>\n",
       "    </tr>\n",
       "    <tr>\n",
       "      <th>19</th>\n",
       "      <td>/media/andre/11D9-5C57/ch07_20141030161915.mp4</td>\n",
       "      <td>/media/andre/maternal/11D9-5C57/ch07_201410301...</td>\n",
       "      <td>192707</td>\n",
       "      <td>192517</td>\n",
       "      <td>1066.1</td>\n",
       "      <td>1440.1</td>\n",
       "    </tr>\n",
       "    <tr>\n",
       "      <th>20</th>\n",
       "      <td>/media/andre/11D9-5C57/ch07_20141030180620.mp4</td>\n",
       "      <td>/media/andre/maternal/11D9-5C57/ch07_201410301...</td>\n",
       "      <td>192708</td>\n",
       "      <td>192517</td>\n",
       "      <td>1066.1</td>\n",
       "      <td>1326.7</td>\n",
       "    </tr>\n",
       "    <tr>\n",
       "      <th>21</th>\n",
       "      <td>/media/andre/11D9-5C57/ch07_20141030195326.mp4</td>\n",
       "      <td>/media/andre/maternal/11D9-5C57/ch07_201410301...</td>\n",
       "      <td>192710</td>\n",
       "      <td>0</td>\n",
       "      <td>1066.1</td>\n",
       "      <td>107.0</td>\n",
       "    </tr>\n",
       "  </tbody>\n",
       "</table>\n",
       "</div>"
      ],
      "text/plain": [
       "                                              file  \\\n",
       "0   /media/andre/11D9-5C57/ch04_20141026223910.mp4   \n",
       "1   /media/andre/11D9-5C57/ch04_20141027002615.mp4   \n",
       "2   /media/andre/11D9-5C57/ch04_20141027021320.mp4   \n",
       "3   /media/andre/11D9-5C57/ch04_20141027040025.mp4   \n",
       "4   /media/andre/11D9-5C57/ch04_20141027054731.mp4   \n",
       "5   /media/andre/11D9-5C57/ch04_20141027073438.mp4   \n",
       "6   /media/andre/11D9-5C57/ch07_20141029182333.mp4   \n",
       "7   /media/andre/11D9-5C57/ch07_20141029185404.mp4   \n",
       "8   /media/andre/11D9-5C57/ch07_20141029204109.mp4   \n",
       "9   /media/andre/11D9-5C57/ch07_20141029222816.mp4   \n",
       "10  /media/andre/11D9-5C57/ch07_20141030001521.mp4   \n",
       "11  /media/andre/11D9-5C57/ch07_20141030020226.mp4   \n",
       "12  /media/andre/11D9-5C57/ch07_20141030034933.mp4   \n",
       "13  /media/andre/11D9-5C57/ch07_20141030053638.mp4   \n",
       "14  /media/andre/11D9-5C57/ch07_20141030072343.mp4   \n",
       "15  /media/andre/11D9-5C57/ch07_20141030091049.mp4   \n",
       "16  /media/andre/11D9-5C57/ch07_20141030105756.mp4   \n",
       "17  /media/andre/11D9-5C57/ch07_20141030124501.mp4   \n",
       "18  /media/andre/11D9-5C57/ch07_20141030143208.mp4   \n",
       "19  /media/andre/11D9-5C57/ch07_20141030161915.mp4   \n",
       "20  /media/andre/11D9-5C57/ch07_20141030180620.mp4   \n",
       "21  /media/andre/11D9-5C57/ch07_20141030195326.mp4   \n",
       "\n",
       "                                      transcoded_file  frames  \\\n",
       "0   /media/andre/maternal/11D9-5C57/ch04_201410262...  192676   \n",
       "1   /media/andre/maternal/11D9-5C57/ch04_201410270...  192706   \n",
       "2   /media/andre/maternal/11D9-5C57/ch04_201410270...  192706   \n",
       "3   /media/andre/maternal/11D9-5C57/ch04_201410270...  192708   \n",
       "4   /media/andre/maternal/11D9-5C57/ch04_201410270...  192736   \n",
       "5   /media/andre/maternal/11D9-5C57/ch04_201410270...   57074   \n",
       "6   /media/andre/maternal/11D9-5C57/ch07_201410291...   55063   \n",
       "7   /media/andre/maternal/11D9-5C57/ch07_201410291...  192710   \n",
       "8   /media/andre/maternal/11D9-5C57/ch07_201410292...  192738   \n",
       "9   /media/andre/maternal/11D9-5C57/ch07_201410292...  192708   \n",
       "10  /media/andre/maternal/11D9-5C57/ch07_201410300...  192707   \n",
       "11  /media/andre/maternal/11D9-5C57/ch07_201410300...  192708   \n",
       "12  /media/andre/maternal/11D9-5C57/ch07_201410300...  192708   \n",
       "13  /media/andre/maternal/11D9-5C57/ch07_201410300...  192709   \n",
       "14  /media/andre/maternal/11D9-5C57/ch07_201410300...  192710   \n",
       "15  /media/andre/maternal/11D9-5C57/ch07_201410300...  192739   \n",
       "16  /media/andre/maternal/11D9-5C57/ch07_201410301...  192738   \n",
       "17  /media/andre/maternal/11D9-5C57/ch07_201410301...  192740   \n",
       "18  /media/andre/maternal/11D9-5C57/ch07_201410301...  192740   \n",
       "19  /media/andre/maternal/11D9-5C57/ch07_201410301...  192707   \n",
       "20  /media/andre/maternal/11D9-5C57/ch07_201410301...  192708   \n",
       "21  /media/andre/maternal/11D9-5C57/ch07_201410301...  192710   \n",
       "\n",
       "    transcoded_frames  filesize_mb  transcoded_filesize_mb  \n",
       "0              192485       1066.0                   320.0  \n",
       "1              192515       1066.2                   332.7  \n",
       "2              192515       1066.2                   245.2  \n",
       "3              192517       1066.2                   266.4  \n",
       "4              192545       1066.3                   252.6  \n",
       "5               57019        315.8                   220.9  \n",
       "6               55010        304.6                   458.9  \n",
       "7              192519       1066.1                  1320.8  \n",
       "8              192547       1066.2                   964.4  \n",
       "9              192517       1066.1                  1049.6  \n",
       "10             192516       1066.1                   665.0  \n",
       "11             192517       1066.1                   970.4  \n",
       "12             192517       1066.1                   636.3  \n",
       "13             192518       1066.1                  1011.5  \n",
       "14             192519       1066.1                  1535.3  \n",
       "15             192548       1066.3                  1363.7  \n",
       "16             192547       1066.3                  1528.8  \n",
       "17             192549       1066.3                  1104.8  \n",
       "18             192549       1066.3                  1158.0  \n",
       "19             192517       1066.1                  1440.1  \n",
       "20             192517       1066.1                  1326.7  \n",
       "21                  0       1066.1                   107.0  "
      ]
     },
     "execution_count": 76,
     "metadata": {},
     "output_type": "execute_result"
    }
   ],
   "source": [
    "transcoded_videos = (\n",
    "    list(OUTPUT_DRIVE.glob('**/*.mp4')) + \n",
    "    list(OUTPUT_DRIVE.glob('**/*.MPG'))\n",
    ")\n",
    "\n",
    "metadata = []\n",
    "for transcoded_video in tqdm(transcoded_videos):\n",
    "    relative_path = transcoded_video.relative_to(OUTPUT_DRIVE)\n",
    "    original_video = MOUNT_POINT / relative_path\n",
    "    \n",
    "    original_cap = cv2.VideoCapture(str(original_video))\n",
    "    transcoded_cap = cv2.VideoCapture(str(transcoded_video))\n",
    "    \n",
    "    _metadata = {\n",
    "        'file': original_video,\n",
    "        'transcoded_file': transcoded_video,\n",
    "        'frames': int(original_cap.get(cv2.CAP_PROP_FRAME_COUNT)),\n",
    "        'transcoded_frames': int(transcoded_cap.get(cv2.CAP_PROP_FRAME_COUNT)),\n",
    "        'filesize_mb': round(original_video.stat().st_size / 1e6, 1), \n",
    "        'transcoded_filesize_mb': round(transcoded_video.stat().st_size / 1e6, 1), \n",
    "    }\n",
    "    metadata.append(_metadata)\n",
    "    \n",
    "transcoded_metadata_df = pd.DataFrame(metadata)\n",
    "transcoded_metadata_df"
   ]
  },
  {
   "cell_type": "markdown",
   "metadata": {},
   "source": [
    "#### Quality checks"
   ]
  },
  {
   "cell_type": "markdown",
   "metadata": {},
   "source": [
    "##### Extracting individual frames"
   ]
  },
  {
   "cell_type": "code",
   "execution_count": null,
   "metadata": {},
   "outputs": [],
   "source": []
  },
  {
   "cell_type": "markdown",
   "metadata": {},
   "source": [
    "#### Stacking videos\n",
    "\n",
    "```\n",
    "ffmpeg -i original.mp4 -i transcoded.mp4 -filter_complex vstack=inputs=2 stacked-view.mp4\n",
    "```"
   ]
  }
 ],
 "metadata": {
  "interpreter": {
   "hash": "8abf625e542ff33194dd4502f291ce11b7bf8daed732e6d5f31b5a030b27ce17"
  },
  "kernelspec": {
   "display_name": "Python 3.9.5 ('base')",
   "language": "python",
   "name": "python3"
  },
  "language_info": {
   "codemirror_mode": {
    "name": "ipython",
    "version": 3
   },
   "file_extension": ".py",
   "mimetype": "text/x-python",
   "name": "python",
   "nbconvert_exporter": "python",
   "pygments_lexer": "ipython3",
   "version": "3.9.5"
  },
  "orig_nbformat": 4
 },
 "nbformat": 4,
 "nbformat_minor": 2
}
